{
 "cells": [
  {
   "cell_type": "code",
   "execution_count": 31,
   "metadata": {},
   "outputs": [],
   "source": [
    "import numpy as np"
   ]
  },
  {
   "cell_type": "code",
   "execution_count": null,
   "metadata": {},
   "outputs": [],
   "source": [
    "class LBM_2_Carlemann:\n",
    "    def __init__(self):\n",
    "        # Constants for the D1Q3 lattice (1D, 3 velocities)\n",
    "        self.w = np.array([2/3, 1/6, 1/6])  # Weights for D1Q3 lattice\n",
    "        self.e = np.array([0, 1, -1])  # Lattice directions: [0, +1, -1]\n",
    "        self.c_s = 1 / np.sqrt(3)  # Speed of sound for D1Q3 lattice\n",
    "\n",
    "        # Parameters\n",
    "        self.tau = 1.0  # Relaxation time\n",
    "        self.Nx = 100  # Number of grid points\n",
    "\n",
    "        # Initialize macroscopic variables: density and velocity field\n",
    "        self.h = np.ones(self.Nx)  # height field\n",
    "        self.u = np.zeros(self.Nx)  # Velocity field\n",
    "\n",
    "        # Initialize distribution functions (f_i), f has 3 directions (D1Q3)\n",
    "        self.f = np.zeros((self.Nx, 3))  # Distribution functions for D1Q3\n",
    "        self.feq = np.zeros_like(self.f)  # Equilibrium distribution functions\n",
    "\n",
    "    # Helper function to compute the equilibrium distribution function for D1Q3\n",
    "    def equilibrium(self):\n",
    "        \"\"\"\n",
    "        Compute the equilibrium distribution function f_i^{(eq)} based on macroscopic variables.\n",
    "        \"\"\"\n",
    "        feq = np.zeros((self.Nx, 3))\n",
    "        usqr = self.u**2  # squared velocity\n",
    "        for m in range(3):\n",
    "            cu = self.e[m] * self.u  # Dot product of e_i and velocity\n",
    "            self.feq[:, m] = self.w[m] * self.h * (1 + 3 * cu / self.c_s*2 + 9 / 2 * (cu / self.c_s)**2 - 3 / 2 * usqr / self.c_s*2)\n",
    "    \n",
    "    # Helper function to compute moments (density and momentum)\n",
    "    def compute_moments(self):\n",
    "        \"\"\"\n",
    "        Compute the moments of the distribution function.\n",
    "        Moment 0: Density, Moment 1: Momentum\n",
    "        \"\"\"\n",
    "        moment_0 = np.sum(self.f, axis=-1)  # Moment 0: density\n",
    "        moment_1 = np.sum(self.f * self.e, axis=-1)  # Moment 1: momentum (density * velocity)\n",
    "        return moment_0, moment_1\n",
    "    \n",
    "\n",
    "    # Function to build the Carleman linearization matrices\n",
    "    def carleman_linearization_matrices(self, order=2):\n",
    "        \"\"\"\n",
    "        This function computes the Carleman linearization matrices from the Lattice Boltzmann equation.\n",
    "        It approximates the non-linear system in terms of moments (density, velocity, etc.).\n",
    "        \"\"\"\n",
    "        # First, compute the equilibrium distribution function\n",
    "        feq = self.equilibrium()\n",
    "\n",
    "        # Compute moments: density (moment_0), momentum (moment_1)\n",
    "        moment_0, moment_1 = self.compute_moments()\n",
    "\n",
    "        # Now, we form the linearized system matrices for the moments\n",
    "        # The system of equations for the moments is in the form:\n",
    "        # Moment derivatives = A * Moment + B\n",
    "        # Where A is a matrix representing the linear system and B is a bias term.\n",
    "\n",
    "        # Let's form the Carleman linearization matrices for moments up to the 2nd order\n",
    "        # For simplicity, we keep the linearization up to the 1st moment (density and velocity)\n",
    "        \n",
    "        # Linearized system matrix for the first moment (density)\n",
    "        A_00 = np.sum(self.w)  # Coefficients for the first moment (density)\n",
    "        A_01 = np.sum(self.w * self.e)  # Coefficients for the second moment (velocity)\n",
    "        \n",
    "        # Linearized system matrix for the second moment (velocity)\n",
    "        A_10 = np.sum(self.w * self.e)  # Coefficients for the second moment (density)\n",
    "        A_11 = np.sum(self.w * self.e**2)  # Coefficients for the second moment (momentum)\n",
    "\n",
    "        # Assemble the Carleman linearization matrices A (for moments) and B (bias terms)\n",
    "        A = np.array([[A_00, A_01], [A_10, A_11]])\n",
    "        B = np.array([np.sum(self.w * feq[:, 0]), np.sum(self.w * feq[:, 1])])\n",
    "\n",
    "        return A, B"
   ]
  },
  {
   "cell_type": "code",
   "execution_count": 33,
   "metadata": {},
   "outputs": [
    {
     "name": "stdout",
     "output_type": "stream",
     "text": [
      "Carleman Linearization Matrix A (Moment Dynamics): \n",
      " [1. 0.]\n",
      "Carleman Linearization Matrix B (Bias Terms): \n",
      " [0.         0.33333333]\n"
     ]
    }
   ],
   "source": [
    "Matrix_C = LBM_2_Carlemann()\n",
    "\n",
    "# Main simulation loop to compute the matrices at each time step\n",
    "for t in range(1000):\n",
    "    # Compute the equilibrium distribution function\n",
    "\n",
    "    # Carleman linearization of the LBE to obtain matrices A and B\n",
    "    A, B = Matrix_C.carleman_linearization_matrices( order=2)\n",
    "\n",
    "    # Update the distribution function (based on the LBE and relaxation time tau)\n",
    "    Matrix_C.f += (1 / Matrix_C.tau) * (Matrix_C.feq - Matrix_C.f)\n",
    "    \n",
    "    # Compute macroscopic variables (density and velocity) from the distribution functions\n",
    "    h = np.sum(Matrix_C.f, axis=-1)  # Compute density\n",
    "    u = (Matrix_C.f[:, 1] - Matrix_C.f[:, 2]) / h  # Compute velocity\n",
    "\n",
    "# Print the Carleman linearization matrices after the loop\n",
    "print(\"Carleman Linearization Matrix A (Moment Dynamics): \\n\", A)\n",
    "print(\"Carleman Linearization Matrix B (Bias Terms): \\n\", B)"
   ]
  }
 ],
 "metadata": {
  "kernelspec": {
   "display_name": "Python 3",
   "language": "python",
   "name": "python3"
  },
  "language_info": {
   "codemirror_mode": {
    "name": "ipython",
    "version": 3
   },
   "file_extension": ".py",
   "mimetype": "text/x-python",
   "name": "python",
   "nbconvert_exporter": "python",
   "pygments_lexer": "ipython3",
   "version": "3.9.10"
  }
 },
 "nbformat": 4,
 "nbformat_minor": 2
}
