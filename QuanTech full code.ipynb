{
 "cells": [
  {
   "cell_type": "markdown",
   "metadata": {},
   "source": [
    "# QuantumOverflow - Full code"
   ]
  },
  {
   "cell_type": "markdown",
   "metadata": {},
   "source": [
    "Overview:\n",
    "1. Derive Carleman-linearized Lattice Boltzmann SWE equation for given number of grid points & dimensions\n",
    "2. Encode the resulting CL-LBE matrix in a linear evolution using the forward Euler approximation\n",
    "3. Solve the system classically by means of matrix inversion"
   ]
  },
  {
   "cell_type": "markdown",
   "metadata": {},
   "source": [
    "### Carleman linearisation and Lattice Boltzmann formalism "
   ]
  },
  {
   "cell_type": "markdown",
   "metadata": {},
   "source": [
    "Define Carleman linearisation applied to the LBM "
   ]
  },
  {
   "cell_type": "code",
   "execution_count": 32,
   "metadata": {},
   "outputs": [],
   "source": [
    "import numpy as np\n",
    "import sys\n",
    "\n",
    "class LBM_2_Carlemann:\n",
    "    def __init__(self):\n",
    "        # Constants for the D1Q3 lattice (1D, 3 velocities)\n",
    "        self.w = np.array([2/3, 1/6, 1/6])  # Weights for D1Q3 lattice\n",
    "        self.e = np.array([0, 1, -1])  # Lattice directions: [0, +1, -1]\n",
    "        self.c_s = 1 / np.sqrt(3)  # Speed of sound for D1Q3 lattice...is this the delta_x\\delta_t ??\n",
    "        self.g = 9.81  # Acceleration due to gravity (m/s^2)\n",
    "        self.kn = 0.000000001 #Knudsen number, much less than 1 for chapman-enskogg expansion\n",
    "\n",
    "        # Parameters\n",
    "        self.tau = 1.0  # Relaxation time\n",
    "        self.Nx = 5  # Number of grid points...my code for the F matrices makes the kernel die if this number is 81 or higher\n",
    "        self.L = 10.0  # Length of the domain (in meters)\n",
    "\n",
    "        # Initialize macroscopic variables: density(height) and velocity field\n",
    "        self.h = np.ones(self.Nx)  # height field\n",
    "        self.u = np.zeros(self.Nx)  # Velocity field\n",
    "\n",
    "        # Initialize distribution functions (f_i), f has 3 directions (D1Q3)\n",
    "        self.f = np.zeros((self.Nx, 3))  # Distribution functions for D1Q3\n",
    "        self.feq = np.zeros_like(self.f)  # Equilibrium distribution functions\n",
    "\n",
    "     #return a 1D array with one non-zero element of value 1 at specified index\n",
    "    def one_nonzero(self,dim, n):\n",
    "        array = np.zeros((dim))\n",
    "        if n>-1 and n<dim:\n",
    "            array[n] = 1\n",
    "        return array\n",
    "    #make the F matrices for the collision matrix for n grid points\n",
    "    def gen_F(self):\n",
    "        f1 = np.zeros((3,3))\n",
    "        f1[0,1] = f1[0,2] = 1\n",
    "        f1[1,1] = 1/(2*self.c_s) - 1\n",
    "        f1[1,2] = -1/(2*self.c_s)\n",
    "        f1[2,1] = -1/(2*self.c_s)\n",
    "        f1[2,2] = 1/(2*self.c_s) -1\n",
    "        f1 = (1/(self.tau*self.kn))*f1\n",
    "        \n",
    "        f2 = np.zeros((3,9))\n",
    "        for i in range(9):\n",
    "            f2[0,i] = -self.g\n",
    "            f2[1,i]  = self.g\n",
    "            f2[2,i]  = self.g\n",
    "        f2[0,4] = f2[0,4] -4 \n",
    "        f2[0,8] = f2[0,8] -4\n",
    "        f2[0,5] = f2[0,5] +4 \n",
    "        f2[0,7] = f2[0,7] +4\n",
    "        for i in range(2):\n",
    "            f2[i+1, 4] = f2[i+1, 4] +2\n",
    "            f2[i+1, 8] = f2[i+1, 8] +2\n",
    "\n",
    "            f2[i+1, 5] = f2[i+1, 5] -2\n",
    "            f2[i+1, 7] = f2[i+1, 7] -2\n",
    "        f2 = (1/(2*self.tau*self.kn*self.c_s**2))*f2\n",
    "\n",
    "        f3 = np.zeros((3,9))\n",
    "        f3[0,4] = 2\n",
    "        f3[0,8] = 2\n",
    "        f3[0,5] = -2 \n",
    "        f3[0,7] = -2\n",
    "        for i in range(2):\n",
    "            f3[i+1, 4] = -1\n",
    "            f3[i+1, 8] = -1\n",
    "\n",
    "            f3[i+1, 5] = 1\n",
    "            f3[i+1, 7] = 1\n",
    "        f3 = np.hstack((f3,f3,f3))\n",
    "        f3 = (1/(self.tau*self.kn))*f3\n",
    "\n",
    "        #generalise to n grid points...strategy is to stack matrices, not create matrix of matrices I think...?\n",
    "        n = self.Nx\n",
    "        Q = len(self.e)\n",
    "        '''\n",
    "        F1 = np.zeros((dim,Q, dim*Q))\n",
    "        F2 = np.zeros((dim,Q, (dim**2)*(Q**2)))\n",
    "        F3 = np.zeros((dim,Q, (dim**3)*(Q**3)))\n",
    "        '''\n",
    "        I = self.one_nonzero(n, 0)\n",
    "        F1 = np.kron(I, f1)\n",
    "        F2 = np.kron(np.kron(I,I) , f2)\n",
    "        F3 = np.kron(np.kron(np.kron(I, I), I), f3)\n",
    "        \n",
    "\n",
    "        for i in range(n-1):\n",
    "            I = self.one_nonzero(n, i+1)\n",
    "            F1 = np.vstack((F1, np.kron(I, f1)))\n",
    "            F2 = np.vstack((F2, np.kron(np.kron(I,I) , f2)))\n",
    "            F3 = np.vstack((F3, np.kron(np.kron(np.kron(I, I), I), f3)))\n",
    "        \n",
    "        return F1,F2,F3\n",
    "        \n",
    "    #make A matrices for the collision matrix\n",
    "    def gen_A(self, F1,F2,F3):\n",
    "        A11 = F1\n",
    "        A12 = F2\n",
    "        A13 = F3\n",
    "        Q= len(self.e)\n",
    "        n = self.Nx\n",
    "        dim = n*Q\n",
    "        I = np.identity(dim)\n",
    "        A22 = np.kron(F1,I) + np.kron(I, F1)\n",
    "        #slows down at A22, kernel dies after with Nx = 50\n",
    "        A23 = np.kron(F2,I) + np.kron(I, F2)\n",
    "        A33 = np.kron(np.kron(F1,I), I) + np.kron(np.kron(I,F1), I) + np.kron(np.kron(I,I), F1)\n",
    "\n",
    "        return A11, A12, A13, A22, A23, A33\n",
    "    #make collision matrix \n",
    "    def gen_collision(self, A11, A12, A13, A22, A23, A33):\n",
    "        C1 = np.vstack((A11,np.zeros((A22.shape[0]+A33.shape[0],A11.shape[1]))))\n",
    "        C2 = np.vstack((A12,A22,np.zeros((A33.shape[0],A12.shape[1]))))\n",
    "        C3 = np.vstack((A13, A23, A33))\n",
    "\n",
    "        Cc = np.hstack((C1,C2,C3))\n",
    "\n",
    "        return Cc\n",
    "    \n",
    "    #make streaming matrix, restricted to NN, 2nd order accuracy...only makes sense if we are considering more than 1 grid point\n",
    "    def gen_streaming(self):\n",
    "        Q= len(self.e)\n",
    "        n = self.Nx\n",
    "        inv_delta = n/(2*self.L)\n",
    "        dim = n*Q\n",
    "        I = np.identity(dim)\n",
    "        S = np.zeros((dim, dim))\n",
    "        for i in range(dim):\n",
    "            #deal with edge case here...periodic or bounce back BC...here I do code for periodic\n",
    "            if i<Q:\n",
    "                S[i,i+Q] = inv_delta*self.e[(i%3)-1]\n",
    "                S[i, (dim-Q)+i] = -inv_delta*self.e[(i%3)-1]\n",
    "            elif i>dim -Q - 1:\n",
    "                S[i,dim-i] = inv_delta*self.e[(i%3)-1]\n",
    "                S[i,i-Q] = -inv_delta*self.e[(i%3)-1]\n",
    "            else:\n",
    "                S[i,i+Q] = inv_delta*self.e[(i%3)-1]\n",
    "                S[i,i-Q] = -inv_delta*self.e[(i%3)-1]\n",
    "\n",
    "        B11 = S\n",
    "        B22 = np.kron(S,I) + np.kron(I, S)\n",
    "        B33 = np.kron(np.kron(S,I), I) + np.kron(np.kron(I,S), I) + np.kron(np.kron(I,I), S)\n",
    "\n",
    "        C1 = np.vstack((B11,np.zeros((B22.shape[0]+B33.shape[0],B11.shape[1]))))\n",
    "        C2 = np.vstack((np.zeros((B11.shape[0],B22.shape[1])),B22,np.zeros((B33.shape[0],B22.shape[1]))))\n",
    "        C3 = np.vstack((np.zeros((B11.shape[0]+B22.shape[0],B33.shape[1])), B33))\n",
    "\n",
    "        Cs = np.hstack((C1,C2,C3))\n",
    "\n",
    "        return Cs\n"
   ]
  },
  {
   "cell_type": "markdown",
   "metadata": {},
   "source": [
    "Test matrix for correct dimensions"
   ]
  },
  {
   "cell_type": "code",
   "execution_count": 33,
   "metadata": {},
   "outputs": [
    {
     "name": "stdout",
     "output_type": "stream",
     "text": [
      "This is the dimension of C: \n",
      " (3615, 3615)\n",
      "checking the dimensions of the matrices \n",
      "\n",
      "dim Matrix F1: \n",
      " (15, 15)\n",
      "dim Matrix F2: \n",
      " (15, 225)\n",
      "dim Matrix F3: \n",
      " (15, 3375)\n",
      " \n",
      "\n"
     ]
    }
   ],
   "source": [
    "Matrix_C = LBM_2_Carlemann()\n",
    "F1,F2,F3  = Matrix_C.gen_F()\n",
    "\n",
    "A11, A12, A13, A22, A23, A33 = Matrix_C.gen_A(F1,F2,F3)\n",
    "Cc = Matrix_C.gen_collision(A11, A12, A13, A22, A23, A33)\n",
    "Cs = Matrix_C.gen_streaming()\n",
    "\n",
    "CL_LBE_Matrix = Cc +Cs\n",
    "print(\"This is the dimension of C: \\n\", CL_LBE_Matrix.shape)\n",
    "#print collision matrix and intermediate matrices\n",
    "np.set_printoptions(threshold=sys.maxsize)\n",
    "print(\"checking the dimensions of the matrices \\n\")\n",
    "print(\"dim Matrix F1: \\n\", F1.shape)\n",
    "print(\"dim Matrix F2: \\n\", F2.shape)\n",
    "print(\"dim Matrix F3: \\n\", F3.shape)\n",
    "print(\" \\n\")"
   ]
  },
  {
   "cell_type": "markdown",
   "metadata": {},
   "source": [
    "### Map the CL-LBE (ODE) to a LSE via the forward Euler approx."
   ]
  },
  {
   "cell_type": "markdown",
   "metadata": {},
   "source": [
    "Embed (ODE) matrix in LSE by \"rolling out\" the time steps"
   ]
  },
  {
   "cell_type": "code",
   "execution_count": 34,
   "metadata": {},
   "outputs": [],
   "source": [
    "def embed_matrix(C, delta_t, num_steps):\n",
    "    \"\"\"\n",
    "    Embeds a matrix C into a larger matrix A with specified properties.\n",
    "\n",
    "    Parameters:\n",
    "        C (np.ndarray): The matrix to embed (must be square).\n",
    "        delta_t (float): The length of each time step.\n",
    "        num_steps (int): The number of time steps (and thus of cascaded blocks in A).\n",
    "\n",
    "    Returns:\n",
    "        np.ndarray: The constructed matrix A.\n",
    "    \"\"\"\n",
    "    # Validate inputs\n",
    "    if not (isinstance(C, np.ndarray) and C.ndim == 2 and C.shape[0] == C.shape[1]):\n",
    "        raise ValueError(\"C must be a square matrix.\")\n",
    "\n",
    "    # Identity matrix with the same size as C\n",
    "    Id = np.eye(C.shape[0])\n",
    "\n",
    "    # Compute -O = -(Id + delta_t * C)\n",
    "    O = -(Id + delta_t * C)\n",
    "\n",
    "    # Size of the large matrix A\n",
    "    A_size = num_steps * C.shape[0]\n",
    "\n",
    "    # Initialize A as a zero matrix\n",
    "    A = np.zeros((A_size, A_size))\n",
    "\n",
    "    # Fill in the diagonal blocks\n",
    "    for i in range(num_steps):\n",
    "        # Main diagonal (Identity blocks)\n",
    "        start_idx = i * C.shape[0]\n",
    "        A[start_idx:start_idx + C.shape[0], start_idx:start_idx + C.shape[0]] = Id\n",
    "\n",
    "        # Secondary diagonal (-O blocks)\n",
    "        if i > 0:\n",
    "            prev_idx = (i - 1) * C.shape[0]\n",
    "            A[start_idx:start_idx + C.shape[0], prev_idx:prev_idx + C.shape[0]] = O\n",
    "\n",
    "    return A"
   ]
  },
  {
   "cell_type": "markdown",
   "metadata": {},
   "source": [
    "Test demonstration:"
   ]
  },
  {
   "cell_type": "code",
   "execution_count": 35,
   "metadata": {},
   "outputs": [
    {
     "name": "stdout",
     "output_type": "stream",
     "text": [
      "Matrix A:\n",
      "[[ 1.   0.   0.   0.   0.   0. ]\n",
      " [ 0.   1.   0.   0.   0.   0. ]\n",
      " [-1.2 -0.1  1.   0.   0.   0. ]\n",
      " [-0.  -1.3  0.   1.   0.   0. ]\n",
      " [ 0.   0.  -1.2 -0.1  1.   0. ]\n",
      " [ 0.   0.  -0.  -1.3  0.   1. ]]\n"
     ]
    }
   ],
   "source": [
    "C_test = np.array([[2, 1], [0, 3]])\n",
    "delta_t = 0.1\n",
    "num_steps = 3\n",
    "A = embed_matrix(C_test, delta_t, num_steps)\n",
    "print(\"Matrix A:\")\n",
    "print(A)"
   ]
  },
  {
   "cell_type": "markdown",
   "metadata": {},
   "source": [
    "Apply to Carleman matrix from above given a set of paramters:"
   ]
  },
  {
   "cell_type": "code",
   "execution_count": 36,
   "metadata": {},
   "outputs": [],
   "source": [
    "N_t = 3  # Number of time steps\n",
    "delta_t = 0.1  # Time step size\n",
    "Lin_Euler_Matrix = embed_matrix(CL_LBE_Matrix, delta_t, N_t)"
   ]
  },
  {
   "cell_type": "markdown",
   "metadata": {},
   "source": [
    "### Embed initial state vector in Euler-approx. formalism"
   ]
  },
  {
   "cell_type": "markdown",
   "metadata": {},
   "source": [
    "Define initial state vector (as you would for a regular LBM system)"
   ]
  },
  {
   "cell_type": "code",
   "execution_count": 37,
   "metadata": {},
   "outputs": [],
   "source": [
    "initial_distribution = (1,2,3)  # Function of 3 values in the 1D case"
   ]
  },
  {
   "cell_type": "markdown",
   "metadata": {},
   "source": [
    "Define CL-linearized state vector"
   ]
  },
  {
   "cell_type": "code",
   "execution_count": 38,
   "metadata": {},
   "outputs": [
    {
     "name": "stdout",
     "output_type": "stream",
     "text": [
      "10845\n"
     ]
    }
   ],
   "source": [
    "f1 = initial_distribution\n",
    "f2 = np.kron(f1,f1)\n",
    "f3 = np.kron(f2,f1)\n",
    "\n",
    "def create_concatenated_vector(N, f1, f2, f3):\n",
    "    # Repeat f1 3*N times\n",
    "    repeated_f1 = np.tile(f1, N)\n",
    "    # Repeat f2 9*N^2 times\n",
    "    repeated_f2 = np.tile(f2, (N**2))\n",
    "    # Repeat f3 27*N^3 times\n",
    "    repeated_f3 = np.tile(f3, (N**3))\n",
    "    # Concatenate all repeated arrays\n",
    "    concatenated_vector = np.concatenate((repeated_f1, repeated_f2, repeated_f3))\n",
    "    return concatenated_vector\n",
    "\n",
    "N_grid = 5\n",
    "phi_t0 = create_concatenated_vector(N_grid, f1, f2, f3)\n",
    "\n",
    "def append_zeros(f, N):\n",
    "    # Ensure `f` is a NumPy array\n",
    "    f = np.array(f)\n",
    "\n",
    "    # Create N zero vectors of the same shape as `f`\n",
    "    zero_vector = np.zeros_like(f)\n",
    "    zeros_to_append = np.tile(zero_vector, (N-1,))\n",
    "\n",
    "    # Concatenate `f` with the appended zeros\n",
    "    result = np.concatenate([f, zeros_to_append])\n",
    "\n",
    "    return result\n",
    "\n",
    "phi = append_zeros(phi_t0, N_t)\n",
    "print(phi.shape[0])"
   ]
  },
  {
   "cell_type": "markdown",
   "metadata": {},
   "source": [
    "Check that dimensions of matrix and state vector match"
   ]
  },
  {
   "cell_type": "code",
   "execution_count": 40,
   "metadata": {},
   "outputs": [
    {
     "name": "stdout",
     "output_type": "stream",
     "text": [
      "10845\n",
      "Dimensions match check: True\n"
     ]
    }
   ],
   "source": [
    "\n",
    "def check_matrix_vector_dimensions(matrix, vector):\n",
    "    # Check if the matrix is square\n",
    "    if matrix.shape[0] != matrix.shape[1]:\n",
    "        raise ValueError(\"The input matrix is not square (quadratic).\")\n",
    "    \n",
    "    # Check if the number of rows/columns matches the vector's length\n",
    "    return matrix.shape[0] == vector.shape[0]\n",
    "\n",
    "\n",
    "result = check_matrix_vector_dimensions(Lin_Euler_Matrix, phi)\n",
    "print(Lin_Euler_Matrix.shape[0])\n",
    "print(\"Dimensions match check:\", result)"
   ]
  },
  {
   "cell_type": "markdown",
   "metadata": {},
   "source": [
    "### Solve system classically "
   ]
  },
  {
   "cell_type": "markdown",
   "metadata": {},
   "source": [
    "First check for condition number to estimate range of error"
   ]
  },
  {
   "cell_type": "code",
   "execution_count": 45,
   "metadata": {},
   "outputs": [
    {
     "name": "stdout",
     "output_type": "stream",
     "text": [
      "Condition number: 3.9375469654624375e+26\n"
     ]
    }
   ],
   "source": [
    "from numpy.linalg import cond\n",
    "\n",
    "kappa = cond(Lin_Euler_Matrix)\n",
    "print(\"Condition number:\", kappa)"
   ]
  },
  {
   "cell_type": "markdown",
   "metadata": {},
   "source": [
    "Solve matrix using Conjugate Gradient method"
   ]
  }
 ],
 "metadata": {
  "kernelspec": {
   "display_name": "spyder-env",
   "language": "python",
   "name": "python3"
  },
  "language_info": {
   "codemirror_mode": {
    "name": "ipython",
    "version": 3
   },
   "file_extension": ".py",
   "mimetype": "text/x-python",
   "name": "python",
   "nbconvert_exporter": "python",
   "pygments_lexer": "ipython3",
   "version": "3.11.0"
  }
 },
 "nbformat": 4,
 "nbformat_minor": 2
}
