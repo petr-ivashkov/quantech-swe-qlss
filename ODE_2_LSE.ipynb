{
 "cells": [
  {
   "cell_type": "code",
   "execution_count": 246,
   "metadata": {},
   "outputs": [],
   "source": [
    "import numpy as np"
   ]
  },
  {
   "cell_type": "code",
   "execution_count": 247,
   "metadata": {},
   "outputs": [],
   "source": [
    "class ODE_2_LSE:\n",
    "\n",
    "    def __init__(self, A, initial_condition, m ,k ,p , h):\n",
    "        self.A = A #gothic C\n",
    "        self.N = A.shape[0] #dimension A\n",
    "        self.IC = initial_condition #x_in\n",
    "        self.m = m #steps\n",
    "        self.k = k # oredr taylor truncation\n",
    "        self.p = p #timesteps sol is constant\n",
    "        self.h = h #evolution time\n",
    "        self.d = m * (k + 1) + p\n",
    "\n",
    "    def build_C(self):\n",
    "        C = np.eye(self.N*(self.d+1))\n",
    "\n",
    "        for i in range(self.m):\n",
    "            for j in range(1, self.k + 1):\n",
    "                row = i * (self.k + 1) + j\n",
    "                col = i * (self.k + 1) + j - 1\n",
    "                C[row*self.N:(row+1)*self.N, col*self.N:(col+1)*self.N] = -1*self.A / j\n",
    "\n",
    "        for i in range(self.m):\n",
    "            for j in range(self.k + 1):\n",
    "                row = (i+1) * (self.k + 1)\n",
    "                col = i * (self.k + 1) + j\n",
    "                C[row*self.N:(row+1)*self.N, col*self.N:(col+1)*self.N]=-1* np.eye(self.N)\n",
    "\n",
    "\n",
    "\n",
    "        \n",
    "        for j in range(self.d - self.p + 1, self.d + 1):\n",
    "            row = j\n",
    "            col = j - 1\n",
    "            C[row*self.N:(row+1)*self.N, col*self.N:(col+1)*self.N] =-1* np.eye(self.N)\n",
    "            \n",
    "        return C\n",
    "\n"
   ]
  },
  {
   "cell_type": "code",
   "execution_count": 248,
   "metadata": {},
   "outputs": [
    {
     "name": "stdout",
     "output_type": "stream",
     "text": [
      "[[ 1.  0.  0.  0.  0.  0.  0.  0.  0.  0.  0.  0.  0.  0.  0.  0.  0.  0.\n",
      "   0.  0.  0.  0.]\n",
      " [ 0.  1.  0.  0.  0.  0.  0.  0.  0.  0.  0.  0.  0.  0.  0.  0.  0.  0.\n",
      "   0.  0.  0.  0.]\n",
      " [-6. -6.  1.  0.  0.  0.  0.  0.  0.  0.  0.  0.  0.  0.  0.  0.  0.  0.\n",
      "   0.  0.  0.  0.]\n",
      " [-6. -6.  0.  1.  0.  0.  0.  0.  0.  0.  0.  0.  0.  0.  0.  0.  0.  0.\n",
      "   0.  0.  0.  0.]\n",
      " [ 0.  0. -3. -3.  1.  0.  0.  0.  0.  0.  0.  0.  0.  0.  0.  0.  0.  0.\n",
      "   0.  0.  0.  0.]\n",
      " [ 0.  0. -3. -3.  0.  1.  0.  0.  0.  0.  0.  0.  0.  0.  0.  0.  0.  0.\n",
      "   0.  0.  0.  0.]\n",
      " [ 0.  0.  0.  0. -2. -2.  1.  0.  0.  0.  0.  0.  0.  0.  0.  0.  0.  0.\n",
      "   0.  0.  0.  0.]\n",
      " [ 0.  0.  0.  0. -2. -2.  0.  1.  0.  0.  0.  0.  0.  0.  0.  0.  0.  0.\n",
      "   0.  0.  0.  0.]\n",
      " [-1. -0. -1. -0. -1. -0. -1. -0.  1.  0.  0.  0.  0.  0.  0.  0.  0.  0.\n",
      "   0.  0.  0.  0.]\n",
      " [-0. -1. -0. -1. -0. -1. -0. -1.  0.  1.  0.  0.  0.  0.  0.  0.  0.  0.\n",
      "   0.  0.  0.  0.]\n",
      " [ 0.  0.  0.  0.  0.  0.  0.  0. -6. -6.  1.  0.  0.  0.  0.  0.  0.  0.\n",
      "   0.  0.  0.  0.]\n",
      " [ 0.  0.  0.  0.  0.  0.  0.  0. -6. -6.  0.  1.  0.  0.  0.  0.  0.  0.\n",
      "   0.  0.  0.  0.]\n",
      " [ 0.  0.  0.  0.  0.  0.  0.  0.  0.  0. -3. -3.  1.  0.  0.  0.  0.  0.\n",
      "   0.  0.  0.  0.]\n",
      " [ 0.  0.  0.  0.  0.  0.  0.  0.  0.  0. -3. -3.  0.  1.  0.  0.  0.  0.\n",
      "   0.  0.  0.  0.]\n",
      " [ 0.  0.  0.  0.  0.  0.  0.  0.  0.  0.  0.  0. -2. -2.  1.  0.  0.  0.\n",
      "   0.  0.  0.  0.]\n",
      " [ 0.  0.  0.  0.  0.  0.  0.  0.  0.  0.  0.  0. -2. -2.  0.  1.  0.  0.\n",
      "   0.  0.  0.  0.]\n",
      " [ 0.  0.  0.  0.  0.  0.  0.  0. -1. -0. -1. -0. -1. -0. -1. -0.  1.  0.\n",
      "   0.  0.  0.  0.]\n",
      " [ 0.  0.  0.  0.  0.  0.  0.  0. -0. -1. -0. -1. -0. -1. -0. -1.  0.  1.\n",
      "   0.  0.  0.  0.]\n",
      " [ 0.  0.  0.  0.  0.  0.  0.  0.  0.  0.  0.  0.  0.  0.  0.  0. -1. -0.\n",
      "   1.  0.  0.  0.]\n",
      " [ 0.  0.  0.  0.  0.  0.  0.  0.  0.  0.  0.  0.  0.  0.  0.  0. -0. -1.\n",
      "   0.  1.  0.  0.]\n",
      " [ 0.  0.  0.  0.  0.  0.  0.  0.  0.  0.  0.  0.  0.  0.  0.  0.  0.  0.\n",
      "  -1. -0.  1.  0.]\n",
      " [ 0.  0.  0.  0.  0.  0.  0.  0.  0.  0.  0.  0.  0.  0.  0.  0.  0.  0.\n",
      "  -0. -1.  0.  1.]]\n"
     ]
    }
   ],
   "source": [
    "A=np.ones((2,2))*6\n",
    "m = 2\n",
    "k = 3\n",
    "p = 2\n",
    "h = 1\n",
    "initial_condition=np.zeros(10)\n",
    "\n",
    "Matrix_C = ODE_2_LSE(A, initial_condition, m ,k ,p , h)\n",
    "\n",
    "C = Matrix_C.build_C()\n",
    "\n",
    "print(C)"
   ]
  }
 ],
 "metadata": {
  "kernelspec": {
   "display_name": "Python 3",
   "language": "python",
   "name": "python3"
  },
  "language_info": {
   "codemirror_mode": {
    "name": "ipython",
    "version": 3
   },
   "file_extension": ".py",
   "mimetype": "text/x-python",
   "name": "python",
   "nbconvert_exporter": "python",
   "pygments_lexer": "ipython3",
   "version": "3.9.10"
  }
 },
 "nbformat": 4,
 "nbformat_minor": 2
}
