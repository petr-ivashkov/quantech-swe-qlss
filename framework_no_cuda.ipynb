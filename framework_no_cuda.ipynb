{
 "cells": [
  {
   "cell_type": "code",
   "execution_count": 472,
   "metadata": {},
   "outputs": [],
   "source": [
    "import numpy as np\n",
    "import scipy.linalg\n",
    "#import cudaq\n",
    "\n",
    "import poly\n",
    "import sym_qsp_opt\n",
    " \n",
    "import matplotlib.pyplot as plt"
   ]
  },
  {
   "cell_type": "code",
   "execution_count": 473,
   "metadata": {},
   "outputs": [],
   "source": [
    "# Classical Linear System Solver\n",
    "class ClassicalSolver:\n",
    "    def __init__(self, A, b):\n",
    "        self.A = A\n",
    "        self.b = b\n",
    "\n",
    "    def solve(self):\n",
    "        \"\"\"\n",
    "        Solves the linear system Ax = b using a classical solver.\n",
    "        \n",
    "        Returns:\n",
    "            x: Solution vector.\n",
    "        \"\"\"\n",
    "        x = scipy.linalg.solve(self.A, self.b)  # Using SciPy's solver for Ax = b\n",
    "        return x"
   ]
  },
  {
   "cell_type": "code",
   "execution_count": 474,
   "metadata": {},
   "outputs": [],
   "source": [
    "class QuantumSolverQSVT:\n",
    "    def __init__(self, A, b, epsilon=1e-1, phases=None):\n",
    "        \"\"\"\n",
    "        Initializes the QuantumSolverQSVT with matrix A and vector b.\n",
    "        \n",
    "        Parameters:\n",
    "            A (numpy.ndarray): The coefficient matrix for the linear system.\n",
    "            b (numpy.ndarray): The right-hand side vector of the linear system.\n",
    "        \"\"\"\n",
    "        self.A = A\n",
    "        self.b = b\n",
    "        # TODO: alpha and kappa may need to be replaced by their respective upper bounds\n",
    "        self.alpha = np.linalg.norm(A, ord=2)  # Spectral norm\n",
    "        self.eigenvalues, self.eigenvetor= np.linalg.eig(A)\n",
    "        self.A_rescaled = self.A / self.alpha\n",
    "        self.kappa = np.linalg.cond(A) # Condition number\n",
    "        self.b_norm = np.linalg.norm(b) # Normalization \n",
    "        self.epsilon = epsilon # Desired presision\n",
    "        self.N = len(b)\n",
    "        self.n = int(np.log2(self.N))\n",
    "        self.m = 1 # Number of ancillas for the blocj-encoding of A\n",
    "        self.f = 1 #flags where to apply Pi\n",
    "\n",
    "        if phases is None:\n",
    "        # if False:\n",
    "            pg = poly.PolyOneOverX()\n",
    "            pcoefs, scale = pg.generate(kappa=self.kappa, \n",
    "                                        epsilon=self.epsilon, \n",
    "                                        chebyshev_basis=True, \n",
    "                                        return_scale=True)\n",
    "            # Using odd parity and instantiating desired coefficeints.\n",
    "            parity = 1\n",
    "            coef = pcoefs[parity::2]\n",
    "            # Optimize to the desired function using Newton solver.\n",
    "            crit = 1e-12\n",
    "            (phases, err, total_iter, qsp_seq_opt) = sym_qsp_opt.newton_solver(coef, parity, crit=crit)\n",
    "        self.phases = phases    \n",
    "        self.d = len(self.phases) - 1\n",
    "\n",
    "    def is_proper_quantum_state(self, vector):\n",
    "        \"\"\"\n",
    "        Check if a vector is a valid quantum state.\n",
    "        \n",
    "        Parameters:\n",
    "            vector (numpy.ndarray): The vector to check.\n",
    "            \n",
    "        Returns:\n",
    "            bool: True if the vector is a valid quantum state, False otherwise.\n",
    "        \"\"\"\n",
    "        # Ensure the input is a NumPy array\n",
    "        vector = np.array(vector, dtype=np.complex128)\n",
    "        \n",
    "        # Check normalization\n",
    "        norm = np.linalg.norm(vector)  # Calculate the L2 norm\n",
    "        is_normalized = np.isclose(norm, 1.0)\n",
    "        \n",
    "        # Ensure it's not an empty vector\n",
    "        is_nonempty = vector.size > 0\n",
    "\n",
    "        return is_nonempty and is_normalized\n",
    "\n",
    "    def _block_encode_A(self):\n",
    "        \"\"\"\n",
    "        Creates a block-encoded unitary matrix U that embeds A / alpha in its top-left block.\n",
    "        \"\"\"\n",
    "        I = np.eye(self.A_rescaled.shape[0])\n",
    "        top_right_block = scipy.linalg.sqrtm(I - self.A_rescaled @ self.A_rescaled.T.conj())\n",
    "        bottom_left_block = scipy.linalg.sqrtm(I - self.A_rescaled.T.conj() @ self.A_rescaled)\n",
    "\n",
    "        U = np.block([[self.A_rescaled, top_right_block],\n",
    "                      [bottom_left_block, -1*self.A_rescaled.T.conj()]])\n",
    "        U_T = U.T\n",
    "        return U, U_T\n",
    "\n",
    "    def _state_preparation_b(self):\n",
    "        \"\"\"\n",
    "        Creates a state-preparation unitary matrix Q s.t. Q|0> = |b> / ||b>|\n",
    "        \"\"\"\n",
    "        B = np.column_stack((self.b / self.b_norm, np.random.randn(self.N, self.N - 1)))\n",
    "        # Apply QR decomposition to B to get an orthonormal basis\n",
    "        # The Q matrix from the QR decomposition will be unitary, and the first column will be b\n",
    "        Q, _ = scipy.linalg.qr(B, mode='economic')\n",
    "        return Q\n",
    "    \n",
    "    def _P(self, phi):\n",
    "        dim = int(2**(self.m+self.f))\n",
    "        P = np.diag([np.exp(1j * phi), np.exp(-1j * phi)] * (dim //2))\n",
    "        #P = np.diag([np.exp(1j * phi)] + [np.exp(-1j * phi)] * (dim - 1))\n",
    "        return P\n",
    "\n",
    "    def _build_circuit(self):\n",
    "\n",
    "        H_gate = 1/np.sqrt(2)*np.array([[1, 1], [1, -1]])\n",
    "\n",
    "        num_qubits = self.n + self.m + self.f\n",
    "\n",
    "        initial_state_circuit = np.concatenate(([1], np.zeros(2**num_qubits-1)))\n",
    "        #print(\"initial state\")\n",
    "        #print(initial_state_circuit)\n",
    "\n",
    "        U_b=self._state_preparation_b()\n",
    "\n",
    "        circuit=initial_state_circuit @ np.kron( np.eye(2**(self.m + self.f)), U_b)\n",
    "        #print(\"prepared b state\")\n",
    "        #print(circuit)\n",
    "        #print(self.is_proper_quantum_state(circuit))\n",
    "        \n",
    "        U_A, U_A_T = self._block_encode_A()\n",
    "        \n",
    "        \n",
    "        circuit= circuit @ np.kron(H_gate,np.eye(2**(self.n + self.m)))\n",
    "        #print(\"H gate\")\n",
    "        #print(circuit)\n",
    "        #print(self.is_proper_quantum_state(circuit))\n",
    "\n",
    "        circuit = circuit @ np.kron(self._P(self.phases[0]), np.eye(2**(self.n)))\n",
    "        #print(\"Pi\")\n",
    "        #print(circuit)\n",
    "        #print(self.is_proper_quantum_state(circuit))\n",
    "\n",
    "        i=0\n",
    "        for phi in reversed(self.phases[:-1]):\n",
    "\n",
    "            if i%2==0:\n",
    "                circuit = circuit @ np.kron( np.eye(2**(self.f)), U_A)\n",
    "                #print(circuit)\n",
    "                #print(self.is_proper_quantum_state(circuit))\n",
    "            else:\n",
    "                circuit = circuit @ np.kron( np.eye(2**(self.f)), U_A_T)\n",
    "                #print(circuit)\n",
    "                #print(self.is_proper_quantum_state(circuit))\n",
    "\n",
    "            circuit = circuit @ np.kron(self._P(phi), np.eye(2**(self.n)))\n",
    "            #print(circuit)\n",
    "            #print(self.is_proper_quantum_state(circuit))\n",
    "\n",
    "            i=i+1\n",
    "        \n",
    "        circuit= circuit @ np.kron(H_gate,np.eye(2**(self.n + self.m)))\n",
    "        print(self.is_proper_quantum_state(circuit))\n",
    "        print(\"circuit =\",circuit)\n",
    "\n",
    "        #readout the f, m register, they must be in state 0f 0m,\n",
    "        #then the result is in the n register\n",
    "        readout = np.zeros(2)\n",
    "\n",
    "        readout[0] = np.sqrt(sum([((np.absolute(circuit[i]))**2) for i in range(0,8,2)]))\n",
    "        readout[1] = np.sqrt(sum([((np.absolute(circuit[i]))**2) for i in range(1,8,2)]))\n",
    "\n",
    "        #readout=circuit[0:self.f+1]\n",
    "        print(self.is_proper_quantum_state(readout))\n",
    "        print(\"readout =\",readout)\n",
    "\n",
    "        #rescale the result\n",
    "        print(\"alpha=\",self.alpha)\n",
    "        rescaled=self.b_norm*(1/self.alpha)*readout#*(1/min(self.eigenvalues))\n",
    "        #rescaled=(1)*readout\n",
    "        \n",
    "        return rescaled\n",
    "    \n",
    "    def solve(self):\n",
    "        \"\"\"\n",
    "        Solves the system Ax = b using a QSVT-based inversion (placeholder).\n",
    "        \n",
    "        Returns:\n",
    "            x (numpy.ndarray): Solution vector, as if from a QSVT inversion.\n",
    "        \"\"\"\n",
    "        x = 0\n",
    "        return x"
   ]
  },
  {
   "cell_type": "code",
   "execution_count": 475,
   "metadata": {},
   "outputs": [
    {
     "name": "stdout",
     "output_type": "stream",
     "text": [
      "b=147, j0=35\n",
      "[PolyOneOverX] minimum [-7.75401864] is at [-0.09251427]: normalizing\n",
      "[sym_qsp] Iterative optimization to err 1.000e-12 or max_iter 1000.\n",
      "iter: 001 --- err: 1.891e-01\n",
      "iter: 002 --- err: 2.469e-02\n",
      "iter: 003 --- err: 9.102e-04\n",
      "iter: 004 --- err: 1.488e-06\n",
      "iter: 005 --- err: 4.041e-12\n",
      "iter: 006 --- err: 3.428e-15\n",
      "[sym_qsp] Stop criteria satisfied.\n"
     ]
    }
   ],
   "source": [
    "# # Define a test matrix A and vector b\n",
    "A = np.array([[1    ,0 ],\n",
    "              [  0  ,1/6 ]], dtype=float)\n",
    "b = np.array([1,1], dtype=float)\n",
    "solver = QuantumSolverQSVT(A,b)"
   ]
  },
  {
   "cell_type": "code",
   "execution_count": 476,
   "metadata": {},
   "outputs": [
    {
     "name": "stdout",
     "output_type": "stream",
     "text": [
      "True\n",
      "circuit = [-0.69649348-0.12205259j -0.33524917-0.61559269j  0.        +0.j\n",
      " -0.0050699 +0.09288664j  0.        +0.j          0.        +0.j\n",
      "  0.        +0.j          0.        +0.j        ]\n",
      "True\n",
      "readout = [0.70710678 0.70710678]\n",
      "alpha= 1.0\n",
      "result\n",
      "[1. 1.]\n"
     ]
    }
   ],
   "source": [
    "A_inverse_b=solver._build_circuit()\n",
    "print(\"result\")\n",
    "print((A_inverse_b))"
   ]
  },
  {
   "cell_type": "code",
   "execution_count": 477,
   "metadata": {},
   "outputs": [
    {
     "name": "stdout",
     "output_type": "stream",
     "text": [
      "[1. 6.]\n"
     ]
    }
   ],
   "source": [
    "A_inverse_b_classical = scipy.linalg.solve(A,b)\n",
    "print(A_inverse_b_classical)"
   ]
  },
  {
   "cell_type": "code",
   "execution_count": 478,
   "metadata": {},
   "outputs": [
    {
     "name": "stdout",
     "output_type": "stream",
     "text": [
      "4.999999999999999\n"
     ]
    }
   ],
   "source": [
    "distance_solutions= np.linalg.norm(A_inverse_b - A_inverse_b_classical)\n",
    "print(distance_solutions)"
   ]
  },
  {
   "cell_type": "code",
   "execution_count": 479,
   "metadata": {},
   "outputs": [
    {
     "ename": "NameError",
     "evalue": "name 'la' is not defined",
     "output_type": "error",
     "traceback": [
      "\u001b[1;31m---------------------------------------------------------------------------\u001b[0m",
      "\u001b[1;31mNameError\u001b[0m                                 Traceback (most recent call last)",
      "Cell \u001b[1;32mIn[479], line 2\u001b[0m\n\u001b[0;32m      1\u001b[0m \u001b[38;5;66;03m# shift and scale the spectrum to be in [dist, pi-dist]\u001b[39;00m\n\u001b[1;32m----> 2\u001b[0m val_H, vec_H \u001b[38;5;241m=\u001b[39m \u001b[43mla\u001b[49m\u001b[38;5;241m.\u001b[39meigh(H)\n\u001b[0;32m      3\u001b[0m val_H \u001b[38;5;241m=\u001b[39m val_H\u001b[38;5;241m.\u001b[39mreal\n\u001b[0;32m      4\u001b[0m val_H_min \u001b[38;5;241m=\u001b[39m val_H\u001b[38;5;241m.\u001b[39mmin()\n",
      "\u001b[1;31mNameError\u001b[0m: name 'la' is not defined"
     ]
    }
   ],
   "source": [
    "# shift and scale the spectrum to be in [dist, pi-dist]\n",
    "val_H, vec_H = la.eigh(H)\n",
    "val_H = val_H.real\n",
    "val_H_min = val_H.min()\n",
    "val_H_max = val_H.max()\n",
    "grd_state = vec_H[:, val_H.argmin()]\n",
    "\n",
    "c1 = (np.pi-2*dist) / (val_H_max - val_H_min)\n",
    "c2 = dist - c1 * val_H_min\n",
    "   \n",
    "val_H_trans = val_H * c1 + c2\n",
    "    \n",
    "t_tot = tau * c1\n",
    "shift = tau * c2"
   ]
  }
 ],
 "metadata": {
  "kernelspec": {
   "display_name": "Python 3",
   "language": "python",
   "name": "python3"
  },
  "language_info": {
   "codemirror_mode": {
    "name": "ipython",
    "version": 3
   },
   "file_extension": ".py",
   "mimetype": "text/x-python",
   "name": "python",
   "nbconvert_exporter": "python",
   "pygments_lexer": "ipython3",
   "version": "3.9.10"
  }
 },
 "nbformat": 4,
 "nbformat_minor": 2
}
