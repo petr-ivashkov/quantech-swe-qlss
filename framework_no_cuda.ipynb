{
 "cells": [
  {
   "cell_type": "code",
   "execution_count": 244,
   "metadata": {},
   "outputs": [],
   "source": [
    "import numpy as np\n",
    "import scipy.linalg\n",
    "import cudaq\n",
    "\n",
    "import poly\n",
    "import sym_qsp_opt\n",
    " \n",
    "import matplotlib.pyplot as plt"
   ]
  },
  {
   "cell_type": "code",
   "execution_count": 245,
   "metadata": {},
   "outputs": [],
   "source": [
    "# Classical Linear System Solver\n",
    "class ClassicalSolver:\n",
    "    def __init__(self, A, b):\n",
    "        self.A = A\n",
    "        self.b = b\n",
    "\n",
    "    def solve(self):\n",
    "        \"\"\"\n",
    "        Solves the linear system Ax = b using a classical solver.\n",
    "        \n",
    "        Returns:\n",
    "            x: Solution vector.\n",
    "        \"\"\"\n",
    "        x = scipy.linalg.solve(self.A, self.b)  # Using SciPy's solver for Ax = b\n",
    "        return x"
   ]
  },
  {
   "cell_type": "code",
   "execution_count": 246,
   "metadata": {},
   "outputs": [],
   "source": [
    "class QuantumSolverQSVT:\n",
    "    def __init__(self, A, b, epsilon=1e-15, phases=None):\n",
    "        \"\"\"\n",
    "        Initializes the QuantumSolverQSVT with matrix A and vector b.\n",
    "        \n",
    "        Parameters:\n",
    "            A (numpy.ndarray): The coefficient matrix for the linear system.\n",
    "            b (numpy.ndarray): The right-hand side vector of the linear system.\n",
    "        \"\"\"\n",
    "        self.A = A\n",
    "        self.b = b\n",
    "        # TODO: alpha and kappa may need to be replaced by their respective upper bounds\n",
    "        self.alpha = np.linalg.norm(A, ord=2)  # Spectral norm\n",
    "        self.A_rescaled = self.A / self.alpha\n",
    "        self.kappa = np.linalg.cond(A) # Condition number\n",
    "        self.b_norm = np.linalg.norm(b) # Normalization \n",
    "        self.epsilon = epsilon # Desired presision\n",
    "        self.N = len(b)\n",
    "        self.n = int(np.log2(self.N))\n",
    "        self.m = 1 # Number of ancillas for the blocj-encoding of A\n",
    "\n",
    "        if phases is None:\n",
    "        # if False:\n",
    "            pg = poly.PolyOneOverX()\n",
    "            pcoefs, scale = pg.generate(kappa=self.kappa, \n",
    "                                        epsilon=self.epsilon, \n",
    "                                        chebyshev_basis=True, \n",
    "                                        return_scale=True)\n",
    "            # Using odd parity and instantiating desired coefficeints.\n",
    "            parity = 1\n",
    "            coef = pcoefs[parity::2]\n",
    "            # Optimize to the desired function using Newton solver.\n",
    "            crit = 1e-12\n",
    "            (phases, err, total_iter, qsp_seq_opt) = sym_qsp_opt.newton_solver(coef, parity, crit=crit)\n",
    "        self.phases = phases    \n",
    "        self.d = len(self.phases) - 1\n",
    "\n",
    "    def _block_encode_A(self):\n",
    "        \"\"\"\n",
    "        Creates a block-encoded unitary matrix U that embeds A / alpha in its top-left block.\n",
    "        \"\"\"\n",
    "        I = np.eye(self.A_rescaled.shape[0])\n",
    "        top_right_block = scipy.linalg.sqrtm(I - self.A_rescaled @ self.A_rescaled.T.conj())\n",
    "        bottom_left_block = scipy.linalg.sqrtm(I - self.A_rescaled.T.conj() @ self.A_rescaled)\n",
    "\n",
    "        U = np.block([[self.A_rescaled, top_right_block],\n",
    "                      [bottom_left_block, -1*self.A_rescaled.T.conj()]])\n",
    "        U_T = U.T\n",
    "        return U, U_T\n",
    "\n",
    "    def _state_preparation_b(self):\n",
    "        \"\"\"\n",
    "        Creates a state-preparation unitary matrix Q s.t. Q|0> = |b> / ||b>|\n",
    "        \"\"\"\n",
    "        B = np.column_stack((self.b / self.b_norm, np.random.randn(self.N, self.N - 1)))\n",
    "        # Apply QR decomposition to B to get an orthonormal basis\n",
    "        # The Q matrix from the QR decomposition will be unitary, and the first column will be b\n",
    "        Q, _ = scipy.linalg.qr(B, mode='economic')\n",
    "        return Q\n",
    "    \n",
    "    def _P(self, phi):\n",
    "        dim = int(2**self.m)\n",
    "        P = np.diag([np.exp(-1j*phi)] + [np.exp(1j*phi)]*(dim-1))\n",
    "        return P\n",
    "\n",
    "    def _build_circuit(self):\n",
    "\n",
    "        vec = np.zeros(2)\n",
    "        vec[0] = 1\n",
    "        num_qubits = self.n + self.m\n",
    "        circuit=np.kron(self.b,vec)\n",
    "        circuit = circuit @ np.kron(self._P(self.phases[0]), np.eye(2))\n",
    "        U_A, U_A_T = self._block_encode_A()\n",
    "        \n",
    "        i=0\n",
    "        for phi in self.phases[1:]:\n",
    "\n",
    "            if i%2==0:\n",
    "                circuit = circuit @ U_A \n",
    "            else:\n",
    "                circuit = circuit @ U_A_T\n",
    "\n",
    "            circuit = circuit @ np.kron(self._P(phi), np.eye(2))\n",
    "\n",
    "            i=i+1\n",
    "\n",
    "        #readout the first register\n",
    "        readout = circuit[0:self.m+1]\n",
    "\n",
    "        #rescale the result\n",
    "        rescaled=(1/self.alpha)*readout\n",
    "        \n",
    "        return rescaled\n",
    "    \n",
    "    def solve(self):\n",
    "        \"\"\"\n",
    "        Solves the system Ax = b using a QSVT-based inversion (placeholder).\n",
    "        \n",
    "        Returns:\n",
    "            x (numpy.ndarray): Solution vector, as if from a QSVT inversion.\n",
    "        \"\"\"\n",
    "        x = 0\n",
    "        return x"
   ]
  },
  {
   "cell_type": "code",
   "execution_count": 247,
   "metadata": {},
   "outputs": [
    {
     "name": "stdout",
     "output_type": "stream",
     "text": [
      "b=109, j0=66\n",
      "[PolyOneOverX] minimum [-6.68200131] is at [-0.10746267]: normalizing\n",
      "[sym_qsp] Iterative optimization to err 1.000e-12 or max_iter 1000.\n"
     ]
    },
    {
     "name": "stdout",
     "output_type": "stream",
     "text": [
      "iter: 001 --- err: 1.894e-01\n",
      "iter: 002 --- err: 2.475e-02\n",
      "iter: 003 --- err: 9.138e-04\n",
      "iter: 004 --- err: 1.500e-06\n",
      "iter: 005 --- err: 4.100e-12\n",
      "iter: 006 --- err: 2.771e-15\n",
      "[sym_qsp] Stop criteria satisfied.\n"
     ]
    }
   ],
   "source": [
    "# # Define a test matrix A and vector b\n",
    "A = np.array([[3,1],[0,2]], dtype=float)\n",
    "b = np.array([1,0], dtype=float)\n",
    "solver = QuantumSolverQSVT(A,b)"
   ]
  },
  {
   "cell_type": "code",
   "execution_count": 248,
   "metadata": {},
   "outputs": [
    {
     "name": "stdout",
     "output_type": "stream",
     "text": [
      "[0.29851006 0.0259492 ]\n"
     ]
    }
   ],
   "source": [
    "A_inverse_b=solver._build_circuit()\n",
    "print(np.real(A_inverse_b))"
   ]
  },
  {
   "cell_type": "code",
   "execution_count": 249,
   "metadata": {},
   "outputs": [
    {
     "name": "stdout",
     "output_type": "stream",
     "text": [
      "[0.33333333 0.        ]\n"
     ]
    }
   ],
   "source": [
    "A_inverse_b_classical = scipy.linalg.solve(A,b)\n",
    "print(A_inverse_b_classical)"
   ]
  },
  {
   "cell_type": "code",
   "execution_count": 250,
   "metadata": {},
   "outputs": [
    {
     "name": "stdout",
     "output_type": "stream",
     "text": [
      "0.07220103195738435\n"
     ]
    }
   ],
   "source": [
    "distance_solutions= np.linalg.norm(A_inverse_b - A_inverse_b_1)\n",
    "print(distance_solutions)"
   ]
  }
 ],
 "metadata": {
  "kernelspec": {
   "display_name": "Python 3 (ipykernel)",
   "language": "python",
   "name": "python3"
  },
  "language_info": {
   "codemirror_mode": {
    "name": "ipython",
    "version": 3
   },
   "file_extension": ".py",
   "mimetype": "text/x-python",
   "name": "python",
   "nbconvert_exporter": "python",
   "pygments_lexer": "ipython3",
   "version": "3.10.12"
  }
 },
 "nbformat": 4,
 "nbformat_minor": 2
}
