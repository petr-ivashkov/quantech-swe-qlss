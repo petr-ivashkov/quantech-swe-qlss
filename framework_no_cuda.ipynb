{
 "cells": [
  {
   "cell_type": "code",
   "execution_count": 546,
   "metadata": {},
   "outputs": [],
   "source": [
    "import numpy as np\n",
    "import scipy.linalg\n",
    "import cudaq\n",
    "\n",
    "import poly\n",
    "import sym_qsp_opt\n",
    " \n",
    "import matplotlib.pyplot as plt"
   ]
  },
  {
   "cell_type": "code",
   "execution_count": 547,
   "metadata": {},
   "outputs": [],
   "source": [
    "# Classical Linear System Solver\n",
    "class ClassicalSolver:\n",
    "    def __init__(self, A, b):\n",
    "        self.A = A\n",
    "        self.b = b\n",
    "\n",
    "    def solve(self):\n",
    "        \"\"\"\n",
    "        Solves the linear system Ax = b using a classical solver.\n",
    "        \n",
    "        Returns:\n",
    "            x: Solution vector.\n",
    "        \"\"\"\n",
    "        x = scipy.linalg.solve(self.A, self.b)  # Using SciPy's solver for Ax = b\n",
    "        return x"
   ]
  },
  {
   "cell_type": "code",
   "execution_count": 548,
   "metadata": {},
   "outputs": [],
   "source": [
    "class QuantumSolverQSVT:\n",
    "    def __init__(self, A, b, epsilon=1e-3, phases=None):\n",
    "        \"\"\"\n",
    "        Initializes the QuantumSolverQSVT with matrix A and vector b.\n",
    "        \n",
    "        Parameters:\n",
    "            A (numpy.ndarray): The coefficient matrix for the linear system.\n",
    "            b (numpy.ndarray): The right-hand side vector of the linear system.\n",
    "        \"\"\"\n",
    "        self.A = A\n",
    "        self.b = b\n",
    "        # TODO: alpha and kappa may need to be replaced by their respective upper bounds\n",
    "        self.alpha = np.linalg.norm(A, ord=2)  # Spectral norm\n",
    "        self.A_rescaled = self.A / self.alpha\n",
    "        self.kappa = np.linalg.cond(A) # Condition number\n",
    "        self.b_norm = np.linalg.norm(b) # Normalization \n",
    "        self.epsilon = epsilon # Desired presision\n",
    "        self.N = len(b)\n",
    "        self.n = int(np.log2(self.N))\n",
    "        self.m = 1 # Number of ancillas for the blocj-encoding of A\n",
    "        self.f = 1 #flags where to apply Pi\n",
    "\n",
    "        if phases is None:\n",
    "        # if False:\n",
    "            pg = poly.PolyOneOverX()\n",
    "            pcoefs, scale = pg.generate(kappa=self.kappa, \n",
    "                                        epsilon=self.epsilon, \n",
    "                                        chebyshev_basis=True, \n",
    "                                        return_scale=True)\n",
    "            # Using odd parity and instantiating desired coefficeints.\n",
    "            parity = 1\n",
    "            coef = pcoefs[parity::2]\n",
    "            # Optimize to the desired function using Newton solver.\n",
    "            crit = 1e-12\n",
    "            (phases, err, total_iter, qsp_seq_opt) = sym_qsp_opt.newton_solver(coef, parity, crit=crit)\n",
    "        self.phases = phases    \n",
    "        self.d = len(self.phases) - 1\n",
    "\n",
    "    def _block_encode_A(self):\n",
    "        \"\"\"\n",
    "        Creates a block-encoded unitary matrix U that embeds A / alpha in its top-left block.\n",
    "        \"\"\"\n",
    "        I = np.eye(self.A_rescaled.shape[0])\n",
    "        top_right_block = scipy.linalg.sqrtm(I - self.A_rescaled @ self.A_rescaled.T.conj())\n",
    "        bottom_left_block = scipy.linalg.sqrtm(I - self.A_rescaled.T.conj() @ self.A_rescaled)\n",
    "\n",
    "        U = np.block([[self.A_rescaled, top_right_block],\n",
    "                      [bottom_left_block, -1*self.A_rescaled.T.conj()]])\n",
    "        U_T = U.T\n",
    "        return U, U_T\n",
    "\n",
    "    def _state_preparation_b(self):\n",
    "        \"\"\"\n",
    "        Creates a state-preparation unitary matrix Q s.t. Q|0> = |b> / ||b>|\n",
    "        \"\"\"\n",
    "        B = np.column_stack((self.b / self.b_norm, np.random.randn(self.N, self.N - 1)))\n",
    "        # Apply QR decomposition to B to get an orthonormal basis\n",
    "        # The Q matrix from the QR decomposition will be unitary, and the first column will be b\n",
    "        Q, _ = scipy.linalg.qr(B, mode='economic')\n",
    "        return Q\n",
    "    \n",
    "    def _P(self, phi):\n",
    "        dim = int(2**self.m)\n",
    "        P = np.diag([np.exp(-1j*phi)] + [np.exp(1j*phi)]*(dim-1))\n",
    "        return P\n",
    "\n",
    "    def _build_circuit(self):\n",
    "\n",
    "        H_gate = 1/np.sqrt(2)*np.array([[1, 1], [1, -1]])\n",
    "\n",
    "        num_qubits = self.n + self.m + self.f\n",
    "        initial_state_circuit = np.concatenate(([1], np.zeros(2**num_qubits-1)))\n",
    "        print(\"initial state\")\n",
    "        print(initial_state_circuit)\n",
    "\n",
    "        U_b=self._state_preparation_b()\n",
    "\n",
    "        circuit=initial_state_circuit @ np.kron( np.eye(int(2**(self.m + self.f)), U_b))\n",
    "        print(\"prepared b state\")\n",
    "        print(circuit)\n",
    "        \n",
    "        U_A, U_A_T = self._block_encode_A()\n",
    "        \n",
    "        \n",
    "        circuit= circuit @ np.kron(H_gate,np.eye(2**(self.n + self.m)))\n",
    "        print(\"H gate\")\n",
    "        print(circuit)\n",
    "        circuit = circuit @ np.kron(self._P(self.phases[0]), np.eye(2**(self.n)))\n",
    "        print(\"Pi\")\n",
    "        print(circuit)\n",
    "        i=0\n",
    "        for phi in self.phases[1:]:\n",
    "\n",
    "            if i%2==0:\n",
    "                circuit = circuit @ U_A \n",
    "            else:\n",
    "                circuit = circuit @ U_A_T\n",
    "\n",
    "            circuit = circuit @ np.kron(self._P(phi), np.eye(2))\n",
    "\n",
    "            i=i+1\n",
    "\n",
    "        #readout the first register\n",
    "        readout = circuit[0:self.m+1]\n",
    "\n",
    "        #rescale the result\n",
    "        rescaled=(1/self.alpha)*readout\n",
    "        \n",
    "        return rescaled\n",
    "    \n",
    "    def solve(self):\n",
    "        \"\"\"\n",
    "        Solves the system Ax = b using a QSVT-based inversion (placeholder).\n",
    "        \n",
    "        Returns:\n",
    "            x (numpy.ndarray): Solution vector, as if from a QSVT inversion.\n",
    "        \"\"\"\n",
    "        x = 0\n",
    "        return x"
   ]
  },
  {
   "cell_type": "code",
   "execution_count": 549,
   "metadata": {},
   "outputs": [
    {
     "name": "stdout",
     "output_type": "stream",
     "text": [
      "b=16, j0=13\n",
      "[PolyOneOverX] minimum [-2.6043173] is at [-0.28195603]: normalizing\n",
      "[sym_qsp] Iterative optimization to err 1.000e-12 or max_iter 1000.\n",
      "iter: 001 --- err: 1.961e-01\n",
      "iter: 002 --- err: 2.596e-02\n",
      "iter: 003 --- err: 9.933e-04\n",
      "iter: 004 --- err: 1.753e-06\n",
      "iter: 005 --- err: 5.545e-12\n",
      "iter: 006 --- err: 1.103e-15\n",
      "[sym_qsp] Stop criteria satisfied.\n"
     ]
    }
   ],
   "source": [
    "# # Define a test matrix A and vector b\n",
    "A = np.array([[3,0],[0,2]], dtype=float)\n",
    "b = np.array([1,0], dtype=float)\n",
    "solver = QuantumSolverQSVT(A,b)"
   ]
  },
  {
   "cell_type": "code",
   "execution_count": 550,
   "metadata": {},
   "outputs": [
    {
     "name": "stdout",
     "output_type": "stream",
     "text": [
      "initial state\n",
      "[1. 0. 0. 0. 0. 0. 0. 0.]\n"
     ]
    },
    {
     "ename": "TypeError",
     "evalue": "only integer scalar arrays can be converted to a scalar index",
     "output_type": "error",
     "traceback": [
      "\u001b[0;31m---------------------------------------------------------------------------\u001b[0m",
      "\u001b[0;31mTypeError\u001b[0m                                 Traceback (most recent call last)",
      "Cell \u001b[0;32mIn[550], line 1\u001b[0m\n\u001b[0;32m----> 1\u001b[0m A_inverse_b\u001b[38;5;241m=\u001b[39m\u001b[43msolver\u001b[49m\u001b[38;5;241;43m.\u001b[39;49m\u001b[43m_build_circuit\u001b[49m\u001b[43m(\u001b[49m\u001b[43m)\u001b[49m\n\u001b[1;32m      2\u001b[0m \u001b[38;5;28mprint\u001b[39m((A_inverse_b))\n",
      "Cell \u001b[0;32mIn[548], line 78\u001b[0m, in \u001b[0;36mQuantumSolverQSVT._build_circuit\u001b[0;34m(self)\u001b[0m\n\u001b[1;32m     74\u001b[0m \u001b[38;5;28mprint\u001b[39m(initial_state_circuit)\n\u001b[1;32m     76\u001b[0m U_b\u001b[38;5;241m=\u001b[39m\u001b[38;5;28mself\u001b[39m\u001b[38;5;241m.\u001b[39m_state_preparation_b()\n\u001b[0;32m---> 78\u001b[0m circuit\u001b[38;5;241m=\u001b[39minitial_state_circuit \u001b[38;5;241m@\u001b[39m np\u001b[38;5;241m.\u001b[39mkron( \u001b[43mnp\u001b[49m\u001b[38;5;241;43m.\u001b[39;49m\u001b[43meye\u001b[49m\u001b[43m(\u001b[49m\u001b[38;5;28;43mint\u001b[39;49m\u001b[43m(\u001b[49m\u001b[38;5;241;43m2\u001b[39;49m\u001b[38;5;241;43m*\u001b[39;49m\u001b[38;5;241;43m*\u001b[39;49m\u001b[43m(\u001b[49m\u001b[38;5;28;43mself\u001b[39;49m\u001b[38;5;241;43m.\u001b[39;49m\u001b[43mm\u001b[49m\u001b[43m \u001b[49m\u001b[38;5;241;43m+\u001b[39;49m\u001b[43m \u001b[49m\u001b[38;5;28;43mself\u001b[39;49m\u001b[38;5;241;43m.\u001b[39;49m\u001b[43mf\u001b[49m\u001b[43m)\u001b[49m\u001b[43m)\u001b[49m\u001b[43m,\u001b[49m\u001b[43m \u001b[49m\u001b[43mU_b\u001b[49m\u001b[43m)\u001b[49m)\n\u001b[1;32m     79\u001b[0m \u001b[38;5;28mprint\u001b[39m(\u001b[38;5;124m\"\u001b[39m\u001b[38;5;124mprepared b state\u001b[39m\u001b[38;5;124m\"\u001b[39m)\n\u001b[1;32m     80\u001b[0m \u001b[38;5;28mprint\u001b[39m(circuit)\n",
      "File \u001b[0;32m/usr/local/lib/python3.10/dist-packages/numpy/lib/twodim_base.py:211\u001b[0m, in \u001b[0;36meye\u001b[0;34m(N, M, k, dtype, order, like)\u001b[0m\n\u001b[1;32m    209\u001b[0m \u001b[38;5;28;01mif\u001b[39;00m M \u001b[38;5;129;01mis\u001b[39;00m \u001b[38;5;28;01mNone\u001b[39;00m:\n\u001b[1;32m    210\u001b[0m     M \u001b[38;5;241m=\u001b[39m N\n\u001b[0;32m--> 211\u001b[0m m \u001b[38;5;241m=\u001b[39m \u001b[43mzeros\u001b[49m\u001b[43m(\u001b[49m\u001b[43m(\u001b[49m\u001b[43mN\u001b[49m\u001b[43m,\u001b[49m\u001b[43m \u001b[49m\u001b[43mM\u001b[49m\u001b[43m)\u001b[49m\u001b[43m,\u001b[49m\u001b[43m \u001b[49m\u001b[43mdtype\u001b[49m\u001b[38;5;241;43m=\u001b[39;49m\u001b[43mdtype\u001b[49m\u001b[43m,\u001b[49m\u001b[43m \u001b[49m\u001b[43morder\u001b[49m\u001b[38;5;241;43m=\u001b[39;49m\u001b[43morder\u001b[49m\u001b[43m)\u001b[49m\n\u001b[1;32m    212\u001b[0m \u001b[38;5;28;01mif\u001b[39;00m k \u001b[38;5;241m>\u001b[39m\u001b[38;5;241m=\u001b[39m M:\n\u001b[1;32m    213\u001b[0m     \u001b[38;5;28;01mreturn\u001b[39;00m m\n",
      "\u001b[0;31mTypeError\u001b[0m: only integer scalar arrays can be converted to a scalar index"
     ]
    }
   ],
   "source": [
    "A_inverse_b=solver._build_circuit()\n",
    "print((A_inverse_b))"
   ]
  },
  {
   "cell_type": "code",
   "execution_count": null,
   "metadata": {},
   "outputs": [
    {
     "name": "stdout",
     "output_type": "stream",
     "text": [
      "[ 0.5 -0.5]\n"
     ]
    }
   ],
   "source": [
    "A_inverse_b_classical = scipy.linalg.solve(A,b)\n",
    "print(A_inverse_b_classical)"
   ]
  },
  {
   "cell_type": "code",
   "execution_count": null,
   "metadata": {},
   "outputs": [
    {
     "name": "stdout",
     "output_type": "stream",
     "text": [
      "0.6245058780349011\n"
     ]
    }
   ],
   "source": [
    "distance_solutions= np.linalg.norm(A_inverse_b - A_inverse_b_classical)\n",
    "print(distance_solutions)"
   ]
  }
 ],
 "metadata": {
  "kernelspec": {
   "display_name": "Python 3 (ipykernel)",
   "language": "python",
   "name": "python3"
  },
  "language_info": {
   "codemirror_mode": {
    "name": "ipython",
    "version": 3
   },
   "file_extension": ".py",
   "mimetype": "text/x-python",
   "name": "python",
   "nbconvert_exporter": "python",
   "pygments_lexer": "ipython3",
   "version": "3.10.12"
  }
 },
 "nbformat": 4,
 "nbformat_minor": 2
}
