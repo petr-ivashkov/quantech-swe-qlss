{
 "cells": [
  {
   "cell_type": "code",
   "execution_count": null,
   "metadata": {},
   "outputs": [],
   "source": [
    "import numpy as np\n",
    "import cudaq \n",
    "\n",
    "class QuantumFunction:\n",
    "\n",
    "    def __init__(self, U, B):\n",
    "\n",
    "        @cudaq.kernel\n",
    "        def kernel(U:list[float], B:list[float]):\n",
    "            qubits = cudaq.qvector(2)\n",
    "\n",
    "            L=U\n",
    "            G=B\n",
    "            h(qubits[0])\n",
    "\n",
    "            mz(qubits)\n",
    "\n",
    "        self.kernel = kernel\n",
    "\n",
    "    def run(self, U, B):\n",
    "        result = cudaq.sample(self.kernel, U, B)\n",
    "        return result\n",
    "\n",
    "    "
   ]
  },
  {
   "cell_type": "code",
   "execution_count": null,
   "metadata": {},
   "outputs": [],
   "source": [
    "class QuantumSolverQSVT:\n",
    "    def __init__(self, A,B):\n",
    "        self.A = A\n",
    "        self.B =B\n",
    "\n",
    "\n",
    "    def _block_encode_A(self):\n",
    "        return self.A\n",
    "\n",
    "    def _block_encode_B(self):\n",
    "        return self.B\n",
    "\n",
    "    def solve(self):\n",
    "\n",
    "        U=solver._block_encode_A()\n",
    "        B=solver._block_encode_B()\n",
    "\n",
    "        print(U.shape)\n",
    "        print(B.shape)\n",
    "        \n",
    "        quantum_circuit = QuantumFunction(U, B)\n",
    "        result = quantum_circuit.run(U, B)\n",
    "        print(result[1])"
   ]
  },
  {
   "cell_type": "code",
   "execution_count": null,
   "metadata": {},
   "outputs": [],
   "source": [
    "A = np.array([[4, 1], [1, 3]], dtype=float)\n",
    "B = np.array([[4, 1,8,8], [1, 3,8,8],[1,3,8,8],[1,2,8,8]], dtype=float)\n",
    "\n",
    "solver = QuantumSolverQSVT(A,B)\n",
    "\n",
    "x = solver.solve()"
   ]
  }
 ],
 "metadata": {
  "language_info": {
   "name": "python"
  }
 },
 "nbformat": 4,
 "nbformat_minor": 2
}
