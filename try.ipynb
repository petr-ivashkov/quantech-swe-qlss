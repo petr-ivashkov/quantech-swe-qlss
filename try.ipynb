{
 "cells": [
  {
   "cell_type": "code",
   "execution_count": 118,
   "metadata": {},
   "outputs": [],
   "source": [
    "import numpy as np\n",
    "import cudaq \n",
    "\n",
    "class QuantumFunction:\n",
    "\n",
    "    def __init__(self, U, B,C):\n",
    "\n",
    "        @cudaq.kernel\n",
    "        def kernel(U:list[float], B:float, C:list[float]):\n",
    "\n",
    "            #C_3D = C.reshape(10,50,50)\n",
    "            S=C\n",
    "            L=U\n",
    "            G=B\n",
    "\n",
    "            qubits = cudaq.qvector(2)\n",
    "\n",
    "            x(qubits[0])\n",
    "\n",
    "            mz(qubits)\n",
    "\n",
    "        self.kernel = kernel\n",
    "\n",
    "    def run(self, U, B,C):\n",
    "        result = cudaq.sample(kernel)(C, U, B)\n",
    "        return result\n",
    "\n",
    "    "
   ]
  },
  {
   "cell_type": "code",
   "execution_count": 119,
   "metadata": {},
   "outputs": [],
   "source": [
    "class QuantumSolverQSVT:\n",
    "    def __init__(self, A,B):\n",
    "        self.A = A\n",
    "        self.B =B\n",
    "        \n",
    "\n",
    "    def _block_encode_A(self):\n",
    "        return self.A\n",
    "\n",
    "    def _block_encode_B(self):\n",
    "        return self.B\n",
    "\n",
    "    def solve(self):\n",
    "        shots=10\n",
    "\n",
    "        U=solver._block_encode_A()\n",
    "        D=solver._block_encode_B()\n",
    "        C = np.zeros((10, 50))\n",
    "        \n",
    "        quantum_circuit = QuantumFunction(U, D, C)\n",
    "        result = cudaq.sample(quantum_circuit.kernel, U, D, C, shots_count=shots)\n",
    "        #result = quantum_circuit.run(U, B, C)\n",
    "        #print(result[1])"
   ]
  },
  {
   "cell_type": "code",
   "execution_count": 120,
   "metadata": {},
   "outputs": [],
   "source": [
    "A = np.array([[4, 1,2], [1, 3,2]], dtype=float)\n",
    "B = np.array([4, 1], dtype=float)\n",
    "\n",
    "\n",
    "solver = QuantumSolverQSVT(A,B)\n",
    "\n",
    "x = solver.solve()"
   ]
  }
 ],
 "metadata": {
  "kernelspec": {
   "display_name": "Python 3 (ipykernel)",
   "language": "python",
   "name": "python3"
  },
  "language_info": {
   "codemirror_mode": {
    "name": "ipython",
    "version": 3
   },
   "file_extension": ".py",
   "mimetype": "text/x-python",
   "name": "python",
   "nbconvert_exporter": "python",
   "pygments_lexer": "ipython3",
   "version": "3.10.12"
  }
 },
 "nbformat": 4,
 "nbformat_minor": 2
}
