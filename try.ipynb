{
 "cells": [
  {
   "cell_type": "code",
   "execution_count": 94,
   "metadata": {},
   "outputs": [],
   "source": [
    "import numpy as np\n",
    "import cudaq \n",
    "\n",
    "class QuantumFunction:\n",
    "\n",
    "    def __init__(self, U, B,C):\n",
    "\n",
    "        @cudaq.kernel\n",
    "        def kernel(U:list[float], B:float, C:list[list[float]]):\n",
    "            qubits = cudaq.qvector(2)\n",
    "\n",
    "            #S=C\n",
    "            L=U\n",
    "            G=B\n",
    "            h(qubits[0])\n",
    "\n",
    "            mz(qubits)\n",
    "\n",
    "        self.kernel = kernel\n",
    "\n",
    "    def run(self, U, B,C):\n",
    "        result = cudaq.sample(self.kernel, U, B,C)\n",
    "        return result\n",
    "\n",
    "    "
   ]
  },
  {
   "cell_type": "code",
   "execution_count": 95,
   "metadata": {},
   "outputs": [],
   "source": [
    "class QuantumSolverQSVT:\n",
    "    def __init__(self, A,B):\n",
    "        self.A = A\n",
    "        self.B =B\n",
    "        \n",
    "\n",
    "    def _block_encode_A(self):\n",
    "        return self.A\n",
    "\n",
    "    def _block_encode_B(self):\n",
    "        return self.B\n",
    "\n",
    "    def solve(self):\n",
    "        shots=10\n",
    "\n",
    "        U=solver._block_encode_A()\n",
    "        D=solver._block_encode_B()\n",
    "        C = np.zeros((5,5,5))\n",
    "        \n",
    "        quantum_circuit = QuantumFunction(U, D, C)\n",
    "        result = cudaq.sample(quantum_circuit.kernel, U, D,C,shots_count=shots)\n",
    "        #result = quantum_circuit.run(U, B, C)\n",
    "        print(result[1])"
   ]
  },
  {
   "cell_type": "code",
   "execution_count": 96,
   "metadata": {},
   "outputs": [
    {
     "ename": "SystemError",
     "evalue": "<built-in method pyAltLaunchKernel of PyCapsule object at 0x7fc6e44f9410> returned a result with an exception set",
     "output_type": "error",
     "traceback": [
      "\u001b[0;31m---------------------------------------------------------------------------\u001b[0m",
      "\u001b[0;31mTypeError\u001b[0m                                 Traceback (most recent call last)",
      "\u001b[0;31mTypeError\u001b[0m: must be real number, not list",
      "\nThe above exception was the direct cause of the following exception:\n",
      "\u001b[0;31mSystemError\u001b[0m                               Traceback (most recent call last)",
      "Cell \u001b[0;32mIn[96], line 7\u001b[0m\n\u001b[1;32m      2\u001b[0m B \u001b[38;5;241m=\u001b[39m np\u001b[38;5;241m.\u001b[39marray([\u001b[38;5;241m4\u001b[39m, \u001b[38;5;241m1\u001b[39m,\u001b[38;5;241m1\u001b[39m,\u001b[38;5;241m1\u001b[39m,\u001b[38;5;241m1\u001b[39m,\u001b[38;5;241m1\u001b[39m], dtype\u001b[38;5;241m=\u001b[39m\u001b[38;5;28mfloat\u001b[39m)\n\u001b[1;32m      5\u001b[0m solver \u001b[38;5;241m=\u001b[39m QuantumSolverQSVT(A,B)\n\u001b[0;32m----> 7\u001b[0m x \u001b[38;5;241m=\u001b[39m \u001b[43msolver\u001b[49m\u001b[38;5;241;43m.\u001b[39;49m\u001b[43msolve\u001b[49m\u001b[43m(\u001b[49m\u001b[43m)\u001b[49m\n",
      "Cell \u001b[0;32mIn[95], line 21\u001b[0m, in \u001b[0;36mQuantumSolverQSVT.solve\u001b[0;34m(self)\u001b[0m\n\u001b[1;32m     18\u001b[0m C \u001b[38;5;241m=\u001b[39m np\u001b[38;5;241m.\u001b[39mzeros((\u001b[38;5;241m5\u001b[39m,\u001b[38;5;241m5\u001b[39m,\u001b[38;5;241m5\u001b[39m))\n\u001b[1;32m     20\u001b[0m quantum_circuit \u001b[38;5;241m=\u001b[39m QuantumFunction(U, D, C)\n\u001b[0;32m---> 21\u001b[0m result \u001b[38;5;241m=\u001b[39m \u001b[43mcudaq\u001b[49m\u001b[38;5;241;43m.\u001b[39;49m\u001b[43msample\u001b[49m\u001b[43m(\u001b[49m\u001b[43mquantum_circuit\u001b[49m\u001b[38;5;241;43m.\u001b[39;49m\u001b[43mkernel\u001b[49m\u001b[43m,\u001b[49m\u001b[43m \u001b[49m\u001b[43mU\u001b[49m\u001b[43m,\u001b[49m\u001b[43m \u001b[49m\u001b[43mD\u001b[49m\u001b[43m,\u001b[49m\u001b[43mC\u001b[49m\u001b[43m,\u001b[49m\u001b[43mshots_count\u001b[49m\u001b[38;5;241;43m=\u001b[39;49m\u001b[43mshots\u001b[49m\u001b[43m)\u001b[49m\n\u001b[1;32m     22\u001b[0m \u001b[38;5;66;03m#result = quantum_circuit.run(U, B, C)\u001b[39;00m\n\u001b[1;32m     23\u001b[0m \u001b[38;5;28mprint\u001b[39m(result[\u001b[38;5;241m1\u001b[39m])\n",
      "File \u001b[0;32m/opt/nvidia/cudaq/cudaq/runtime/sample.py:62\u001b[0m, in \u001b[0;36msample\u001b[0;34m(kernel, shots_count, noise_model, *args)\u001b[0m\n\u001b[1;32m     59\u001b[0m     cudaq_runtime\u001b[38;5;241m.\u001b[39mset_noise(noise_model)\n\u001b[1;32m     61\u001b[0m \u001b[38;5;28;01mif\u001b[39;00m __isBroadcast(kernel, \u001b[38;5;241m*\u001b[39margs):\n\u001b[0;32m---> 62\u001b[0m     res \u001b[38;5;241m=\u001b[39m \u001b[43m__broadcastSample\u001b[49m\u001b[43m(\u001b[49m\u001b[43mkernel\u001b[49m\u001b[43m,\u001b[49m\u001b[43m \u001b[49m\u001b[38;5;241;43m*\u001b[39;49m\u001b[43margs\u001b[49m\u001b[43m,\u001b[49m\u001b[43m \u001b[49m\u001b[43mshots_count\u001b[49m\u001b[38;5;241;43m=\u001b[39;49m\u001b[43mshots_count\u001b[49m\u001b[43m)\u001b[49m\n\u001b[1;32m     63\u001b[0m     cudaq_runtime\u001b[38;5;241m.\u001b[39munset_noise()\n\u001b[1;32m     64\u001b[0m     \u001b[38;5;28;01mreturn\u001b[39;00m res\n",
      "File \u001b[0;32m/opt/nvidia/cudaq/cudaq/runtime/sample.py:22\u001b[0m, in \u001b[0;36m__broadcastSample\u001b[0;34m(kernel, shots_count, *args)\u001b[0m\n\u001b[1;32m     20\u001b[0m ctx\u001b[38;5;241m.\u001b[39mbatchIteration \u001b[38;5;241m=\u001b[39m i\n\u001b[1;32m     21\u001b[0m cudaq_runtime\u001b[38;5;241m.\u001b[39msetExecutionContext(ctx)\n\u001b[0;32m---> 22\u001b[0m \u001b[43mkernel\u001b[49m\u001b[43m(\u001b[49m\u001b[38;5;241;43m*\u001b[39;49m\u001b[43ma\u001b[49m\u001b[43m)\u001b[49m\n\u001b[1;32m     23\u001b[0m res \u001b[38;5;241m=\u001b[39m ctx\u001b[38;5;241m.\u001b[39mresult\n\u001b[1;32m     24\u001b[0m cudaq_runtime\u001b[38;5;241m.\u001b[39mresetExecutionContext()\n",
      "File \u001b[0;32m/opt/nvidia/cudaq/cudaq/kernel/kernel_decorator.py:240\u001b[0m, in \u001b[0;36mPyKernelDecorator.__call__\u001b[0;34m(self, *args)\u001b[0m\n\u001b[1;32m    237\u001b[0m         processedArgs\u001b[38;5;241m.\u001b[39mappend(arg)\n\u001b[1;32m    239\u001b[0m \u001b[38;5;28;01mif\u001b[39;00m \u001b[38;5;28mself\u001b[39m\u001b[38;5;241m.\u001b[39mreturnType \u001b[38;5;241m==\u001b[39m \u001b[38;5;28;01mNone\u001b[39;00m:\n\u001b[0;32m--> 240\u001b[0m     \u001b[43mcudaq_runtime\u001b[49m\u001b[38;5;241;43m.\u001b[39;49m\u001b[43mpyAltLaunchKernel\u001b[49m\u001b[43m(\u001b[49m\u001b[38;5;28;43mself\u001b[39;49m\u001b[38;5;241;43m.\u001b[39;49m\u001b[43mname\u001b[49m\u001b[43m,\u001b[49m\n\u001b[1;32m    241\u001b[0m \u001b[43m                                    \u001b[49m\u001b[38;5;28;43mself\u001b[39;49m\u001b[38;5;241;43m.\u001b[39;49m\u001b[43mmodule\u001b[49m\u001b[43m,\u001b[49m\n\u001b[1;32m    242\u001b[0m \u001b[43m                                    \u001b[49m\u001b[38;5;241;43m*\u001b[39;49m\u001b[43mprocessedArgs\u001b[49m\u001b[43m,\u001b[49m\n\u001b[1;32m    243\u001b[0m \u001b[43m                                    \u001b[49m\u001b[43mcallable_names\u001b[49m\u001b[38;5;241;43m=\u001b[39;49m\u001b[43mcallableNames\u001b[49m\u001b[43m)\u001b[49m\n\u001b[1;32m    244\u001b[0m \u001b[38;5;28;01melse\u001b[39;00m:\n\u001b[1;32m    245\u001b[0m     \u001b[38;5;28;01mreturn\u001b[39;00m cudaq_runtime\u001b[38;5;241m.\u001b[39mpyAltLaunchKernelR(\n\u001b[1;32m    246\u001b[0m         \u001b[38;5;28mself\u001b[39m\u001b[38;5;241m.\u001b[39mname,\n\u001b[1;32m    247\u001b[0m         \u001b[38;5;28mself\u001b[39m\u001b[38;5;241m.\u001b[39mmodule,\n\u001b[1;32m    248\u001b[0m         mlirTypeFromPyType(\u001b[38;5;28mself\u001b[39m\u001b[38;5;241m.\u001b[39mreturnType, \u001b[38;5;28mself\u001b[39m\u001b[38;5;241m.\u001b[39mmodule\u001b[38;5;241m.\u001b[39mcontext),\n\u001b[1;32m    249\u001b[0m         \u001b[38;5;241m*\u001b[39mprocessedArgs,\n\u001b[1;32m    250\u001b[0m         callable_names\u001b[38;5;241m=\u001b[39mcallableNames)\n",
      "\u001b[0;31mSystemError\u001b[0m: <built-in method pyAltLaunchKernel of PyCapsule object at 0x7fc6e44f9410> returned a result with an exception set"
     ]
    }
   ],
   "source": [
    "A = np.array([[4, 1], [1, 3]], dtype=float)\n",
    "B = np.array([4, 1,1,1,1,1], dtype=float)\n",
    "\n",
    "\n",
    "solver = QuantumSolverQSVT(A,B)\n",
    "\n",
    "x = solver.solve()"
   ]
  }
 ],
 "metadata": {
  "kernelspec": {
   "display_name": "Python 3 (ipykernel)",
   "language": "python",
   "name": "python3"
  },
  "language_info": {
   "codemirror_mode": {
    "name": "ipython",
    "version": 3
   },
   "file_extension": ".py",
   "mimetype": "text/x-python",
   "name": "python",
   "nbconvert_exporter": "python",
   "pygments_lexer": "ipython3",
   "version": "3.10.12"
  }
 },
 "nbformat": 4,
 "nbformat_minor": 2
}
