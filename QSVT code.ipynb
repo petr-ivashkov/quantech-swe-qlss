{
 "cells": [
  {
   "cell_type": "markdown",
   "metadata": {},
   "source": [
    "## Classical pre-processing "
   ]
  },
  {
   "cell_type": "code",
   "execution_count": 160,
   "metadata": {},
   "outputs": [
    {
     "name": "stdout",
     "output_type": "stream",
     "text": [
      "[[-0.05338002 -0.36103662 -0.54016489 -0.39026125]\n",
      " [-0.33304121  0.10648228  0.37346704 -0.33977916]\n",
      " [ 0.4167817  -0.75180519  0.17593867  0.20944773]\n",
      " [ 0.26891079 -0.05333795 -0.32668787 -0.33602829]]\n"
     ]
    }
   ],
   "source": [
    "import numpy as np\n",
    "import scipy\n",
    "\n",
    "# the size of the unitary which block encodes A\n",
    "REG_SIZE = 3\n",
    "\n",
    "\n",
    "def get_random_unitary(num_qubits, seed=4):\n",
    "    np.random.seed(seed)\n",
    "    X = np.random.rand(2**num_qubits, 2**num_qubits)\n",
    "    U, s, V = np.linalg.svd(X)\n",
    "    return U @ V.T\n",
    "\n",
    "\n",
    "U_a = get_random_unitary(REG_SIZE)\n",
    "\n",
    "A_dim = int(U_a.shape[0] / 2)\n",
    "A = U_a[:A_dim, :A_dim]\n",
    "print(A)"
   ]
  },
  {
   "cell_type": "markdown",
   "metadata": {},
   "source": [
    "Our modifications:"
   ]
  },
  {
   "cell_type": "code",
   "execution_count": 161,
   "metadata": {},
   "outputs": [],
   "source": [
    "def generate_matrix_with_condition_number(size, condition_number, random_seed=None):\n",
    "    \"\"\"\n",
    "    Generates a random matrix with the specified condition number.\n",
    "\n",
    "    Parameters:\n",
    "        size (int or tuple): Shape of the matrix (e.g., (m, n) or n for square).\n",
    "        condition_number (float): Desired condition number.\n",
    "        random_seed (int, optional): Random seed for reproducibility.\n",
    "    \n",
    "    Returns:\n",
    "        np.ndarray: Matrix with the specified condition number.\n",
    "    \"\"\"\n",
    "    if random_seed is not None:\n",
    "        np.random.seed(random_seed)\n",
    "    \n",
    "    # Ensure size is a tuple\n",
    "    if isinstance(size, int):\n",
    "        size = (size, size)\n",
    "    \n",
    "    m, n = size\n",
    "\n",
    "    # Generate random orthogonal matrices U and V\n",
    "    U, _ = np.linalg.qr(np.random.randn(m, m))\n",
    "    V, _ = np.linalg.qr(np.random.randn(n, n))\n",
    "\n",
    "    # Create singular values with the desired condition number\n",
    "    singular_values = np.linspace(condition_number, 1, min(m, n))\n",
    "\n",
    "    # Construct the diagonal matrix of singular values\n",
    "    Sigma = np.zeros((m, n))\n",
    "    np.fill_diagonal(Sigma, singular_values)\n",
    "\n",
    "    # Reconstruct the matrix\n",
    "    A = U @ Sigma @ V.T\n",
    "\n",
    "    return A\n",
    "\n",
    "# Example Usage\n",
    "A_int = generate_matrix_with_condition_number(size=(4, 4), condition_number=3, random_seed=42)"
   ]
  },
  {
   "cell_type": "code",
   "execution_count": 162,
   "metadata": {},
   "outputs": [],
   "source": [
    "alpha = np.linalg.norm(A_int, ord=2)  # Spectral norm\n",
    "A = A_int / (alpha)"
   ]
  },
  {
   "cell_type": "code",
   "execution_count": 163,
   "metadata": {},
   "outputs": [],
   "source": [
    "I = np.eye(A.shape[0])\n",
    "top_right_block = scipy.linalg.sqrtm(I - A @ A.T.conj())\n",
    "bottom_left_block = scipy.linalg.sqrtm(I - A.T.conj() @ A)\n",
    "\n",
    "U_a = np.block([[A, top_right_block],\n",
    "[bottom_left_block, -1*A.T.conj()]])"
   ]
  },
  {
   "cell_type": "code",
   "execution_count": 164,
   "metadata": {},
   "outputs": [
    {
     "name": "stdout",
     "output_type": "stream",
     "text": [
      "[[ 0.05502668 -0.62585757  0.20559202  0.3181578 ]\n",
      " [-0.25116873 -0.08013233 -0.40416795 -0.40717143]\n",
      " [-0.41564533  0.47872581  0.10376737 -0.2329647 ]\n",
      " [ 0.46692363 -0.22178535  0.26395108 -0.53288816]]\n",
      "[[ 0.05502668+0.00000000e+00j -0.62585757+0.00000000e+00j\n",
      "   0.20559202+0.00000000e+00j  0.3181578 +0.00000000e+00j\n",
      "   0.5115538 +8.95658486e-09j  0.19087606-4.22217599e-09j\n",
      "   0.38926789-8.46540642e-09j -0.11014294+4.36298343e-09j]\n",
      " [-0.25116873+0.00000000e+00j -0.08013233+0.00000000e+00j\n",
      "  -0.40416795+0.00000000e+00j -0.40717143+0.00000000e+00j\n",
      "   0.19087606-4.22217599e-09j  0.73578225+1.99035351e-09j\n",
      "  -0.15101044+3.99063217e-09j  0.02719236-2.05673079e-09j]\n",
      " [-0.41564533+0.00000000e+00j  0.47872581+0.00000000e+00j\n",
      "   0.10376737+0.00000000e+00j -0.2329647 +0.00000000e+00j\n",
      "   0.38926789-8.46540642e-09j -0.15101044+3.99063217e-09j\n",
      "   0.57445896+8.00116416e-09j  0.16936234-4.12371774e-09j]\n",
      " [ 0.46692363+0.00000000e+00j -0.22178535+0.00000000e+00j\n",
      "   0.26395108+0.00000000e+00j -0.53288816+0.00000000e+00j\n",
      "  -0.11014294+4.36298343e-09j  0.02719236-2.05673079e-09j\n",
      "   0.16936234-4.12371774e-09j  0.58103281+2.12532173e-09j]\n",
      " [ 0.62338724+5.98501256e-09j  0.35054462-8.66079854e-09j\n",
      "  -0.17359146+3.21686151e-09j -0.03847655+3.54928875e-09j\n",
      "  -0.05502668+0.00000000e+00j  0.25116873+0.00000000e+00j\n",
      "   0.41564533+0.00000000e+00j -0.46692363+0.00000000e+00j]\n",
      " [ 0.35054462-8.66079854e-09j  0.37632859+1.25328779e-08j\n",
      "   0.15143437-4.65505948e-09j  0.18993911-5.13610866e-09j\n",
      "   0.62585757+0.00000000e+00j  0.08013233+0.00000000e+00j\n",
      "  -0.47872581+0.00000000e+00j  0.22178535+0.00000000e+00j]\n",
      " [-0.17359146+3.21686151e-09j  0.15143437-4.65505948e-09j\n",
      "   0.80977565+1.72901859e-09j -0.07168944+1.90769363e-09j\n",
      "  -0.20559202+0.00000000e+00j  0.40416795+0.00000000e+00j\n",
      "  -0.10376737+0.00000000e+00j -0.26395108+0.00000000e+00j]\n",
      " [-0.03847655+3.54928875e-09j  0.18993911-5.13610866e-09j\n",
      "  -0.07168944+1.90769363e-09j  0.59333634+2.10483278e-09j\n",
      "  -0.3181578 +0.00000000e+00j  0.40717143+0.00000000e+00j\n",
      "   0.2329647 +0.00000000e+00j  0.53288816+0.00000000e+00j]]\n"
     ]
    }
   ],
   "source": [
    "print(A)\n",
    "print(U_a)"
   ]
  },
  {
   "cell_type": "markdown",
   "metadata": {},
   "source": [
    "Make sure A's singular values are < 1"
   ]
  },
  {
   "cell_type": "code",
   "execution_count": 165,
   "metadata": {},
   "outputs": [],
   "source": [
    "assert not (np.linalg.svd(A)[1] > 1).sum()"
   ]
  },
  {
   "cell_type": "markdown",
   "metadata": {},
   "source": [
    "Define b-vector"
   ]
  },
  {
   "cell_type": "code",
   "execution_count": 166,
   "metadata": {},
   "outputs": [
    {
     "name": "stdout",
     "output_type": "stream",
     "text": [
      "[0.5 0.5 0.5 0.5]\n"
     ]
    }
   ],
   "source": [
    "b = np.ones(4)     # np.arange(A_dim)\n",
    "b = b / np.linalg.norm(b)\n",
    "print(b)"
   ]
  },
  {
   "cell_type": "markdown",
   "metadata": {},
   "source": [
    "Verify that U_a is indeed unitary "
   ]
  },
  {
   "cell_type": "code",
   "execution_count": 167,
   "metadata": {},
   "outputs": [],
   "source": [
    "assert np.allclose(U_a @ U_a.T, np.eye(U_a.shape[0]), rtol=1e-5, atol=1e-6)"
   ]
  },
  {
   "cell_type": "markdown",
   "metadata": {},
   "source": [
    "Calculate condition number $\\kappa$ = max ($\\frac{1}{\\sigma_i}$)"
   ]
  },
  {
   "cell_type": "code",
   "execution_count": 168,
   "metadata": {},
   "outputs": [
    {
     "name": "stdout",
     "output_type": "stream",
     "text": [
      "2.9999999999999987\n"
     ]
    }
   ],
   "source": [
    "kappa = max(1 / np.linalg.svd(A)[1])\n",
    "print(kappa)\n"
   ]
  },
  {
   "cell_type": "markdown",
   "metadata": {},
   "source": [
    "Print out singular value decomposition"
   ]
  },
  {
   "cell_type": "markdown",
   "metadata": {},
   "source": [
    "np.linalg.svd(A)[1]"
   ]
  },
  {
   "cell_type": "markdown",
   "metadata": {},
   "source": [
    "## Quantum algorithm"
   ]
  },
  {
   "cell_type": "code",
   "execution_count": 169,
   "metadata": {},
   "outputs": [],
   "source": [
    "#import classiq\n",
    "#classiq.authenticate()\n",
    "\n",
    "from classiq import *\n",
    "from classiq.qmod.symbolic import floor\n",
    "# classiq.authenticate()\n",
    "\n",
    "@qfunc\n",
    "def my_projector_controlled_phase(\n",
    "    phase: CReal,\n",
    "    proj_cnot: QCallable[QArray[QBit], QBit],\n",
    "    state: QArray[QBit],\n",
    "    aux: QBit,\n",
    ") -> None:\n",
    "    proj_cnot(state, aux)\n",
    "    RZ(phase, aux)\n",
    "    proj_cnot(state, aux)\n",
    "\n",
    "\n",
    "@qfunc\n",
    "def my_qsvt_step(\n",
    "    phase_seq: CArray[CReal],\n",
    "    index: CInt,\n",
    "    u: QCallable[QArray[QBit]],\n",
    "    state: QArray[QBit],\n",
    "    aux: QBit,\n",
    "):\n",
    "    my_projector_controlled_phase(phase_seq[2 * index], proj_cnot_1, state, aux)\n",
    "    u(state)\n",
    "    my_projector_controlled_phase(\n",
    "        phase_seq[2 * index + 1],\n",
    "        proj_cnot_2,\n",
    "        state,\n",
    "        aux,\n",
    "    )\n",
    "\n",
    "    if_(\n",
    "        condition=2 * index + 2 == phase_seq.len,\n",
    "        then=lambda: IDENTITY(state),\n",
    "        else_=lambda: invert(lambda: u(state)),\n",
    "    )\n",
    "\n",
    "\n",
    "@qfunc\n",
    "def my_qsvt_step(\n",
    "    phase1: CReal,\n",
    "    phase2: CReal,\n",
    "    proj_cnot_1: QCallable[QArray[QBit], QBit],\n",
    "    proj_cnot_2: QCallable[QArray[QBit], QBit],\n",
    "    u: QCallable[QArray[QBit]],\n",
    "    state: QArray[QBit],\n",
    "    aux: QBit,\n",
    "):\n",
    "    u(state)\n",
    "    my_projector_controlled_phase(phase1, proj_cnot_2, state, aux)\n",
    "    invert(lambda: u(state))\n",
    "    my_projector_controlled_phase(phase2, proj_cnot_1, state, aux)\n",
    "\n",
    "\n",
    "@qfunc\n",
    "def my_qsvt(\n",
    "    phase_seq: CArray[CReal],\n",
    "    proj_cnot_1: QCallable[QArray[QBit], QBit],\n",
    "    proj_cnot_2: QCallable[QArray[QBit], QBit],\n",
    "    u: QCallable[QArray[QBit]],\n",
    "    state: QArray[QBit],\n",
    "    aux: QBit,\n",
    ") -> None:\n",
    "    H(aux)\n",
    "\n",
    "    my_projector_controlled_phase(phase_seq[0], proj_cnot_1, state, aux)\n",
    "    repeat(\n",
    "        count=floor((phase_seq.len - 1) / 2),\n",
    "        iteration=lambda index: my_qsvt_step(\n",
    "            phase_seq[2 * index + 1],\n",
    "            phase_seq[2 * index + 2],\n",
    "            proj_cnot_1,\n",
    "            proj_cnot_2,\n",
    "            u,\n",
    "            state,\n",
    "            aux,\n",
    "        ),\n",
    "    )\n",
    "\n",
    "    if_(\n",
    "        condition=phase_seq.len % 2 == 1,\n",
    "        then=lambda: IDENTITY(state),\n",
    "        else_=lambda: (\n",
    "            u(state),\n",
    "            my_projector_controlled_phase(\n",
    "                phase_seq[phase_seq.len - 1],\n",
    "                proj_cnot_2,\n",
    "                state,\n",
    "                aux,\n",
    "            ),\n",
    "        ),\n",
    "    )\n",
    "\n",
    "    H(aux)\n"
   ]
  },
  {
   "cell_type": "markdown",
   "metadata": {},
   "source": [
    "### Matrix inversion algorithm"
   ]
  },
  {
   "cell_type": "code",
   "execution_count": 170,
   "metadata": {},
   "outputs": [],
   "source": [
    "@qfunc\n",
    "def my_qsvt_inversion(\n",
    "    phase_seq: CArray[CReal],\n",
    "    u: QCallable[QArray[QBit]],\n",
    "    state: QArray[QBit],\n",
    "    aux: Output[QBit],\n",
    ") -> None:\n",
    "    allocate(1, aux)\n",
    "\n",
    "    def _projector_cnot(state: QArray[QBit], aux: QBit):\n",
    "        X(state[state.len - 1])\n",
    "        CX(state[state.len - 1], aux)\n",
    "        X(state[state.len - 1])\n",
    "\n",
    "    my_qsvt(\n",
    "        phase_seq,\n",
    "        lambda arg0, arg1: _projector_cnot(arg0, arg1),\n",
    "        lambda arg0, arg1: _projector_cnot(arg0, arg1),\n",
    "        u,\n",
    "        state,\n",
    "        aux,\n",
    "    )"
   ]
  },
  {
   "cell_type": "markdown",
   "metadata": {},
   "source": [
    "\n",
    "Get the phase sequence for the inverse function"
   ]
  },
  {
   "cell_type": "code",
   "execution_count": 171,
   "metadata": {},
   "outputs": [
    {
     "name": "stdout",
     "output_type": "stream",
     "text": [
      "b=36, j0=16\n",
      "[PolyOneOverX] minimum [-3.86285345] is at [-0.1873238]: normalizing\n",
      "[PolyOneOverX] bounding to 0.5\n",
      "[pyqsp.PolyOneOverX] pcoefs=[ 0.00000000e+00  4.65942352e+00  0.00000000e+00 -8.14718444e+01\n",
      "  0.00000000e+00  9.19393485e+02  0.00000000e+00 -7.47721753e+03\n",
      "  0.00000000e+00  4.61734011e+04  0.00000000e+00 -2.21848884e+05\n",
      "  0.00000000e+00  8.37506659e+05  0.00000000e+00 -2.48959793e+06\n",
      "  0.00000000e+00  5.81572924e+06  0.00000000e+00 -1.06215171e+07\n",
      "  0.00000000e+00  1.50356943e+07  0.00000000e+00 -1.62737905e+07\n",
      "  0.00000000e+00  1.31818687e+07  0.00000000e+00 -7.72048488e+06\n",
      "  0.00000000e+00  3.08371477e+06  0.00000000e+00 -7.50823295e+05\n",
      "  0.00000000e+00  8.40103402e+04]\n"
     ]
    }
   ],
   "source": [
    "import pyqsp\n",
    "\n",
    "pg = pyqsp.poly.PolyOneOverX()\n",
    "pcoefs = pg.generate(epsilon=0.05, kappa=kappa)"
   ]
  },
  {
   "cell_type": "code",
   "execution_count": 172,
   "metadata": {},
   "outputs": [
    {
     "data": {
      "image/png": "[encoded data removed]",
      "text/plain": [
       "<Figure size 800x500 with 1 Axes>"
      ]
     },
     "metadata": {},
     "output_type": "display_data"
    }
   ],
   "source": [
    "import numpy as np\n",
    "from pyqsp.angle_sequence import Polynomial, QuantumSignalProcessingPhases\n",
    "\n",
    "poly = Polynomial(pcoefs)\n",
    "\n",
    "# choosing 'z' this basis since P(1)=1 and won't to avoid the QSP basis change. Anyway, we are not measuring directly this qubit.\n",
    "ang_seq = QuantumSignalProcessingPhases(\n",
    "    poly, signal_operator=\"Wx\", method=\"laurent\", measurement=\"x\", tolerance = 0.0005\n",
    ")\n",
    "pyqsp.response.PlotQSPResponse(ang_seq, signal_operator=\"Wx\", measurement=\"x\")"
   ]
  },
  {
   "cell_type": "markdown",
   "metadata": {},
   "source": [
    "\n",
    "### Adjusting phase conventions.\n",
    "There conventions by which the pyqsp package calculates the the phases are different from the phases we need for this qsvt circuit. The following block takes care for them."
   ]
  },
  {
   "cell_type": "code",
   "execution_count": 173,
   "metadata": {},
   "outputs": [],
   "source": [
    "\n",
    "\n",
    "# change the R(x) to W(x), as the phases are in the W(x) conventions\n",
    "phases = np.array(ang_seq)\n",
    "phases[1:-1] = phases[1:-1] - np.pi / 2\n",
    "phases[0] = phases[0] - np.pi / 4\n",
    "phases[-1] = phases[-1] + (2 * (len(phases) - 1) - 1) * np.pi / 4\n",
    "\n",
    "# verify conventions. minus is due to exp(-i*phi*z) in qsvt in comparison to qsp\n",
    "phases = -2 * phases"
   ]
  },
  {
   "cell_type": "markdown",
   "metadata": {},
   "source": [
    "### Using the inversion function to solve linear system"
   ]
  },
  {
   "cell_type": "code",
   "execution_count": 174,
   "metadata": {},
   "outputs": [],
   "source": [
    "@qfunc\n",
    "def main(\n",
    "    state: Output[QNum],\n",
    "    block: Output[QBit],\n",
    "    aux: Output[QBit],\n",
    ") -> None:\n",
    "    full_state = QArray(\"full_state\")\n",
    "\n",
    "    prepare_amplitudes(b.tolist(), 0, state)\n",
    "\n",
    "    allocate(1, block)\n",
    "    bind([state, block], full_state)\n",
    "\n",
    "    my_qsvt_inversion(\n",
    "        phase_seq=list(phases),\n",
    "        u=lambda arg0: unitary(\n",
    "            # Here we can just use the transpose of A as is it real valued\n",
    "            elements=U_a.T.tolist(),\n",
    "            target=arg0,\n",
    "        ),\n",
    "        state=full_state,\n",
    "        aux=aux,\n",
    "    )\n",
    "\n",
    "    bind(full_state, [state, block])"
   ]
  },
  {
   "cell_type": "markdown",
   "metadata": {},
   "source": [
    "Synthesizing and Executing the circuit using state-vector simulator, to get $x = A^{-1}b$"
   ]
  },
  {
   "cell_type": "code",
   "execution_count": 175,
   "metadata": {},
   "outputs": [],
   "source": [
    "from classiq.execution import (\n",
    "    ClassiqBackendPreferences,\n",
    "    ClassiqSimulatorBackendNames,\n",
    "    ExecutionPreferences,\n",
    ")\n",
    "\n",
    "# convert the functions to a qmod model\n",
    "qmod = create_model(main)\n",
    "\n",
    "# we will want to execute this qmod on a state-vector simulator:\n",
    "execution_preferences = ExecutionPreferences(\n",
    "    num_shots=1,\n",
    "    backend_preferences=ClassiqBackendPreferences(\n",
    "        backend_name=ClassiqSimulatorBackendNames.SIMULATOR_STATEVECTOR\n",
    "    ),\n",
    ")\n",
    "qmod = set_execution_preferences(qmod, execution_preferences)\n",
    "\n",
    "write_qmod(qmod, name=\"qsvt_matrix_inversion\", decimal_precision=15)"
   ]
  },
  {
   "cell_type": "code",
   "execution_count": 176,
   "metadata": {},
   "outputs": [
    {
     "ename": "ClassiqAPIError",
     "evalue": "\n\tReportedUnitaryGateError: Input matrix of UnitaryGate must be unitary: [[(0.0550266819005757+0j), (-0.25116873036128423+0j), (-0.4156453262330429+0j), (0.46692362945094257+0j), (0.6233872366912031+5.985012561074423e-09j), (0.35054462455898766-8.66079854381093e-09j), (-0.17359145901942669+3.2168615072168626e-09j), (-0.038476549838988114+3.5492887527432683e-09j)], [(-0.6258575667073183+0j), (-0.08013232750933078+0j), (0.478725810291786+0j), (-0.22178534712802894+0j), (0.35054462455898777-8.66079854381093e-09j), (0.3763285907211326+1.253287785966015e-08j), (0.15143436676606076-4.6550594794981905e-09j), (0.18993910920005874-5.136108662703469e-09j)], [(0.20559201681167785+0j), (-0.4041679497088137+0j), (0.10376737289729332+0j), (0.2639510836671341+0j), (-0.17359145901942677+3.2168615072168626e-09j), (0.15143436676606067-4.6550594794981905e-09j), (0.8097756545878999+1.7290185861791818e-09j), (-0.07168944105535466+1.9076936347561983e-09j)], [(0.31815779697616553+0j), (-0.40717143489038554+0j), (-0.23296470139335396+0j), (-0.5328881575133753+0j), (-0.038476549838988065+3.5492887527432703e-09j), (0.18993910920005883-5.1361086627034705e-09j), (-0.07168944105535473+1.907693634756199e-09j), (0.5933363399196375+2.104832783857749e-09j)], [(0.5115537957374885+8.956584861062953e-09j), (0.1908760591523903-4.222175990959548e-09j), (0.3892678854284246-8.465406415803756e-09j), (-0.11014293805728426+4.362983428836858e-09j), (-0.0550266819005757+0j), (0.6258575667073183+0j), (-0.20559201681167785+0j), (-0.31815779697616553+0j)], [(0.19087605915239025-4.222175990959548e-09j), (0.7357822524569119+1.9903535080802647e-09j), (-0.15101043949418919+3.990632174759486e-09j), (0.027192355355387964-2.056730792812824e-09j), (0.25116873036128423+0j), (0.08013232750933078+0j), (0.4041679497088137+0j), (0.40717143489038554+0j)], [(0.38926788542842466-8.465406415803758e-09j), (-0.15101043949418907+3.990632174759486e-09j), (0.5744589625652138+8.001164159820906e-09j), (0.16936234066093903-4.123717743253503e-09j), (0.4156453262330429+0j), (-0.478725810291786+0j), (-0.10376737289729332+0j), (0.23296470139335396+0j)], [(-0.11014293805728427+4.362983428836858e-09j), (0.027192355355388054-2.056730792812824e-09j), (0.16936234066093894-4.123717743253503e-09j), (0.5810328111602533+2.125321726482912e-09j), (-0.46692362945094257+0j), (0.22178534712802894+0j), (-0.2639510836671341+0j), (0.5328881575133753+0j)]]\n\nError identifier: E96249472-EA3D-47E9-9342-6B11B87668E7.\nIf you need further assistance, please reach out on our Community Slack channel at: https://short.classiq.io/join-slack",
     "output_type": "error",
     "traceback": [
      "\u001b[0;31m---------------------------------------------------------------------------\u001b[0m",
      "\u001b[0;31mClassiqAPIError\u001b[0m                           Traceback (most recent call last)",
      "Cell \u001b[0;32mIn[176], line 1\u001b[0m\n\u001b[0;32m----> 1\u001b[0m qprog \u001b[38;5;241m=\u001b[39m \u001b[43msynthesize\u001b[49m\u001b[43m(\u001b[49m\u001b[43mqmod\u001b[49m\u001b[43m)\u001b[49m\n\u001b[1;32m      2\u001b[0m show(qprog)\n\u001b[1;32m      3\u001b[0m result \u001b[38;5;241m=\u001b[39m execute(qprog)\u001b[38;5;241m.\u001b[39mresult_value()\n",
      "File \u001b[0;32m~/miniconda3/envs/spyder-env/lib/python3.11/site-packages/classiq/synthesis.py:85\u001b[0m, in \u001b[0;36msynthesize\u001b[0;34m(serialized_model, auto_show)\u001b[0m\n\u001b[1;32m     71\u001b[0m \u001b[38;5;28;01mdef\u001b[39;00m \u001b[38;5;21msynthesize\u001b[39m(\n\u001b[1;32m     72\u001b[0m     serialized_model: SerializedModel, auto_show: \u001b[38;5;28mbool\u001b[39m \u001b[38;5;241m=\u001b[39m \u001b[38;5;28;01mFalse\u001b[39;00m\n\u001b[1;32m     73\u001b[0m ) \u001b[38;5;241m-\u001b[39m\u001b[38;5;241m>\u001b[39m SerializedQuantumProgram:\n\u001b[1;32m     74\u001b[0m \u001b[38;5;250m    \u001b[39m\u001b[38;5;124;03m\"\"\"\u001b[39;00m\n\u001b[1;32m     75\u001b[0m \u001b[38;5;124;03m    Synthesize a model with the Classiq engine to receive a quantum program.\u001b[39;00m\n\u001b[1;32m     76\u001b[0m \u001b[38;5;124;03m    [More details](https://docs.classiq.io/latest/reference-manual/synthesis/)\u001b[39;00m\n\u001b[0;32m   (...)\u001b[0m\n\u001b[1;32m     83\u001b[0m \u001b[38;5;124;03m        SerializedQuantumProgram: Quantum program serialized as a string. (See: QuantumProgram)\u001b[39;00m\n\u001b[1;32m     84\u001b[0m \u001b[38;5;124;03m    \"\"\"\u001b[39;00m\n\u001b[0;32m---> 85\u001b[0m     result \u001b[38;5;241m=\u001b[39m \u001b[43masync_utils\u001b[49m\u001b[38;5;241;43m.\u001b[39;49m\u001b[43mrun\u001b[49m\u001b[43m(\u001b[49m\u001b[43msynthesize_async\u001b[49m\u001b[43m(\u001b[49m\u001b[43mserialized_model\u001b[49m\u001b[43m)\u001b[49m\u001b[43m)\u001b[49m\n\u001b[1;32m     86\u001b[0m     \u001b[38;5;28;01mif\u001b[39;00m auto_show:\n\u001b[1;32m     87\u001b[0m         show(result)\n",
      "File \u001b[0;32m~/miniconda3/envs/spyder-env/lib/python3.11/site-packages/classiq/_internals/async_utils.py:37\u001b[0m, in \u001b[0;36mrun\u001b[0;34m(coro)\u001b[0m\n\u001b[1;32m     32\u001b[0m \u001b[38;5;28;01mdef\u001b[39;00m \u001b[38;5;21mrun\u001b[39m(coro: Awaitable[T]) \u001b[38;5;241m-\u001b[39m\u001b[38;5;241m>\u001b[39m T:\n\u001b[1;32m     33\u001b[0m     \u001b[38;5;66;03m# Use this function instead of asyncio.run, since it ALWAYS\u001b[39;00m\n\u001b[1;32m     34\u001b[0m     \u001b[38;5;66;03m# creates a new event loop and clears the thread event loop.\u001b[39;00m\n\u001b[1;32m     35\u001b[0m     \u001b[38;5;66;03m# Never use asyncio.run in library code.\u001b[39;00m\n\u001b[1;32m     36\u001b[0m     loop \u001b[38;5;241m=\u001b[39m get_event_loop()\n\u001b[0;32m---> 37\u001b[0m     \u001b[38;5;28;01mreturn\u001b[39;00m \u001b[43mloop\u001b[49m\u001b[38;5;241;43m.\u001b[39;49m\u001b[43mrun_until_complete\u001b[49m\u001b[43m(\u001b[49m\u001b[43mcoro\u001b[49m\u001b[43m)\u001b[49m\n",
      "File \u001b[0;32m~/miniconda3/envs/spyder-env/lib/python3.11/site-packages/nest_asyncio.py:90\u001b[0m, in \u001b[0;36m_patch_loop.<locals>.run_until_complete\u001b[0;34m(self, future)\u001b[0m\n\u001b[1;32m     87\u001b[0m \u001b[38;5;28;01mif\u001b[39;00m \u001b[38;5;129;01mnot\u001b[39;00m f\u001b[38;5;241m.\u001b[39mdone():\n\u001b[1;32m     88\u001b[0m     \u001b[38;5;28;01mraise\u001b[39;00m \u001b[38;5;167;01mRuntimeError\u001b[39;00m(\n\u001b[1;32m     89\u001b[0m         \u001b[38;5;124m'\u001b[39m\u001b[38;5;124mEvent loop stopped before Future completed.\u001b[39m\u001b[38;5;124m'\u001b[39m)\n\u001b[0;32m---> 90\u001b[0m \u001b[38;5;28;01mreturn\u001b[39;00m \u001b[43mf\u001b[49m\u001b[38;5;241;43m.\u001b[39;49m\u001b[43mresult\u001b[49m\u001b[43m(\u001b[49m\u001b[43m)\u001b[49m\n",
      "File \u001b[0;32m~/miniconda3/envs/spyder-env/lib/python3.11/asyncio/futures.py:203\u001b[0m, in \u001b[0;36mFuture.result\u001b[0;34m(self)\u001b[0m\n\u001b[1;32m    201\u001b[0m \u001b[38;5;28mself\u001b[39m\u001b[38;5;241m.\u001b[39m__log_traceback \u001b[38;5;241m=\u001b[39m \u001b[38;5;28;01mFalse\u001b[39;00m\n\u001b[1;32m    202\u001b[0m \u001b[38;5;28;01mif\u001b[39;00m \u001b[38;5;28mself\u001b[39m\u001b[38;5;241m.\u001b[39m_exception \u001b[38;5;129;01mis\u001b[39;00m \u001b[38;5;129;01mnot\u001b[39;00m \u001b[38;5;28;01mNone\u001b[39;00m:\n\u001b[0;32m--> 203\u001b[0m     \u001b[38;5;28;01mraise\u001b[39;00m \u001b[38;5;28mself\u001b[39m\u001b[38;5;241m.\u001b[39m_exception\u001b[38;5;241m.\u001b[39mwith_traceback(\u001b[38;5;28mself\u001b[39m\u001b[38;5;241m.\u001b[39m_exception_tb)\n\u001b[1;32m    204\u001b[0m \u001b[38;5;28;01mreturn\u001b[39;00m \u001b[38;5;28mself\u001b[39m\u001b[38;5;241m.\u001b[39m_result\n",
      "File \u001b[0;32m~/miniconda3/envs/spyder-env/lib/python3.11/asyncio/tasks.py:267\u001b[0m, in \u001b[0;36mTask.__step\u001b[0;34m(***failed resolving arguments***)\u001b[0m\n\u001b[1;32m    263\u001b[0m \u001b[38;5;28;01mtry\u001b[39;00m:\n\u001b[1;32m    264\u001b[0m     \u001b[38;5;28;01mif\u001b[39;00m exc \u001b[38;5;129;01mis\u001b[39;00m \u001b[38;5;28;01mNone\u001b[39;00m:\n\u001b[1;32m    265\u001b[0m         \u001b[38;5;66;03m# We use the `send` method directly, because coroutines\u001b[39;00m\n\u001b[1;32m    266\u001b[0m         \u001b[38;5;66;03m# don't have `__iter__` and `__next__` methods.\u001b[39;00m\n\u001b[0;32m--> 267\u001b[0m         result \u001b[38;5;241m=\u001b[39m coro\u001b[38;5;241m.\u001b[39msend(\u001b[38;5;28;01mNone\u001b[39;00m)\n\u001b[1;32m    268\u001b[0m     \u001b[38;5;28;01melse\u001b[39;00m:\n\u001b[1;32m    269\u001b[0m         result \u001b[38;5;241m=\u001b[39m coro\u001b[38;5;241m.\u001b[39mthrow(exc)\n",
      "File \u001b[0;32m~/miniconda3/envs/spyder-env/lib/python3.11/site-packages/classiq/synthesis.py:67\u001b[0m, in \u001b[0;36msynthesize_async\u001b[0;34m(serialized_model)\u001b[0m\n\u001b[1;32m     63\u001b[0m \u001b[38;5;28;01masync\u001b[39;00m \u001b[38;5;28;01mdef\u001b[39;00m \u001b[38;5;21msynthesize_async\u001b[39m(\n\u001b[1;32m     64\u001b[0m     serialized_model: SerializedModel,\n\u001b[1;32m     65\u001b[0m ) \u001b[38;5;241m-\u001b[39m\u001b[38;5;241m>\u001b[39m SerializedQuantumProgram:\n\u001b[1;32m     66\u001b[0m     model \u001b[38;5;241m=\u001b[39m Model\u001b[38;5;241m.\u001b[39mmodel_validate_json(serialized_model)\n\u001b[0;32m---> 67\u001b[0m     quantum_program \u001b[38;5;241m=\u001b[39m \u001b[38;5;28;01mawait\u001b[39;00m ApiWrapper\u001b[38;5;241m.\u001b[39mcall_generation_task(model)\n\u001b[1;32m     68\u001b[0m     \u001b[38;5;28;01mreturn\u001b[39;00m SerializedQuantumProgram(quantum_program\u001b[38;5;241m.\u001b[39mmodel_dump_json(indent\u001b[38;5;241m=\u001b[39m\u001b[38;5;241m2\u001b[39m))\n",
      "File \u001b[0;32m~/miniconda3/envs/spyder-env/lib/python3.11/site-packages/classiq/_internals/api_wrapper.py:113\u001b[0m, in \u001b[0;36mApiWrapper.call_generation_task\u001b[0;34m(cls, model)\u001b[0m\n\u001b[1;32m    111\u001b[0m poller \u001b[38;5;241m=\u001b[39m JobPoller(base_url\u001b[38;5;241m=\u001b[39mroutes\u001b[38;5;241m.\u001b[39mTASKS_GENERATE_FULL_PATH)\n\u001b[1;32m    112\u001b[0m result \u001b[38;5;241m=\u001b[39m \u001b[38;5;28;01mawait\u001b[39;00m poller\u001b[38;5;241m.\u001b[39mrun_pydantic(model, timeout_sec\u001b[38;5;241m=\u001b[39m\u001b[38;5;28;01mNone\u001b[39;00m)\n\u001b[0;32m--> 113\u001b[0m \u001b[38;5;28;01mreturn\u001b[39;00m \u001b[43m_parse_job_response\u001b[49m\u001b[43m(\u001b[49m\u001b[43mresult\u001b[49m\u001b[43m,\u001b[49m\u001b[43m \u001b[49m\u001b[43mgenerator_result\u001b[49m\u001b[38;5;241;43m.\u001b[39;49m\u001b[43mQuantumProgram\u001b[49m\u001b[43m)\u001b[49m\n",
      "File \u001b[0;32m~/miniconda3/envs/spyder-env/lib/python3.11/site-packages/classiq/_internals/api_wrapper.py:60\u001b[0m, in \u001b[0;36m_parse_job_response\u001b[0;34m(job_result, output_type)\u001b[0m\n\u001b[1;32m     58\u001b[0m     \u001b[38;5;28;01mreturn\u001b[39;00m output_type\u001b[38;5;241m.\u001b[39mmodel_validate(job_result\u001b[38;5;241m.\u001b[39mresult)\n\u001b[1;32m     59\u001b[0m \u001b[38;5;28;01mif\u001b[39;00m job_result\u001b[38;5;241m.\u001b[39mfailure_details:\n\u001b[0;32m---> 60\u001b[0m     \u001b[38;5;28;01mraise\u001b[39;00m ClassiqAPIError(job_result\u001b[38;5;241m.\u001b[39mfailure_details)\n\u001b[1;32m     62\u001b[0m \u001b[38;5;28;01mraise\u001b[39;00m ClassiqAPIError(\u001b[38;5;124m\"\u001b[39m\u001b[38;5;124mUnexpected response from server\u001b[39m\u001b[38;5;124m\"\u001b[39m)\n",
      "\u001b[0;31mClassiqAPIError\u001b[0m: \n\tReportedUnitaryGateError: Input matrix of UnitaryGate must be unitary: [[(0.0550266819005757+0j), (-0.25116873036128423+0j), (-0.4156453262330429+0j), (0.46692362945094257+0j), (0.6233872366912031+5.985012561074423e-09j), (0.35054462455898766-8.66079854381093e-09j), (-0.17359145901942669+3.2168615072168626e-09j), (-0.038476549838988114+3.5492887527432683e-09j)], [(-0.6258575667073183+0j), (-0.08013232750933078+0j), (0.478725810291786+0j), (-0.22178534712802894+0j), (0.35054462455898777-8.66079854381093e-09j), (0.3763285907211326+1.253287785966015e-08j), (0.15143436676606076-4.6550594794981905e-09j), (0.18993910920005874-5.136108662703469e-09j)], [(0.20559201681167785+0j), (-0.4041679497088137+0j), (0.10376737289729332+0j), (0.2639510836671341+0j), (-0.17359145901942677+3.2168615072168626e-09j), (0.15143436676606067-4.6550594794981905e-09j), (0.8097756545878999+1.7290185861791818e-09j), (-0.07168944105535466+1.9076936347561983e-09j)], [(0.31815779697616553+0j), (-0.40717143489038554+0j), (-0.23296470139335396+0j), (-0.5328881575133753+0j), (-0.038476549838988065+3.5492887527432703e-09j), (0.18993910920005883-5.1361086627034705e-09j), (-0.07168944105535473+1.907693634756199e-09j), (0.5933363399196375+2.104832783857749e-09j)], [(0.5115537957374885+8.956584861062953e-09j), (0.1908760591523903-4.222175990959548e-09j), (0.3892678854284246-8.465406415803756e-09j), (-0.11014293805728426+4.362983428836858e-09j), (-0.0550266819005757+0j), (0.6258575667073183+0j), (-0.20559201681167785+0j), (-0.31815779697616553+0j)], [(0.19087605915239025-4.222175990959548e-09j), (0.7357822524569119+1.9903535080802647e-09j), (-0.15101043949418919+3.990632174759486e-09j), (0.027192355355387964-2.056730792812824e-09j), (0.25116873036128423+0j), (0.08013232750933078+0j), (0.4041679497088137+0j), (0.40717143489038554+0j)], [(0.38926788542842466-8.465406415803758e-09j), (-0.15101043949418907+3.990632174759486e-09j), (0.5744589625652138+8.001164159820906e-09j), (0.16936234066093903-4.123717743253503e-09j), (0.4156453262330429+0j), (-0.478725810291786+0j), (-0.10376737289729332+0j), (0.23296470139335396+0j)], [(-0.11014293805728427+4.362983428836858e-09j), (0.027192355355388054-2.056730792812824e-09j), (0.16936234066093894-4.123717743253503e-09j), (0.5810328111602533+2.125321726482912e-09j), (-0.46692362945094257+0j), (0.22178534712802894+0j), (-0.2639510836671341+0j), (0.5328881575133753+0j)]]\n\nError identifier: E96249472-EA3D-47E9-9342-6B11B87668E7.\nIf you need further assistance, please reach out on our Community Slack channel at: https://short.classiq.io/join-slack"
     ]
    }
   ],
   "source": [
    "qprog = synthesize(qmod)\n",
    "show(qprog)\n",
    "result = execute(qprog).result_value()"
   ]
  },
  {
   "cell_type": "markdown",
   "metadata": {},
   "source": [
    "\n",
    "### Post processing"
   ]
  },
  {
   "cell_type": "code",
   "execution_count": null,
   "metadata": {},
   "outputs": [],
   "source": [
    "def parse_results(result):\n",
    "    parsed_state_vector = result.parsed_state_vector\n",
    "\n",
    "    d = {\n",
    "        int(parsed_state[\"state\"]): parsed_state.amplitude\n",
    "        for parsed_state in parsed_state_vector\n",
    "        if parsed_state[\"aux\"] == parsed_state[\"block\"] == 0.0\n",
    "    }\n",
    "\n",
    "    values = np.array([d[i] for i in range(len(d))])\n",
    "    global_phase = np.angle(values)[0]\n",
    "    values = np.real(values / np.exp(1j * global_phase))\n",
    "    normalization = np.linalg.norm(\n",
    "        [\n",
    "            parsed_state.amplitude\n",
    "            for parsed_state in parsed_state_vector\n",
    "            if parsed_state[\"block\"] == 0.0\n",
    "        ]\n",
    "    )\n",
    "    computed_x = values / normalization\n",
    "    return computed_x"
   ]
  },
  {
   "cell_type": "code",
   "execution_count": null,
   "metadata": {},
   "outputs": [],
   "source": [
    "parsed_state_vector = result.parsed_state_vector\n",
    "\n",
    "d = {\n",
    "    parsed_state[\"state\"]: parsed_state.amplitude\n",
    "    for parsed_state in parsed_state_vector\n",
    "    if parsed_state[\"aux\"] == parsed_state[\"block\"] == 0.0\n",
    "}"
   ]
  },
  {
   "cell_type": "code",
   "execution_count": null,
   "metadata": {},
   "outputs": [
    {
     "name": "stdout",
     "output_type": "stream",
     "text": [
      "[ 0.14711247 -0.02612048 -0.04692567  0.08213192]\n"
     ]
    }
   ],
   "source": [
    "computed_x = parse_results(result)\n",
    "print(computed_x)"
   ]
  },
  {
   "cell_type": "markdown",
   "metadata": {},
   "source": [
    "Compare to expectation:"
   ]
  },
  {
   "cell_type": "code",
   "execution_count": null,
   "metadata": {},
   "outputs": [
    {
     "name": "stdout",
     "output_type": "stream",
     "text": [
      "[ 0.0226243   0.01729465 -0.01012794 -0.01551759]\n"
     ]
    },
    {
     "ename": "AssertionError",
     "evalue": "",
     "output_type": "error",
     "traceback": [
      "\u001b[0;31m---------------------------------------------------------------------------\u001b[0m",
      "\u001b[0;31mAssertionError\u001b[0m                            Traceback (most recent call last)",
      "Cell \u001b[0;32mIn[297], line 4\u001b[0m\n\u001b[1;32m      1\u001b[0m expected_x \u001b[38;5;241m=\u001b[39m \u001b[38;5;241m1\u001b[39m \u001b[38;5;241m/\u001b[39m (\u001b[38;5;241m2\u001b[39m \u001b[38;5;241m*\u001b[39m kappa) \u001b[38;5;241m*\u001b[39m (np\u001b[38;5;241m.\u001b[39mlinalg\u001b[38;5;241m.\u001b[39minv(A) \u001b[38;5;241m@\u001b[39m b)\n\u001b[1;32m      2\u001b[0m \u001b[38;5;28mprint\u001b[39m(expected_x)\n\u001b[0;32m----> 4\u001b[0m \u001b[38;5;28;01massert\u001b[39;00m np\u001b[38;5;241m.\u001b[39mallclose(computed_x, expected_x, rtol\u001b[38;5;241m=\u001b[39m\u001b[38;5;241m0.2\u001b[39m)\n",
      "\u001b[0;31mAssertionError\u001b[0m: "
     ]
    }
   ],
   "source": [
    "expected_x = 1 / (2 * kappa) * (np.linalg.inv(A) @ b)\n",
    "print(expected_x)\n",
    "\n",
    "assert np.allclose(computed_x, expected_x, rtol=0.2)"
   ]
  }
 ],
 "metadata": {
  "kernelspec": {
   "display_name": "spyder-env",
   "language": "python",
   "name": "python3"
  },
  "language_info": {
   "codemirror_mode": {
    "name": "ipython",
    "version": 3
   },
   "file_extension": ".py",
   "mimetype": "text/x-python",
   "name": "python",
   "nbconvert_exporter": "python",
   "pygments_lexer": "ipython3",
   "version": "3.11.0"
  }
 },
 "nbformat": 4,
 "nbformat_minor": 2
}
