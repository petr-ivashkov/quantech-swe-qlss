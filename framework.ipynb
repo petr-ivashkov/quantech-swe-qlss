{
 "cells": [
  {
   "cell_type": "code",
   "execution_count": 110,
   "metadata": {},
   "outputs": [],
   "source": [
    "import numpy as np\n",
    "import scipy.linalg\n",
    "\n",
    "import poly\n",
    "import sym_qsp_opt\n",
    " \n",
    "import matplotlib.pyplot as plt\n",
    "import cudaq"
   ]
  },
  {
   "cell_type": "code",
   "execution_count": 111,
   "metadata": {},
   "outputs": [],
   "source": [
    "# Classical Linear System Solver\n",
    "class ClassicalSolver:\n",
    "    def __init__(self, A, b):\n",
    "        self.A = A\n",
    "        self.b = b\n",
    "\n",
    "    def solve(self):\n",
    "        \"\"\"\n",
    "        Solves the linear system Ax = b using a classical solver.\n",
    "        \n",
    "        Returns:\n",
    "            x: Solution vector.\n",
    "        \"\"\"\n",
    "        x = scipy.linalg.solve(self.A, self.b)  # Using SciPy's solver for Ax = b\n",
    "        return x"
   ]
  },
  {
   "cell_type": "code",
   "execution_count": 112,
   "metadata": {},
   "outputs": [],
   "source": [
    "class QuantumSolverQSVT:\n",
    "    def __init__(self, A, b, epsilon=1e-2, phases=None):\n",
    "        \"\"\"\n",
    "        Initializes the QuantumSolverQSVT with matrix A and vector b.\n",
    "        \n",
    "        Parameters:\n",
    "            A (numpy.ndarray): The coefficient matrix for the linear system.\n",
    "            b (numpy.ndarray): The right-hand side vector of the linear system.\n",
    "        \"\"\"\n",
    "        self.A = A\n",
    "        self.b = b\n",
    "        # TODO: alpha and kappa may need to be replaced by their respective upper bounds\n",
    "        self.alpha = np.linalg.norm(A, ord=2)  # Spectral norm\n",
    "        self.A_rescaled = self.A / self.alpha\n",
    "        self.kappa = np.linalg.cond(A) # Condition number\n",
    "        self.b_norm = np.linalg.norm(b) # Normalization \n",
    "        self.epsilon = epsilon # Desired presision\n",
    "        self.N = len(b)\n",
    "        self.n = int(np.log2(self.N))\n",
    "\n",
    "        if phases is None:\n",
    "            pg = poly.PolyOneOverX()\n",
    "            pcoefs, scale = pg.generate(kappa=self.kappa, \n",
    "                                        epsilon=self.epsilon, \n",
    "                                        chebyshev_basis=True, \n",
    "                                        return_scale=True)\n",
    "            # Using odd parity and instantiating desired coefficeints.\n",
    "            parity = 1\n",
    "            coef = pcoefs[parity::2]\n",
    "            # Optimize to the desired function using Newton solver.\n",
    "            crit = 1e-12\n",
    "            (phases, err, total_iter, qsp_seq_opt) = sym_qsp_opt.newton_solver(coef, parity, crit=crit)\n",
    "        self.phases = phases    \n",
    "\n",
    "    def _block_encode_A(self):\n",
    "        \"\"\"\n",
    "        Creates a block-encoded unitary matrix U that embeds A / alpha in its top-left block.\n",
    "        \"\"\"\n",
    "        I = np.eye(self.A_rescaled.shape[0])\n",
    "        top_right_block = scipy.linalg.sqrtm(I - self.A_rescaled @ self.A_rescaled.T.conj())\n",
    "        bottom_left_block = scipy.linalg.sqrtm(I - self.A_rescaled.T.conj() @ self.A_rescaled)\n",
    "\n",
    "        U = np.block([[self.A_rescaled, top_right_block],\n",
    "                      [bottom_left_block, -1*self.A_rescaled.T.conj()]])\n",
    "        return U\n",
    "\n",
    "    def _state_preparation_b(self):\n",
    "        \"\"\"\n",
    "        Creates a state-preparation unitary matrix Q s.t. Q|0> = |b> / ||b>|\n",
    "        \"\"\"\n",
    "        B = np.column_stack((self.b / self.b_norm, np.random.randn(self.N, self.N - 1)))\n",
    "        # Apply QR decomposition to B to get an orthonormal basis\n",
    "        # The Q matrix from the QR decomposition will be unitary, and the first column will be b\n",
    "        Q, _ = scipy.linalg.qr(B, mode='economic')\n",
    "        return Q\n",
    "\n",
    "    def Pi_phi(self,k):\n",
    "        \"\"\"\n",
    "        Input:\n",
    "        angles phi: vector of dim d/2 where d is the degree of poly that approximate 1/x\n",
    "\n",
    "        Output:\n",
    "        Unitary matrix Pi_phi=e^(i*phi*(2*Pi-I)) (eq 27)\n",
    "\n",
    "        \"\"\"\n",
    "        diagonal= -1*self.phases[k]\n",
    "        diagonal[0]=diagonal[0]*-1\n",
    "        exp_diagonal = np.exp(1j * diagonal)\n",
    "\n",
    "        # Create the matrix with np.diag()\n",
    "        Pi = np.diag(exp_diagonal)\n",
    "\n",
    "        return Pi\n",
    "    \n",
    "    def solve(self, U):\n",
    "        \"\"\"\n",
    "        Solves the system Ax = b using a QSVT-based inversion (placeholder).\n",
    "        \n",
    "        Returns:\n",
    "            x (numpy.ndarray): Solution vector, as if from a QSVT inversion.\n",
    "        \"\"\"\n",
    "\n",
    "        quantum_circuit = QuantumCircuit(U)\n",
    "        x = quantum_circuit.run()\n",
    "\n",
    "        return x"
   ]
  },
  {
   "cell_type": "code",
   "execution_count": 113,
   "metadata": {},
   "outputs": [],
   "source": [
    "class QuantumCircuit:\n",
    "    \"\"\"Allows the quantum circuit to input data, output expectation values\n",
    "    and calculate gradients of variational parameters via finite difference\"\"\"\n",
    "\n",
    "    def __init__(self, U):\n",
    "        \"\"\"Define the quantum circuit in CUDA Quantum\"\"\"\n",
    "\n",
    "        @cudaq.kernel\n",
    "        def kernel():\n",
    "\n",
    "            # qb = kernel.qalloc(n)   # Qubits for the vector b\n",
    "            ql = kernel.qalloc(1)   # Qubits Ancilla\n",
    "            # qf = kernel.qalloc(1)    # Flag qubit\n",
    "\n",
    "            # cudaq.register_operation(\"Ub\", Ub)\n",
    "\n",
    "            B=U\n",
    "            #cudaq.register_operation(\"U\", U)\n",
    "            # cudaq.register_operation(\"U_adj\", U.T.conj())\n",
    "\n",
    "            # for k in range(0,d):\n",
    "            #     cudaq.register_operation(f\"Pi_{k}\", Pi[k])\n",
    "\n",
    "            # Ub(qb)\n",
    "\n",
    "            # h(qf)\n",
    "            \n",
    "            # for k in range(0,d/2):\n",
    "            #     Pi=f\"Pi_{d-(k*2)}\"\n",
    "            #     Pi(qf,ql)\n",
    "            #     U(ql,qb)\n",
    "\n",
    "            #     Pi=f\"Pi_{d-(k*2+1)}\"\n",
    "            #     Pi(qf,ql)\n",
    "            #     U_adj(ql,qb)\n",
    "\n",
    "            # h(qf)\n",
    "            \n",
    "\n",
    "        self.kernel = kernel\n",
    "\n",
    "    def run(self) -> np.ndarray:\n",
    "        \"\"\"Excetute the quantum circuit to output an expectation value\"\"\"\n",
    "\n",
    "        result = cudaq.sample(self.kernel)\n",
    "\n",
    "        return result"
   ]
  },
  {
   "cell_type": "code",
   "execution_count": null,
   "metadata": {},
   "outputs": [
    {
     "name": "stdout",
     "output_type": "stream",
     "text": [
      "b=19, j0=13\n",
      "[PolyOneOverX] minimum [-2.82888078] is at [-0.25849557]: normalizing\n",
      "[sym_qsp] Iterative optimization to err 1.000e-12 or max_iter 1000.\n",
      "iter: 001 --- err: 1.950e-01\n",
      "iter: 002 --- err: 2.575e-02\n"
     ]
    },
    {
     "name": "stdout",
     "output_type": "stream",
     "text": [
      "iter: 003 --- err: 9.790e-04\n",
      "iter: 004 --- err: 1.707e-06\n",
      "iter: 005 --- err: 5.266e-12\n",
      "iter: 006 --- err: 1.169e-15\n",
      "[sym_qsp] Stop criteria satisfied.\n",
      "[[0.8661694586364018, 0.21654236465910046, 0.23678912553367784, -0.38313285327985624], [0.21654236465910046, 0.6496270939773015, -0.38313285327985624, 0.6199219788135338], [0.23678912553367784, -0.38313285327985624, -0.8661694586364018, -0.21654236465910046], [-0.38313285327985624, 0.6199219788135338, -0.21654236465910046, -0.6496270939773015]]\n",
      "\u001b[1m"
     ]
    },
    {
     "ename": "CompilerError",
     "evalue": "443249349.py:17: \u001b[91merror: \u001b[0m\u001b[1mInvalid type for variable (U) captured from parent scope (only int, bool, float, and list[int|bool|float] accepted, type was <class 'list'>).\n\t (offending source -> U)\u001b[0m",
     "output_type": "error",
     "traceback": [
      "\u001b[0;31m---------------------------------------------------------------------------\u001b[0m",
      "\u001b[0;31mCompilerError\u001b[0m                             Traceback (most recent call last)",
      "Cell \u001b[0;32mIn[114], line 21\u001b[0m\n\u001b[1;32m     13\u001b[0m \u001b[38;5;28mprint\u001b[39m(A)\n\u001b[1;32m     14\u001b[0m \u001b[38;5;66;03m#Pi=np.zeros(solver.d, solver.numAncilla + solver.numFlag, solver.numAncilla + solver.numFlag)\u001b[39;00m\n\u001b[1;32m     15\u001b[0m \n\u001b[1;32m     16\u001b[0m \u001b[38;5;66;03m#Pi= solver.Pi_phi(0)\u001b[39;00m\n\u001b[1;32m     17\u001b[0m \n\u001b[1;32m     18\u001b[0m \u001b[38;5;66;03m# for k in range(0,solver.d):\u001b[39;00m\n\u001b[1;32m     19\u001b[0m \u001b[38;5;66;03m#     Pi[k, :,:] = solver.Pi_phi(k)\u001b[39;00m\n\u001b[0;32m---> 21\u001b[0m x \u001b[38;5;241m=\u001b[39m \u001b[43msolver\u001b[49m\u001b[38;5;241;43m.\u001b[39;49m\u001b[43msolve\u001b[49m\u001b[43m(\u001b[49m\u001b[43mA\u001b[49m\u001b[43m)\u001b[49m\n",
      "Cell \u001b[0;32mIn[112], line 84\u001b[0m, in \u001b[0;36mQuantumSolverQSVT.solve\u001b[0;34m(self, U)\u001b[0m\n\u001b[1;32m     76\u001b[0m \u001b[38;5;250m\u001b[39m\u001b[38;5;124;03m\"\"\"\u001b[39;00m\n\u001b[1;32m     77\u001b[0m \u001b[38;5;124;03mSolves the system Ax = b using a QSVT-based inversion (placeholder).\u001b[39;00m\n\u001b[1;32m     78\u001b[0m \u001b[38;5;124;03m\u001b[39;00m\n\u001b[1;32m     79\u001b[0m \u001b[38;5;124;03mReturns:\u001b[39;00m\n\u001b[1;32m     80\u001b[0m \u001b[38;5;124;03m    x (numpy.ndarray): Solution vector, as if from a QSVT inversion.\u001b[39;00m\n\u001b[1;32m     81\u001b[0m \u001b[38;5;124;03m\"\"\"\u001b[39;00m\n\u001b[1;32m     83\u001b[0m quantum_circuit \u001b[38;5;241m=\u001b[39m QuantumCircuit(U)\n\u001b[0;32m---> 84\u001b[0m x \u001b[38;5;241m=\u001b[39m \u001b[43mquantum_circuit\u001b[49m\u001b[38;5;241;43m.\u001b[39;49m\u001b[43mrun\u001b[49m\u001b[43m(\u001b[49m\u001b[43m)\u001b[49m\n\u001b[1;32m     86\u001b[0m \u001b[38;5;28;01mreturn\u001b[39;00m x\n",
      "Cell \u001b[0;32mIn[113], line 45\u001b[0m, in \u001b[0;36mQuantumCircuit.run\u001b[0;34m(self)\u001b[0m\n\u001b[1;32m     42\u001b[0m \u001b[38;5;28;01mdef\u001b[39;00m \u001b[38;5;21mrun\u001b[39m(\u001b[38;5;28mself\u001b[39m) \u001b[38;5;241m-\u001b[39m\u001b[38;5;241m>\u001b[39m np\u001b[38;5;241m.\u001b[39mndarray:\n\u001b[1;32m     43\u001b[0m \u001b[38;5;250m    \u001b[39m\u001b[38;5;124;03m\"\"\"Excetute the quantum circuit to output an expectation value\"\"\"\u001b[39;00m\n\u001b[0;32m---> 45\u001b[0m     result \u001b[38;5;241m=\u001b[39m \u001b[43mcudaq\u001b[49m\u001b[38;5;241;43m.\u001b[39;49m\u001b[43msample\u001b[49m\u001b[43m(\u001b[49m\u001b[38;5;28;43mself\u001b[39;49m\u001b[38;5;241;43m.\u001b[39;49m\u001b[43mkernel\u001b[49m\u001b[43m)\u001b[49m\n\u001b[1;32m     47\u001b[0m     \u001b[38;5;28;01mreturn\u001b[39;00m result\n",
      "File \u001b[0;32m/opt/nvidia/cudaq/cudaq/runtime/sample.py:87\u001b[0m, in \u001b[0;36msample\u001b[0;34m(kernel, shots_count, noise_model, *args)\u001b[0m\n\u001b[1;32m     84\u001b[0m             cudaq_runtime\u001b[38;5;241m.\u001b[39msetExecutionContext(ctx)\n\u001b[1;32m     85\u001b[0m     \u001b[38;5;28;01mreturn\u001b[39;00m counts\n\u001b[0;32m---> 87\u001b[0m \u001b[43mkernel\u001b[49m\u001b[43m(\u001b[49m\u001b[38;5;241;43m*\u001b[39;49m\u001b[43margs\u001b[49m\u001b[43m)\u001b[49m\n\u001b[1;32m     88\u001b[0m res \u001b[38;5;241m=\u001b[39m ctx\u001b[38;5;241m.\u001b[39mresult\n\u001b[1;32m     89\u001b[0m cudaq_runtime\u001b[38;5;241m.\u001b[39mresetExecutionContext()\n",
      "File \u001b[0;32m/opt/nvidia/cudaq/cudaq/kernel/kernel_decorator.py:181\u001b[0m, in \u001b[0;36mPyKernelDecorator.__call__\u001b[0;34m(self, *args)\u001b[0m\n\u001b[1;32m    175\u001b[0m \u001b[38;5;250m\u001b[39m\u001b[38;5;124;03m\"\"\"\u001b[39;00m\n\u001b[1;32m    176\u001b[0m \u001b[38;5;124;03mInvoke the CUDA Quantum kernel. JIT compilation of the \u001b[39;00m\n\u001b[1;32m    177\u001b[0m \u001b[38;5;124;03mkernel AST to MLIR will occur here if it has not already occurred. \u001b[39;00m\n\u001b[1;32m    178\u001b[0m \u001b[38;5;124;03m\"\"\"\u001b[39;00m\n\u001b[1;32m    180\u001b[0m \u001b[38;5;66;03m# Compile, no-op if the module is not None\u001b[39;00m\n\u001b[0;32m--> 181\u001b[0m \u001b[38;5;28;43mself\u001b[39;49m\u001b[38;5;241;43m.\u001b[39;49m\u001b[43mcompile\u001b[49m\u001b[43m(\u001b[49m\u001b[43m)\u001b[49m\n\u001b[1;32m    183\u001b[0m \u001b[38;5;28;01mif\u001b[39;00m \u001b[38;5;28mlen\u001b[39m(args) \u001b[38;5;241m!=\u001b[39m \u001b[38;5;28mlen\u001b[39m(\u001b[38;5;28mself\u001b[39m\u001b[38;5;241m.\u001b[39margTypes):\n\u001b[1;32m    184\u001b[0m     emitFatalError(\n\u001b[1;32m    185\u001b[0m         \u001b[38;5;124mf\u001b[39m\u001b[38;5;124m\"\u001b[39m\u001b[38;5;124mIncorrect number of runtime arguments provided to kernel `\u001b[39m\u001b[38;5;132;01m{\u001b[39;00m\u001b[38;5;28mself\u001b[39m\u001b[38;5;241m.\u001b[39mname\u001b[38;5;132;01m}\u001b[39;00m\u001b[38;5;124m` (\u001b[39m\u001b[38;5;132;01m{\u001b[39;00m\u001b[38;5;28mlen\u001b[39m(\u001b[38;5;28mself\u001b[39m\u001b[38;5;241m.\u001b[39margTypes)\u001b[38;5;132;01m}\u001b[39;00m\u001b[38;5;124m required, \u001b[39m\u001b[38;5;132;01m{\u001b[39;00m\u001b[38;5;28mlen\u001b[39m(args)\u001b[38;5;132;01m}\u001b[39;00m\u001b[38;5;124m provided)\u001b[39m\u001b[38;5;124m\"\u001b[39m\n\u001b[1;32m    186\u001b[0m     )\n",
      "File \u001b[0;32m/opt/nvidia/cudaq/cudaq/kernel/kernel_decorator.py:155\u001b[0m, in \u001b[0;36mPyKernelDecorator.compile\u001b[0;34m(self)\u001b[0m\n\u001b[1;32m    152\u001b[0m \u001b[38;5;28;01mif\u001b[39;00m \u001b[38;5;28mself\u001b[39m\u001b[38;5;241m.\u001b[39mmodule \u001b[38;5;241m!=\u001b[39m \u001b[38;5;28;01mNone\u001b[39;00m:\n\u001b[1;32m    153\u001b[0m     \u001b[38;5;28;01mreturn\u001b[39;00m\n\u001b[0;32m--> 155\u001b[0m \u001b[38;5;28mself\u001b[39m\u001b[38;5;241m.\u001b[39mmodule, \u001b[38;5;28mself\u001b[39m\u001b[38;5;241m.\u001b[39margTypes, extraMetadata \u001b[38;5;241m=\u001b[39m \u001b[43mcompile_to_mlir\u001b[49m\u001b[43m(\u001b[49m\n\u001b[1;32m    156\u001b[0m \u001b[43m    \u001b[49m\u001b[38;5;28;43mself\u001b[39;49m\u001b[38;5;241;43m.\u001b[39;49m\u001b[43mastModule\u001b[49m\u001b[43m,\u001b[49m\n\u001b[1;32m    157\u001b[0m \u001b[43m    \u001b[49m\u001b[38;5;28;43mself\u001b[39;49m\u001b[38;5;241;43m.\u001b[39;49m\u001b[43mmetadata\u001b[49m\u001b[43m,\u001b[49m\n\u001b[1;32m    158\u001b[0m \u001b[43m    \u001b[49m\u001b[43mverbose\u001b[49m\u001b[38;5;241;43m=\u001b[39;49m\u001b[38;5;28;43mself\u001b[39;49m\u001b[38;5;241;43m.\u001b[39;49m\u001b[43mverbose\u001b[49m\u001b[43m,\u001b[49m\n\u001b[1;32m    159\u001b[0m \u001b[43m    \u001b[49m\u001b[43mreturnType\u001b[49m\u001b[38;5;241;43m=\u001b[39;49m\u001b[38;5;28;43mself\u001b[39;49m\u001b[38;5;241;43m.\u001b[39;49m\u001b[43mreturnType\u001b[49m\u001b[43m,\u001b[49m\n\u001b[1;32m    160\u001b[0m \u001b[43m    \u001b[49m\u001b[43mlocation\u001b[49m\u001b[38;5;241;43m=\u001b[39;49m\u001b[38;5;28;43mself\u001b[39;49m\u001b[38;5;241;43m.\u001b[39;49m\u001b[43mlocation\u001b[49m\u001b[43m,\u001b[49m\n\u001b[1;32m    161\u001b[0m \u001b[43m    \u001b[49m\u001b[43mparentVariables\u001b[49m\u001b[38;5;241;43m=\u001b[39;49m\u001b[38;5;28;43mself\u001b[39;49m\u001b[38;5;241;43m.\u001b[39;49m\u001b[43mglobalScopedVars\u001b[49m\u001b[43m)\u001b[49m\n\u001b[1;32m    163\u001b[0m \u001b[38;5;66;03m# Grab the dependent capture variables, if any\u001b[39;00m\n\u001b[1;32m    164\u001b[0m \u001b[38;5;28mself\u001b[39m\u001b[38;5;241m.\u001b[39mdependentCaptures \u001b[38;5;241m=\u001b[39m extraMetadata[\n\u001b[1;32m    165\u001b[0m     \u001b[38;5;124m'\u001b[39m\u001b[38;5;124mdependent_captures\u001b[39m\u001b[38;5;124m'\u001b[39m] \u001b[38;5;28;01mif\u001b[39;00m \u001b[38;5;124m'\u001b[39m\u001b[38;5;124mdependent_captures\u001b[39m\u001b[38;5;124m'\u001b[39m \u001b[38;5;129;01min\u001b[39;00m extraMetadata \u001b[38;5;28;01melse\u001b[39;00m \u001b[38;5;28;01mNone\u001b[39;00m\n",
      "File \u001b[0;32m/opt/nvidia/cudaq/cudaq/kernel/ast_bridge.py:2899\u001b[0m, in \u001b[0;36mcompile_to_mlir\u001b[0;34m(astModule, metadata, **kwargs)\u001b[0m\n\u001b[1;32m   2894\u001b[0m         PyASTBridge(existingModule\u001b[38;5;241m=\u001b[39mbridge\u001b[38;5;241m.\u001b[39mmodule,\n\u001b[1;32m   2895\u001b[0m                     locationOffset\u001b[38;5;241m=\u001b[39mdepKernels[funcName][\u001b[38;5;241m1\u001b[39m])\u001b[38;5;241m.\u001b[39mvisit(\n\u001b[1;32m   2896\u001b[0m                         depKernels[funcName][\u001b[38;5;241m0\u001b[39m])\n\u001b[1;32m   2898\u001b[0m \u001b[38;5;66;03m# Build the MLIR Module for this kernel\u001b[39;00m\n\u001b[0;32m-> 2899\u001b[0m \u001b[43mbridge\u001b[49m\u001b[38;5;241;43m.\u001b[39;49m\u001b[43mvisit\u001b[49m\u001b[43m(\u001b[49m\u001b[43mastModule\u001b[49m\u001b[43m)\u001b[49m\n\u001b[1;32m   2901\u001b[0m \u001b[38;5;28;01mif\u001b[39;00m verbose:\n\u001b[1;32m   2902\u001b[0m     \u001b[38;5;28mprint\u001b[39m(bridge\u001b[38;5;241m.\u001b[39mmodule)\n",
      "File \u001b[0;32m/usr/lib/python3.10/ast.py:418\u001b[0m, in \u001b[0;36mNodeVisitor.visit\u001b[0;34m(self, node)\u001b[0m\n\u001b[1;32m    416\u001b[0m method \u001b[38;5;241m=\u001b[39m \u001b[38;5;124m'\u001b[39m\u001b[38;5;124mvisit_\u001b[39m\u001b[38;5;124m'\u001b[39m \u001b[38;5;241m+\u001b[39m node\u001b[38;5;241m.\u001b[39m\u001b[38;5;18m__class__\u001b[39m\u001b[38;5;241m.\u001b[39m\u001b[38;5;18m__name__\u001b[39m\n\u001b[1;32m    417\u001b[0m visitor \u001b[38;5;241m=\u001b[39m \u001b[38;5;28mgetattr\u001b[39m(\u001b[38;5;28mself\u001b[39m, method, \u001b[38;5;28mself\u001b[39m\u001b[38;5;241m.\u001b[39mgeneric_visit)\n\u001b[0;32m--> 418\u001b[0m \u001b[38;5;28;01mreturn\u001b[39;00m \u001b[43mvisitor\u001b[49m\u001b[43m(\u001b[49m\u001b[43mnode\u001b[49m\u001b[43m)\u001b[49m\n",
      "File \u001b[0;32m/opt/nvidia/cudaq/cudaq/kernel/ast_bridge.py:563\u001b[0m, in \u001b[0;36mPyASTBridge.generic_visit\u001b[0;34m(self, node)\u001b[0m\n\u001b[1;32m    561\u001b[0m     \u001b[38;5;28;01mfor\u001b[39;00m item \u001b[38;5;129;01min\u001b[39;00m value:\n\u001b[1;32m    562\u001b[0m         \u001b[38;5;28;01mif\u001b[39;00m \u001b[38;5;28misinstance\u001b[39m(item, ast\u001b[38;5;241m.\u001b[39mAST):\n\u001b[0;32m--> 563\u001b[0m             \u001b[38;5;28;43mself\u001b[39;49m\u001b[38;5;241;43m.\u001b[39;49m\u001b[43mvisit\u001b[49m\u001b[43m(\u001b[49m\u001b[43mitem\u001b[49m\u001b[43m)\u001b[49m\n\u001b[1;32m    564\u001b[0m \u001b[38;5;28;01melif\u001b[39;00m \u001b[38;5;28misinstance\u001b[39m(value, ast\u001b[38;5;241m.\u001b[39mAST):\n\u001b[1;32m    565\u001b[0m     \u001b[38;5;28mself\u001b[39m\u001b[38;5;241m.\u001b[39mvisit(value)\n",
      "File \u001b[0;32m/usr/lib/python3.10/ast.py:418\u001b[0m, in \u001b[0;36mNodeVisitor.visit\u001b[0;34m(self, node)\u001b[0m\n\u001b[1;32m    416\u001b[0m method \u001b[38;5;241m=\u001b[39m \u001b[38;5;124m'\u001b[39m\u001b[38;5;124mvisit_\u001b[39m\u001b[38;5;124m'\u001b[39m \u001b[38;5;241m+\u001b[39m node\u001b[38;5;241m.\u001b[39m\u001b[38;5;18m__class__\u001b[39m\u001b[38;5;241m.\u001b[39m\u001b[38;5;18m__name__\u001b[39m\n\u001b[1;32m    417\u001b[0m visitor \u001b[38;5;241m=\u001b[39m \u001b[38;5;28mgetattr\u001b[39m(\u001b[38;5;28mself\u001b[39m, method, \u001b[38;5;28mself\u001b[39m\u001b[38;5;241m.\u001b[39mgeneric_visit)\n\u001b[0;32m--> 418\u001b[0m \u001b[38;5;28;01mreturn\u001b[39;00m \u001b[43mvisitor\u001b[49m\u001b[43m(\u001b[49m\u001b[43mnode\u001b[49m\u001b[43m)\u001b[49m\n",
      "File \u001b[0;32m/opt/nvidia/cudaq/cudaq/kernel/ast_bridge.py:668\u001b[0m, in \u001b[0;36mPyASTBridge.visit_FunctionDef\u001b[0;34m(self, node)\u001b[0m\n\u001b[1;32m    666\u001b[0m         \u001b[38;5;28;01mif\u001b[39;00m \u001b[38;5;28misinstance\u001b[39m(constant\u001b[38;5;241m.\u001b[39mvalue, \u001b[38;5;28mstr\u001b[39m):\n\u001b[1;32m    667\u001b[0m             startIdx \u001b[38;5;241m=\u001b[39m \u001b[38;5;241m1\u001b[39m\n\u001b[0;32m--> 668\u001b[0m [\u001b[38;5;28mself\u001b[39m\u001b[38;5;241m.\u001b[39mvisit(n) \u001b[38;5;28;01mfor\u001b[39;00m n \u001b[38;5;129;01min\u001b[39;00m node\u001b[38;5;241m.\u001b[39mbody[startIdx:]]\n\u001b[1;32m    669\u001b[0m \u001b[38;5;66;03m# Add the return operation\u001b[39;00m\n\u001b[1;32m    670\u001b[0m \u001b[38;5;28;01mif\u001b[39;00m \u001b[38;5;129;01mnot\u001b[39;00m \u001b[38;5;28mself\u001b[39m\u001b[38;5;241m.\u001b[39mhasTerminator(\u001b[38;5;28mself\u001b[39m\u001b[38;5;241m.\u001b[39mentry):\n",
      "File \u001b[0;32m/opt/nvidia/cudaq/cudaq/kernel/ast_bridge.py:668\u001b[0m, in \u001b[0;36m<listcomp>\u001b[0;34m(.0)\u001b[0m\n\u001b[1;32m    666\u001b[0m         \u001b[38;5;28;01mif\u001b[39;00m \u001b[38;5;28misinstance\u001b[39m(constant\u001b[38;5;241m.\u001b[39mvalue, \u001b[38;5;28mstr\u001b[39m):\n\u001b[1;32m    667\u001b[0m             startIdx \u001b[38;5;241m=\u001b[39m \u001b[38;5;241m1\u001b[39m\n\u001b[0;32m--> 668\u001b[0m [\u001b[38;5;28;43mself\u001b[39;49m\u001b[38;5;241;43m.\u001b[39;49m\u001b[43mvisit\u001b[49m\u001b[43m(\u001b[49m\u001b[43mn\u001b[49m\u001b[43m)\u001b[49m \u001b[38;5;28;01mfor\u001b[39;00m n \u001b[38;5;129;01min\u001b[39;00m node\u001b[38;5;241m.\u001b[39mbody[startIdx:]]\n\u001b[1;32m    669\u001b[0m \u001b[38;5;66;03m# Add the return operation\u001b[39;00m\n\u001b[1;32m    670\u001b[0m \u001b[38;5;28;01mif\u001b[39;00m \u001b[38;5;129;01mnot\u001b[39;00m \u001b[38;5;28mself\u001b[39m\u001b[38;5;241m.\u001b[39mhasTerminator(\u001b[38;5;28mself\u001b[39m\u001b[38;5;241m.\u001b[39mentry):\n",
      "File \u001b[0;32m/usr/lib/python3.10/ast.py:418\u001b[0m, in \u001b[0;36mNodeVisitor.visit\u001b[0;34m(self, node)\u001b[0m\n\u001b[1;32m    416\u001b[0m method \u001b[38;5;241m=\u001b[39m \u001b[38;5;124m'\u001b[39m\u001b[38;5;124mvisit_\u001b[39m\u001b[38;5;124m'\u001b[39m \u001b[38;5;241m+\u001b[39m node\u001b[38;5;241m.\u001b[39m\u001b[38;5;18m__class__\u001b[39m\u001b[38;5;241m.\u001b[39m\u001b[38;5;18m__name__\u001b[39m\n\u001b[1;32m    417\u001b[0m visitor \u001b[38;5;241m=\u001b[39m \u001b[38;5;28mgetattr\u001b[39m(\u001b[38;5;28mself\u001b[39m, method, \u001b[38;5;28mself\u001b[39m\u001b[38;5;241m.\u001b[39mgeneric_visit)\n\u001b[0;32m--> 418\u001b[0m \u001b[38;5;28;01mreturn\u001b[39;00m \u001b[43mvisitor\u001b[49m\u001b[43m(\u001b[49m\u001b[43mnode\u001b[49m\u001b[43m)\u001b[49m\n",
      "File \u001b[0;32m/opt/nvidia/cudaq/cudaq/kernel/ast_bridge.py:764\u001b[0m, in \u001b[0;36mPyASTBridge.visit_Assign\u001b[0;34m(self, node)\u001b[0m\n\u001b[1;32m    762\u001b[0m \u001b[38;5;28;01mif\u001b[39;00m \u001b[38;5;28misinstance\u001b[39m(node\u001b[38;5;241m.\u001b[39mtargets[\u001b[38;5;241m0\u001b[39m], ast\u001b[38;5;241m.\u001b[39mName):\n\u001b[1;32m    763\u001b[0m     \u001b[38;5;28mself\u001b[39m\u001b[38;5;241m.\u001b[39mcurrentAssignVariableName \u001b[38;5;241m=\u001b[39m \u001b[38;5;28mstr\u001b[39m(node\u001b[38;5;241m.\u001b[39mtargets[\u001b[38;5;241m0\u001b[39m]\u001b[38;5;241m.\u001b[39mid)\n\u001b[0;32m--> 764\u001b[0m     \u001b[38;5;28;43mself\u001b[39;49m\u001b[38;5;241;43m.\u001b[39;49m\u001b[43mvisit\u001b[49m\u001b[43m(\u001b[49m\u001b[43mnode\u001b[49m\u001b[38;5;241;43m.\u001b[39;49m\u001b[43mvalue\u001b[49m\u001b[43m)\u001b[49m\n\u001b[1;32m    765\u001b[0m     \u001b[38;5;28mself\u001b[39m\u001b[38;5;241m.\u001b[39mcurrentAssignVariableName \u001b[38;5;241m=\u001b[39m \u001b[38;5;28;01mNone\u001b[39;00m\n\u001b[1;32m    766\u001b[0m \u001b[38;5;66;03m# Handle assignments like `listVar[IDX] = VALUE`\u001b[39;00m\n\u001b[1;32m    767\u001b[0m \u001b[38;5;66;03m# `listVAR` must be in the symbol table\u001b[39;00m\n",
      "File \u001b[0;32m/usr/lib/python3.10/ast.py:418\u001b[0m, in \u001b[0;36mNodeVisitor.visit\u001b[0;34m(self, node)\u001b[0m\n\u001b[1;32m    416\u001b[0m method \u001b[38;5;241m=\u001b[39m \u001b[38;5;124m'\u001b[39m\u001b[38;5;124mvisit_\u001b[39m\u001b[38;5;124m'\u001b[39m \u001b[38;5;241m+\u001b[39m node\u001b[38;5;241m.\u001b[39m\u001b[38;5;18m__class__\u001b[39m\u001b[38;5;241m.\u001b[39m\u001b[38;5;18m__name__\u001b[39m\n\u001b[1;32m    417\u001b[0m visitor \u001b[38;5;241m=\u001b[39m \u001b[38;5;28mgetattr\u001b[39m(\u001b[38;5;28mself\u001b[39m, method, \u001b[38;5;28mself\u001b[39m\u001b[38;5;241m.\u001b[39mgeneric_visit)\n\u001b[0;32m--> 418\u001b[0m \u001b[38;5;28;01mreturn\u001b[39;00m \u001b[43mvisitor\u001b[49m\u001b[43m(\u001b[49m\u001b[43mnode\u001b[49m\u001b[43m)\u001b[49m\n",
      "File \u001b[0;32m/opt/nvidia/cudaq/cudaq/kernel/ast_bridge.py:2812\u001b[0m, in \u001b[0;36mPyASTBridge.visit_Name\u001b[0;34m(self, node)\u001b[0m\n\u001b[1;32m   2809\u001b[0m             \u001b[38;5;28mself\u001b[39m\u001b[38;5;241m.\u001b[39mpushValue(stackSlot)\n\u001b[1;32m   2810\u001b[0m             \u001b[38;5;28;01mreturn\u001b[39;00m\n\u001b[0;32m-> 2812\u001b[0m     \u001b[38;5;28;43mself\u001b[39;49m\u001b[38;5;241;43m.\u001b[39;49m\u001b[43memitFatalError\u001b[49m\u001b[43m(\u001b[49m\n\u001b[1;32m   2813\u001b[0m \u001b[43m        \u001b[49m\u001b[38;5;124;43mf\u001b[39;49m\u001b[38;5;124;43m\"\u001b[39;49m\u001b[38;5;124;43mInvalid type for variable (\u001b[39;49m\u001b[38;5;132;43;01m{\u001b[39;49;00m\u001b[43mnode\u001b[49m\u001b[38;5;241;43m.\u001b[39;49m\u001b[43mid\u001b[49m\u001b[38;5;132;43;01m}\u001b[39;49;00m\u001b[38;5;124;43m) captured from parent scope (only int, bool, float, and list[int|bool|float] accepted, type was \u001b[39;49m\u001b[38;5;132;43;01m{\u001b[39;49;00m\u001b[38;5;28;43mtype\u001b[39;49m\u001b[43m(\u001b[49m\u001b[43mvalue\u001b[49m\u001b[43m)\u001b[49m\u001b[38;5;132;43;01m}\u001b[39;49;00m\u001b[38;5;124;43m).\u001b[39;49m\u001b[38;5;124;43m\"\u001b[39;49m\u001b[43m,\u001b[49m\n\u001b[1;32m   2814\u001b[0m \u001b[43m        \u001b[49m\u001b[43mnode\u001b[49m\u001b[43m)\u001b[49m\n\u001b[1;32m   2816\u001b[0m \u001b[38;5;66;03m# Throw an exception for the case that the name is not\u001b[39;00m\n\u001b[1;32m   2817\u001b[0m \u001b[38;5;66;03m# in the symbol table\u001b[39;00m\n\u001b[1;32m   2818\u001b[0m \u001b[38;5;28mself\u001b[39m\u001b[38;5;241m.\u001b[39memitFatalError(\n\u001b[1;32m   2819\u001b[0m     \u001b[38;5;124mf\u001b[39m\u001b[38;5;124m\"\u001b[39m\u001b[38;5;124mInvalid variable name requested - \u001b[39m\u001b[38;5;124m'\u001b[39m\u001b[38;5;132;01m{\u001b[39;00mnode\u001b[38;5;241m.\u001b[39mid\u001b[38;5;132;01m}\u001b[39;00m\u001b[38;5;124m'\u001b[39m\u001b[38;5;124m is not defined within the quantum kernel it is used in.\u001b[39m\u001b[38;5;124m\"\u001b[39m,\n\u001b[1;32m   2820\u001b[0m     node)\n",
      "File \u001b[0;32m/opt/nvidia/cudaq/cudaq/kernel/ast_bridge.py:169\u001b[0m, in \u001b[0;36mPyASTBridge.emitFatalError\u001b[0;34m(self, msg, astNode)\u001b[0m\n\u001b[1;32m    163\u001b[0m \u001b[38;5;28mprint\u001b[39m(Color\u001b[38;5;241m.\u001b[39mBOLD, end\u001b[38;5;241m=\u001b[39m\u001b[38;5;124m'\u001b[39m\u001b[38;5;124m'\u001b[39m)\n\u001b[1;32m    164\u001b[0m msg \u001b[38;5;241m=\u001b[39m codeFile \u001b[38;5;241m+\u001b[39m \u001b[38;5;124m\"\u001b[39m\u001b[38;5;124m:\u001b[39m\u001b[38;5;124m\"\u001b[39m \u001b[38;5;241m+\u001b[39m \u001b[38;5;28mstr\u001b[39m(\n\u001b[1;32m    165\u001b[0m     lineNumber\n\u001b[1;32m    166\u001b[0m ) \u001b[38;5;241m+\u001b[39m \u001b[38;5;124m\"\u001b[39m\u001b[38;5;124m: \u001b[39m\u001b[38;5;124m\"\u001b[39m \u001b[38;5;241m+\u001b[39m Color\u001b[38;5;241m.\u001b[39mRED \u001b[38;5;241m+\u001b[39m \u001b[38;5;124m\"\u001b[39m\u001b[38;5;124merror: \u001b[39m\u001b[38;5;124m\"\u001b[39m \u001b[38;5;241m+\u001b[39m Color\u001b[38;5;241m.\u001b[39mEND \u001b[38;5;241m+\u001b[39m Color\u001b[38;5;241m.\u001b[39mBOLD \u001b[38;5;241m+\u001b[39m msg \u001b[38;5;241m+\u001b[39m (\n\u001b[1;32m    167\u001b[0m     \u001b[38;5;124m\"\u001b[39m\u001b[38;5;130;01m\\n\u001b[39;00m\u001b[38;5;130;01m\\t\u001b[39;00m\u001b[38;5;124m (offending source -> \u001b[39m\u001b[38;5;124m\"\u001b[39m \u001b[38;5;241m+\u001b[39m ast\u001b[38;5;241m.\u001b[39munparse(astNode) \u001b[38;5;241m+\u001b[39m \u001b[38;5;124m\"\u001b[39m\u001b[38;5;124m)\u001b[39m\u001b[38;5;124m\"\u001b[39m \u001b[38;5;28;01mif\u001b[39;00m\n\u001b[1;32m    168\u001b[0m     \u001b[38;5;28mhasattr\u001b[39m(ast, \u001b[38;5;124m'\u001b[39m\u001b[38;5;124munparse\u001b[39m\u001b[38;5;124m'\u001b[39m) \u001b[38;5;129;01mand\u001b[39;00m astNode \u001b[38;5;129;01mis\u001b[39;00m \u001b[38;5;129;01mnot\u001b[39;00m \u001b[38;5;28;01mNone\u001b[39;00m \u001b[38;5;28;01melse\u001b[39;00m \u001b[38;5;124m'\u001b[39m\u001b[38;5;124m'\u001b[39m) \u001b[38;5;241m+\u001b[39m Color\u001b[38;5;241m.\u001b[39mEND\n\u001b[0;32m--> 169\u001b[0m \u001b[38;5;28;01mraise\u001b[39;00m CompilerError(msg)\n",
      "\u001b[0;31mCompilerError\u001b[0m: 443249349.py:17: \u001b[91merror: \u001b[0m\u001b[1mInvalid type for variable (U) captured from parent scope (only int, bool, float, and list[int|bool|float] accepted, type was <class 'list'>).\n\t (offending source -> U)\u001b[0m"
     ]
    }
   ],
   "source": [
    "# Define a test matrix A and vector b\n",
    "A = np.array([[4, 1], [1, 3]], dtype=float)\n",
    "b = np.array([1, 2], dtype=float)\n",
    "\n",
    "solver = QuantumSolverQSVT(A, b)\n",
    "\n",
    "\n",
    "Ub = solver._state_preparation_b()\n",
    "\n",
    "U = solver._block_encode_A()\n",
    "\n",
    "A=U.tolist()\n",
    "print(A)\n",
    "\n",
    "#Pi=np.zeros(solver.d, solver.numAncilla + solver.numFlag, solver.numAncilla + solver.numFlag)\n",
    "\n",
    "#Pi= solver.Pi_phi(0)\n",
    "\n",
    "# for k in range(0,solver.d):\n",
    "#     Pi[k, :,:] = solver.Pi_phi(k)\n",
    "\n",
    "x = solver.solve(A)\n"
   ]
  },
  {
   "cell_type": "code",
   "execution_count": null,
   "metadata": {},
   "outputs": [],
   "source": [
    "u = solver._block_encode_A()"
   ]
  },
  {
   "cell_type": "code",
   "execution_count": null,
   "metadata": {},
   "outputs": [
    {
     "data": {
      "text/plain": [
       "array([[ 1.00000000e+00,  3.40761042e-17, -6.25890399e-18,\n",
       "        -5.62634324e-17],\n",
       "       [ 3.40761042e-17,  1.00000000e+00,  3.20364067e-17,\n",
       "        -1.10208052e-17],\n",
       "       [-6.25890399e-18,  3.20364067e-17,  1.00000000e+00,\n",
       "         3.82747757e-17],\n",
       "       [-5.62634324e-17, -1.10208052e-17,  3.82747757e-17,\n",
       "         1.00000000e+00]])"
      ]
     },
     "execution_count": 96,
     "metadata": {},
     "output_type": "execute_result"
    }
   ],
   "source": [
    "u.T.conj() @ u"
   ]
  },
  {
   "cell_type": "code",
   "execution_count": null,
   "metadata": {},
   "outputs": [
    {
     "name": "stdout",
     "output_type": "stream",
     "text": [
      "b=19, j0=13\n",
      "[PolyOneOverX] minimum [-2.82888078] is at [-0.25849557]: normalizing\n",
      "[sym_qsp] Iterative optimization to err 1.000e-12 or max_iter 1000.\n",
      "iter: 001 --- err: 1.950e-01\n"
     ]
    },
    {
     "name": "stdout",
     "output_type": "stream",
     "text": [
      "iter: 002 --- err: 2.575e-02\n",
      "iter: 003 --- err: 9.790e-04\n",
      "iter: 004 --- err: 1.707e-06\n",
      "iter: 005 --- err: 5.266e-12\n",
      "iter: 006 --- err: 1.169e-15\n",
      "[sym_qsp] Stop criteria satisfied.\n"
     ]
    },
    {
     "ename": "TypeError",
     "evalue": "QuantumSolverQSVT.solve() missing 1 required positional argument: 'U'",
     "output_type": "error",
     "traceback": [
      "\u001b[0;31m---------------------------------------------------------------------------\u001b[0m",
      "\u001b[0;31mTypeError\u001b[0m                                 Traceback (most recent call last)",
      "Cell \u001b[0;32mIn[97], line 5\u001b[0m\n\u001b[1;32m      2\u001b[0m quantum_solver \u001b[38;5;241m=\u001b[39m QuantumSolverQSVT(A, b)\n\u001b[1;32m      4\u001b[0m \u001b[38;5;66;03m# Solve the system\u001b[39;00m\n\u001b[0;32m----> 5\u001b[0m quantum_solution \u001b[38;5;241m=\u001b[39m \u001b[43mquantum_solver\u001b[49m\u001b[38;5;241;43m.\u001b[39;49m\u001b[43msolve\u001b[49m\u001b[43m(\u001b[49m\u001b[43m)\u001b[49m\n\u001b[1;32m      6\u001b[0m \u001b[38;5;28mprint\u001b[39m(\u001b[38;5;124m\"\u001b[39m\u001b[38;5;124mSolution vector x (QuantumSolverQSVT):\u001b[39m\u001b[38;5;124m\"\u001b[39m, quantum_solution)\n",
      "\u001b[0;31mTypeError\u001b[0m: QuantumSolverQSVT.solve() missing 1 required positional argument: 'U'"
     ]
    }
   ],
   "source": [
    "\n",
    "\n",
    "# Initialize the QSVT-based quantum solver with block encoding\n",
    "quantum_solver = QuantumSolverQSVT(A, b)\n",
    "\n",
    "# Solve the system\n",
    "quantum_solution = quantum_solver.solve()\n",
    "print(\"Solution vector x (QuantumSolverQSVT):\", quantum_solution)"
   ]
  },
  {
   "cell_type": "code",
   "execution_count": null,
   "metadata": {},
   "outputs": [],
   "source": [
    "# new code"
   ]
  }
 ],
 "metadata": {
  "kernelspec": {
   "display_name": "Python 3 (ipykernel)",
   "language": "python",
   "name": "python3"
  },
  "language_info": {
   "codemirror_mode": {
    "name": "ipython",
    "version": 3
   },
   "file_extension": ".py",
   "mimetype": "text/x-python",
   "name": "python",
   "nbconvert_exporter": "python",
   "pygments_lexer": "ipython3",
   "version": "3.10.12"
  }
 },
 "nbformat": 4,
 "nbformat_minor": 2
}
