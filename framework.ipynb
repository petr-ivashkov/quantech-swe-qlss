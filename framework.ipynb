{
 "cells": [
  {
   "cell_type": "code",
   "execution_count": 438,
   "metadata": {},
   "outputs": [],
   "source": [
    "import numpy as np\n",
    "import scipy.linalg\n",
    "\n",
    "import poly\n",
    "import sym_qsp_opt\n",
    " \n",
    "import matplotlib.pyplot as plt\n",
    "import cudaq"
   ]
  },
  {
   "cell_type": "code",
   "execution_count": 439,
   "metadata": {},
   "outputs": [],
   "source": [
    "# Classical Linear System Solver\n",
    "class ClassicalSolver:\n",
    "    def __init__(self, A, b):\n",
    "        self.A = A\n",
    "        self.b = b\n",
    "\n",
    "    def solve(self):\n",
    "        \"\"\"\n",
    "        Solves the linear system Ax = b using a classical solver.\n",
    "        \n",
    "        Returns:\n",
    "            x: Solution vector.\n",
    "        \"\"\"\n",
    "        x = scipy.linalg.solve(self.A, self.b)  # Using SciPy's solver for Ax = b\n",
    "        return x"
   ]
  },
  {
   "cell_type": "code",
   "execution_count": 440,
   "metadata": {},
   "outputs": [],
   "source": [
    "class QuantumCircuit:\n",
    "    \"\"\"Allows the quantum circuit to input data, output expectation values\n",
    "    and calculate gradients of variational parameters via finite difference\"\"\"\n",
    "\n",
    "    def __init__(self, U_A, U_b):\n",
    "        \"\"\"Define the quantum circuit in CUDA Quantum\"\"\"\n",
    "        @cudaq.kernel\n",
    "        def kernel(U_A:list[float], U_b:list[float]):\n",
    "            qubits = cudaq.qvector(2)\n",
    "\n",
    "            L=U\n",
    "            G=B\n",
    "            h(qubits[0])\n",
    "\n",
    "            mz(qubits)\n",
    "\n",
    "        self.kernel = kernel\n",
    "\n",
    "    def run(self, U_A, U_b):\n",
    "        result = cudaq.sample(self.kernel, U_A, U_b)\n",
    "        #print(cudaq.draw(self.kernel, U_A, U_b))\n",
    "        return result"
   ]
  },
  {
   "cell_type": "code",
   "execution_count": 441,
   "metadata": {},
   "outputs": [],
   "source": [
    "class QuantumSolverQSVT:\n",
    "    def __init__(self, A, b, epsilon=1e-2, phases=None):\n",
    "        \"\"\"\n",
    "        Initializes the QuantumSolverQSVT with matrix A and vector b.\n",
    "        \n",
    "        Parameters:\n",
    "            A (numpy.ndarray): The coefficient matrix for the linear system.\n",
    "            b (numpy.ndarray): The right-hand side vector of the linear system.\n",
    "        \"\"\"\n",
    "        self.A = A\n",
    "        self.b = b\n",
    "        # TODO: alpha and kappa may need to be replaced by their respective upper bounds\n",
    "        self.alpha = np.linalg.norm(A, ord=2)  # Spectral norm\n",
    "        self.A_rescaled = self.A / self.alpha\n",
    "        self.kappa = np.linalg.cond(A) # Condition number\n",
    "        self.b_norm = np.linalg.norm(b) # Normalization \n",
    "        self.epsilon = epsilon # Desired presision\n",
    "        self.N = len(b)\n",
    "        self.n = int(np.log2(self.N))\n",
    "        self.m = 1 # Number of ancillas for the blocj-encoding of A\n",
    "\n",
    "        if phases is None:\n",
    "            pg = poly.PolyOneOverX()\n",
    "            pcoefs, scale = pg.generate(kappa=self.kappa, \n",
    "                                        epsilon=self.epsilon, \n",
    "                                        chebyshev_basis=True, \n",
    "                                        return_scale=True)\n",
    "            # Using odd parity and instantiating desired coefficeints.\n",
    "            parity = 1\n",
    "            coef = pcoefs[parity::2]\n",
    "            # Optimize to the desired function using Newton solver.\n",
    "            crit = 1e-12\n",
    "            (phases, err, total_iter, qsp_seq_opt) = sym_qsp_opt.newton_solver(coef, parity, crit=crit)\n",
    "        self.phases = phases    \n",
    "\n",
    "    def _block_encode_A(self):\n",
    "        \"\"\"\n",
    "        Creates a block-encoded unitary matrix U that embeds A / alpha in its top-left block.\n",
    "        \"\"\"\n",
    "        I = np.eye(self.A_rescaled.shape[0])\n",
    "        top_right_block = scipy.linalg.sqrtm(I - self.A_rescaled @ self.A_rescaled.T.conj())\n",
    "        bottom_left_block = scipy.linalg.sqrtm(I - self.A_rescaled.T.conj() @ self.A_rescaled)\n",
    "\n",
    "        U = np.block([[self.A_rescaled, top_right_block],\n",
    "                      [bottom_left_block, -1*self.A_rescaled.T.conj()]])\n",
    "        return U\n",
    "\n",
    "    def _state_preparation_b(self):\n",
    "        \"\"\"\n",
    "        Creates a state-preparation unitary matrix Q s.t. Q|0> = |b> / ||b>|\n",
    "        \"\"\"\n",
    "        B = np.column_stack((self.b / self.b_norm, np.random.randn(self.N, self.N - 1)))\n",
    "        # Apply QR decomposition to B to get an orthonormal basis\n",
    "        # The Q matrix from the QR decomposition will be unitary, and the first column will be b\n",
    "        Q, _ = scipy.linalg.qr(B, mode='economic')\n",
    "        return Q\n",
    "\n",
    "    def Pi_phi(self,k):\n",
    "        \"\"\"\n",
    "        Input:\n",
    "        angles phi: vector of dim d/2 where d is the degree of poly that approximate 1/x\n",
    "\n",
    "        Output:\n",
    "        Unitary matrix Pi_phi=e^(i*phi*(2*Pi-I)) (eq 27)\n",
    "\n",
    "        \"\"\"\n",
    "        diagonal= -1*self.phases[k]\n",
    "        diagonal[0]=diagonal[0]*-1\n",
    "        exp_diagonal = np.exp(1j * diagonal)\n",
    "\n",
    "        # Create the matrix with np.diag()\n",
    "        Pi = np.diag(exp_diagonal)\n",
    "\n",
    "        return Pi\n",
    "\n",
    "    def _P(self, phi):\n",
    "        dim = int(2**self.m)\n",
    "        P = np.diag([np.exp(-1j*phi)] + [np.exp(1j*phi)]*(dim-1))\n",
    "        return P\n",
    "    \n",
    "    def solve(self):\n",
    "        \"\"\"\n",
    "        Solves the system Ax = b using a QSVT-based inversion (placeholder).\n",
    "        \n",
    "        Returns:\n",
    "            x (numpy.ndarray): Solution vector, as if from a QSVT inversion.\n",
    "        \"\"\"\n",
    "\n",
    "        num_qubits = self.n + self.m\n",
    "        U_b = self._state_preparation_b()\n",
    "        U_A = self._block_encode_A()\n",
    "\n",
    "        Pi=np.zeros((len(self.phases), 2**self.n, 2**self.n))\n",
    "        i=0\n",
    "        for phi in self.phases[1:]:\n",
    "            Pi[i,:,:]=self._P(phi)\n",
    "            i=i+1 \n",
    "\n",
    "            \n",
    "        print(U_b.shape)\n",
    "        print(U_A.shape)\n",
    "        \n",
    "        print(\"create obj\")\n",
    "        quantum_circuit = QuantumCircuit(U_A, U_b)\n",
    "        #print(cudaq.draw(quantum_circuit.kernel,U_A))\n",
    "        print(\"run circuit\")\n",
    "        x = quantum_circuit.run(U_A, U_b)\n",
    "\n",
    "        return x"
   ]
  },
  {
   "cell_type": "code",
   "execution_count": 442,
   "metadata": {},
   "outputs": [
    {
     "name": "stdout",
     "output_type": "stream",
     "text": [
      "b=19, j0=13\n",
      "[PolyOneOverX] minimum [-2.82888078] is at [-0.25849557]: normalizing\n",
      "[sym_qsp] Iterative optimization to err 1.000e-12 or max_iter 1000.\n",
      "iter: 001 --- err: 1.950e-01\n",
      "iter: 002 --- err: 2.575e-02\n",
      "iter: 003 --- err: 9.790e-04\n"
     ]
    },
    {
     "name": "stdout",
     "output_type": "stream",
     "text": [
      "iter: 004 --- err: 1.707e-06\n",
      "iter: 005 --- err: 5.266e-12\n",
      "iter: 006 --- err: 1.169e-15\n",
      "[sym_qsp] Stop criteria satisfied.\n",
      "(2, 2)\n",
      "(4, 4)\n",
      "create obj\n",
      "run circuit\n"
     ]
    },
    {
     "name": "stderr",
     "output_type": "stream",
     "text": [
      "/tmp/ipykernel_1701/3476029309.py:96: ComplexWarning: Casting complex values to real discards the imaginary part\n",
      "  Pi[i,:,:]=self._P(phi)\n"
     ]
    },
    {
     "ename": "IndexError",
     "evalue": "index 2 is out of bounds for axis 0 with size 2",
     "output_type": "error",
     "traceback": [
      "\u001b[0;31m---------------------------------------------------------------------------\u001b[0m",
      "\u001b[0;31mIndexError\u001b[0m                                Traceback (most recent call last)",
      "Cell \u001b[0;32mIn[442], line 7\u001b[0m\n\u001b[1;32m      3\u001b[0m b \u001b[38;5;241m=\u001b[39m np\u001b[38;5;241m.\u001b[39marray([[\u001b[38;5;241m1\u001b[39m, \u001b[38;5;241m2\u001b[39m],[\u001b[38;5;241m1\u001b[39m,\u001b[38;5;241m3\u001b[39m]], dtype\u001b[38;5;241m=\u001b[39m\u001b[38;5;28mfloat\u001b[39m)\n\u001b[1;32m      5\u001b[0m solver \u001b[38;5;241m=\u001b[39m QuantumSolverQSVT(A, b)\n\u001b[0;32m----> 7\u001b[0m x \u001b[38;5;241m=\u001b[39m \u001b[43msolver\u001b[49m\u001b[38;5;241;43m.\u001b[39;49m\u001b[43msolve\u001b[49m\u001b[43m(\u001b[49m\u001b[43m)\u001b[49m\n\u001b[1;32m      9\u001b[0m \u001b[38;5;28mprint\u001b[39m(x[\u001b[38;5;241m0\u001b[39m])\n",
      "Cell \u001b[0;32mIn[441], line 107\u001b[0m, in \u001b[0;36mQuantumSolverQSVT.solve\u001b[0;34m(self)\u001b[0m\n\u001b[1;32m    105\u001b[0m \u001b[38;5;66;03m#print(cudaq.draw(quantum_circuit.kernel,U_A))\u001b[39;00m\n\u001b[1;32m    106\u001b[0m \u001b[38;5;28mprint\u001b[39m(\u001b[38;5;124m\"\u001b[39m\u001b[38;5;124mrun circuit\u001b[39m\u001b[38;5;124m\"\u001b[39m)\n\u001b[0;32m--> 107\u001b[0m x \u001b[38;5;241m=\u001b[39m \u001b[43mquantum_circuit\u001b[49m\u001b[38;5;241;43m.\u001b[39;49m\u001b[43mrun\u001b[49m\u001b[43m(\u001b[49m\u001b[43mU_A\u001b[49m\u001b[43m,\u001b[49m\u001b[43m \u001b[49m\u001b[43mU_b\u001b[49m\u001b[43m)\u001b[49m\n\u001b[1;32m    109\u001b[0m \u001b[38;5;28;01mreturn\u001b[39;00m x\n",
      "Cell \u001b[0;32mIn[440], line 20\u001b[0m, in \u001b[0;36mQuantumCircuit.run\u001b[0;34m(self, U_A, U_b)\u001b[0m\n\u001b[1;32m     19\u001b[0m \u001b[38;5;28;01mdef\u001b[39;00m \u001b[38;5;21mrun\u001b[39m(\u001b[38;5;28mself\u001b[39m, U_A, U_b):\n\u001b[0;32m---> 20\u001b[0m     result \u001b[38;5;241m=\u001b[39m \u001b[43mcudaq\u001b[49m\u001b[38;5;241;43m.\u001b[39;49m\u001b[43msample\u001b[49m\u001b[43m(\u001b[49m\u001b[38;5;28;43mself\u001b[39;49m\u001b[38;5;241;43m.\u001b[39;49m\u001b[43mkernel\u001b[49m\u001b[43m,\u001b[49m\u001b[43m \u001b[49m\u001b[43mU_A\u001b[49m\u001b[43m,\u001b[49m\u001b[43m \u001b[49m\u001b[43mU_b\u001b[49m\u001b[43m)\u001b[49m\n\u001b[1;32m     21\u001b[0m     \u001b[38;5;66;03m#print(cudaq.draw(self.kernel, U_A, U_b))\u001b[39;00m\n\u001b[1;32m     22\u001b[0m     \u001b[38;5;28;01mreturn\u001b[39;00m result\n",
      "File \u001b[0;32m/opt/nvidia/cudaq/cudaq/runtime/sample.py:62\u001b[0m, in \u001b[0;36msample\u001b[0;34m(kernel, shots_count, noise_model, *args)\u001b[0m\n\u001b[1;32m     59\u001b[0m     cudaq_runtime\u001b[38;5;241m.\u001b[39mset_noise(noise_model)\n\u001b[1;32m     61\u001b[0m \u001b[38;5;28;01mif\u001b[39;00m __isBroadcast(kernel, \u001b[38;5;241m*\u001b[39margs):\n\u001b[0;32m---> 62\u001b[0m     res \u001b[38;5;241m=\u001b[39m \u001b[43m__broadcastSample\u001b[49m\u001b[43m(\u001b[49m\u001b[43mkernel\u001b[49m\u001b[43m,\u001b[49m\u001b[43m \u001b[49m\u001b[38;5;241;43m*\u001b[39;49m\u001b[43margs\u001b[49m\u001b[43m,\u001b[49m\u001b[43m \u001b[49m\u001b[43mshots_count\u001b[49m\u001b[38;5;241;43m=\u001b[39;49m\u001b[43mshots_count\u001b[49m\u001b[43m)\u001b[49m\n\u001b[1;32m     63\u001b[0m     cudaq_runtime\u001b[38;5;241m.\u001b[39munset_noise()\n\u001b[1;32m     64\u001b[0m     \u001b[38;5;28;01mreturn\u001b[39;00m res\n",
      "File \u001b[0;32m/opt/nvidia/cudaq/cudaq/runtime/sample.py:14\u001b[0m, in \u001b[0;36m__broadcastSample\u001b[0;34m(kernel, shots_count, *args)\u001b[0m\n\u001b[1;32m     12\u001b[0m \u001b[38;5;28;01mdef\u001b[39;00m \u001b[38;5;21m__broadcastSample\u001b[39m(kernel, \u001b[38;5;241m*\u001b[39margs, shots_count\u001b[38;5;241m=\u001b[39m\u001b[38;5;241m0\u001b[39m):\n\u001b[1;32m     13\u001b[0m \u001b[38;5;250m    \u001b[39m\u001b[38;5;124;03m\"\"\"Implement broadcasting of a single sample call over an argument set.\"\"\"\u001b[39;00m\n\u001b[0;32m---> 14\u001b[0m     argSet \u001b[38;5;241m=\u001b[39m \u001b[43m__createArgumentSet\u001b[49m\u001b[43m(\u001b[49m\u001b[38;5;241;43m*\u001b[39;49m\u001b[43margs\u001b[49m\u001b[43m)\u001b[49m\n\u001b[1;32m     15\u001b[0m     N \u001b[38;5;241m=\u001b[39m \u001b[38;5;28mlen\u001b[39m(argSet)\n\u001b[1;32m     16\u001b[0m     results \u001b[38;5;241m=\u001b[39m []\n",
      "File \u001b[0;32m/opt/nvidia/cudaq/cudaq/runtime/utils.py:112\u001b[0m, in \u001b[0;36m__createArgumentSet\u001b[0;34m(*args)\u001b[0m\n\u001b[1;32m    110\u001b[0m shape \u001b[38;5;241m=\u001b[39m arg\u001b[38;5;241m.\u001b[39mshape\n\u001b[1;32m    111\u001b[0m \u001b[38;5;28;01mif\u001b[39;00m \u001b[38;5;28mlen\u001b[39m(shape) \u001b[38;5;241m==\u001b[39m \u001b[38;5;241m2\u001b[39m:\n\u001b[0;32m--> 112\u001b[0m     currentArgs[i] \u001b[38;5;241m=\u001b[39m \u001b[43marg\u001b[49m\u001b[43m[\u001b[49m\u001b[43mj\u001b[49m\u001b[43m]\u001b[49m\u001b[38;5;241m.\u001b[39mtolist()\n\u001b[1;32m    113\u001b[0m \u001b[38;5;28;01melse\u001b[39;00m:\n\u001b[1;32m    114\u001b[0m     currentArgs[i] \u001b[38;5;241m=\u001b[39m arg\u001b[38;5;241m.\u001b[39mtolist()[j]\n",
      "\u001b[0;31mIndexError\u001b[0m: index 2 is out of bounds for axis 0 with size 2"
     ]
    }
   ],
   "source": [
    "# Define a test matrix A and vector b\n",
    "A = np.array([[4, 1], [1, 3]], dtype=float)\n",
    "b = np.array([[1, 2],[1,3]], dtype=float)\n",
    "\n",
    "solver = QuantumSolverQSVT(A, b)\n",
    "\n",
    "x = solver.solve()\n",
    "\n",
    "print(x[0])\n",
    "\n"
   ]
  },
  {
   "cell_type": "code",
   "execution_count": null,
   "metadata": {},
   "outputs": [],
   "source": [
    "u = solver._block_encode_A()"
   ]
  },
  {
   "cell_type": "code",
   "execution_count": null,
   "metadata": {},
   "outputs": [
    {
     "data": {
      "text/plain": [
       "array([[ 1.00000000e+00,  3.40761042e-17, -6.25890399e-18,\n",
       "        -5.62634324e-17],\n",
       "       [ 3.40761042e-17,  1.00000000e+00,  3.20364067e-17,\n",
       "        -1.10208052e-17],\n",
       "       [-6.25890399e-18,  3.20364067e-17,  1.00000000e+00,\n",
       "         3.82747757e-17],\n",
       "       [-5.62634324e-17, -1.10208052e-17,  3.82747757e-17,\n",
       "         1.00000000e+00]])"
      ]
     },
     "execution_count": 380,
     "metadata": {},
     "output_type": "execute_result"
    }
   ],
   "source": [
    "u.T.conj() @ u"
   ]
  },
  {
   "cell_type": "code",
   "execution_count": null,
   "metadata": {},
   "outputs": [
    {
     "name": "stdout",
     "output_type": "stream",
     "text": [
      "b=19, j0=13\n",
      "[PolyOneOverX] minimum [-2.82888078] is at [-0.25849557]: normalizing\n",
      "[sym_qsp] Iterative optimization to err 1.000e-12 or max_iter 1000.\n",
      "iter: 001 --- err: 1.950e-01\n",
      "iter: 002 --- err: 2.575e-02\n",
      "iter: 003 --- err: 9.790e-04\n",
      "iter: 004 --- err: 1.707e-06\n",
      "iter: 005 --- err: 5.266e-12\n",
      "iter: 006 --- err: 1.169e-15\n",
      "[sym_qsp] Stop criteria satisfied.\n",
      "(2, 2)\n",
      "(4, 4)\n",
      "here\n",
      "here\n"
     ]
    },
    {
     "name": "stderr",
     "output_type": "stream",
     "text": [
      "/tmp/ipykernel_1701/2744258743.py:96: ComplexWarning: Casting complex values to real discards the imaginary part\n",
      "  Pi[i,:,:]=self._P(phi)\n"
     ]
    },
    {
     "name": "stdout",
     "output_type": "stream",
     "text": [
      "Solution vector x (QuantumSolverQSVT): [<cudaq.mlir._mlir_libs._quakeDialects.cudaq_runtime.SampleResult object at 0x7f49c1cd7630>, <cudaq.mlir._mlir_libs._quakeDialects.cudaq_runtime.SampleResult object at 0x7f49c024fe70>, <cudaq.mlir._mlir_libs._quakeDialects.cudaq_runtime.SampleResult object at 0x7f49c2d6b830>, <cudaq.mlir._mlir_libs._quakeDialects.cudaq_runtime.SampleResult object at 0x7f49c1d2aa70>]\n"
     ]
    }
   ],
   "source": [
    "\n",
    "\n",
    "# Initialize the QSVT-based quantum solver with block encoding\n",
    "quantum_solver = QuantumSolverQSVT(A, b)\n",
    "\n",
    "# Solve the system\n",
    "quantum_solution = quantum_solver.solve()\n",
    "print(\"Solution vector x (QuantumSolverQSVT):\", quantum_solution)"
   ]
  },
  {
   "cell_type": "code",
   "execution_count": null,
   "metadata": {},
   "outputs": [],
   "source": [
    "# new code"
   ]
  }
 ],
 "metadata": {
  "kernelspec": {
   "display_name": "Python 3 (ipykernel)",
   "language": "python",
   "name": "python3"
  },
  "language_info": {
   "codemirror_mode": {
    "name": "ipython",
    "version": 3
   },
   "file_extension": ".py",
   "mimetype": "text/x-python",
   "name": "python",
   "nbconvert_exporter": "python",
   "pygments_lexer": "ipython3",
   "version": "3.10.12"
  }
 },
 "nbformat": 4,
 "nbformat_minor": 2
}
