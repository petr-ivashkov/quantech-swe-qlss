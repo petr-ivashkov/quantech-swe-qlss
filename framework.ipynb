{
 "cells": [
  {
   "cell_type": "code",
   "execution_count": 45,
   "metadata": {},
   "outputs": [],
   "source": [
    "import numpy as np\n",
    "import scipy.linalg\n",
    "\n",
    "import poly\n",
    "import sym_qsp_opt\n",
    " \n",
    "import matplotlib.pyplot as plt\n",
    "import cudaq"
   ]
  },
  {
   "cell_type": "code",
   "execution_count": 46,
   "metadata": {},
   "outputs": [],
   "source": [
    "# Classical Linear System Solver\n",
    "class ClassicalSolver:\n",
    "    def __init__(self, A, b):\n",
    "        self.A = A\n",
    "        self.b = b\n",
    "\n",
    "    def solve(self):\n",
    "        \"\"\"\n",
    "        Solves the linear system Ax = b using a classical solver.\n",
    "        \n",
    "        Returns:\n",
    "            x: Solution vector.\n",
    "        \"\"\"\n",
    "        x = scipy.linalg.solve(self.A, self.b)  # Using SciPy's solver for Ax = b\n",
    "        return x"
   ]
  },
  {
   "cell_type": "code",
   "execution_count": 47,
   "metadata": {},
   "outputs": [],
   "source": [
    "class QuantumSolverQSVT:\n",
    "    def __init__(self, A, b, epsilon=1e-2, phases=None):\n",
    "        \"\"\"\n",
    "        Initializes the QuantumSolverQSVT with matrix A and vector b.\n",
    "        \n",
    "        Parameters:\n",
    "            A (numpy.ndarray): The coefficient matrix for the linear system.\n",
    "            b (numpy.ndarray): The right-hand side vector of the linear system.\n",
    "        \"\"\"\n",
    "        self.A = A\n",
    "        self.b = b\n",
    "        # TODO: alpha and kappa may need to be replaced by their respective upper bounds\n",
    "        self.alpha = np.linalg.norm(A, ord=2)  # Spectral norm\n",
    "        self.A_rescaled = self.A / self.alpha\n",
    "        self.kappa = np.linalg.cond(A) # Condition number\n",
    "        self.b_norm = np.linalg.norm(b) # Normalization \n",
    "        self.epsilon = epsilon # Desired presision\n",
    "        self.N = len(b)\n",
    "        self.n = int(np.log2(self.N))\n",
    "\n",
    "        if phases is None:\n",
    "            pg = poly.PolyOneOverX()\n",
    "            pcoefs, scale = pg.generate(kappa=self.kappa, \n",
    "                                        epsilon=self.epsilon, \n",
    "                                        chebyshev_basis=True, \n",
    "                                        return_scale=True)\n",
    "            # Using odd parity and instantiating desired coefficeints.\n",
    "            parity = 1\n",
    "            coef = pcoefs[parity::2]\n",
    "            # Optimize to the desired function using Newton solver.\n",
    "            crit = 1e-12\n",
    "            (phases, err, total_iter, qsp_seq_opt) = sym_qsp_opt.newton_solver(coef, parity, crit=crit)\n",
    "        self.phases = phases    \n",
    "\n",
    "    def _block_encode_A(self):\n",
    "        \"\"\"\n",
    "        Creates a block-encoded unitary matrix U that embeds A / alpha in its top-left block.\n",
    "        \"\"\"\n",
    "        I = np.eye(self.A_rescaled.shape[0])\n",
    "        top_right_block = scipy.linalg.sqrtm(I - self.A_rescaled @ self.A_rescaled.T.conj())\n",
    "        bottom_left_block = scipy.linalg.sqrtm(I - self.A_rescaled.T.conj() @ self.A_rescaled)\n",
    "\n",
    "        U = np.block([[self.A_rescaled, top_right_block],\n",
    "                      [bottom_left_block, -1*self.A_rescaled.T.conj()]])\n",
    "        return U\n",
    "\n",
    "    def _state_preparation_b(self):\n",
    "        \"\"\"\n",
    "        Creates a state-preparation unitary matrix Q s.t. Q|0> = |b> / ||b>|\n",
    "        \"\"\"\n",
    "        B = np.column_stack((self.b / self.b_norm, np.random.randn(self.N, self.N - 1)))\n",
    "        # Apply QR decomposition to B to get an orthonormal basis\n",
    "        # The Q matrix from the QR decomposition will be unitary, and the first column will be b\n",
    "        Q, _ = scipy.linalg.qr(B, mode='economic')\n",
    "        return Q\n",
    "\n",
    "    def Pi_phi(self,k):\n",
    "        \"\"\"\n",
    "        Input:\n",
    "        angles phi: vector of dim d/2 where d is the degree of poly that approximate 1/x\n",
    "\n",
    "        Output:\n",
    "        Unitary matrix Pi_phi=e^(i*phi*(2*Pi-I)) (eq 27)\n",
    "\n",
    "        \"\"\"\n",
    "        diagonal= -1*self.phases[k]\n",
    "        diagonal[0]=diagonal[0]*-1\n",
    "        exp_diagonal = np.exp(1j * diagonal)\n",
    "\n",
    "        # Create the matrix with np.diag()\n",
    "        Pi = np.diag(exp_diagonal)\n",
    "\n",
    "        return Pi\n",
    "    \n",
    "    def solve(self, U):\n",
    "        \"\"\"\n",
    "        Solves the system Ax = b using a QSVT-based inversion (placeholder).\n",
    "        \n",
    "        Returns:\n",
    "            x (numpy.ndarray): Solution vector, as if from a QSVT inversion.\n",
    "        \"\"\"\n",
    "\n",
    "        quantum_circuit = QuantumCircuit(U)\n",
    "        x = quantum_circuit.run(U)\n",
    "\n",
    "        return x"
   ]
  },
  {
   "cell_type": "code",
   "execution_count": 48,
   "metadata": {},
   "outputs": [],
   "source": [
    "class QuantumCircuit:\n",
    "    \"\"\"Allows the quantum circuit to input data, output expectation values\n",
    "    and calculate gradients of variational parameters via finite difference\"\"\"\n",
    "\n",
    "    def __init__(self, U):\n",
    "        \"\"\"Define the quantum circuit in CUDA Quantum\"\"\"\n",
    "\n",
    "        @cudaq.kernel\n",
    "        def kernel(U: list[float]):\n",
    "\n",
    "            # qb = kernel.qalloc(n)   # Qubits for the vector b\n",
    "            # ql = kernel.qalloc(2)   # Qubits Ancilla\n",
    "            # qf = kernel.qalloc(1)    # Flag qubit\n",
    "\n",
    "            qubits = cudaq.qvector(2)\n",
    "            B=U\n",
    "            h(qubits[0])\n",
    "\n",
    "            # cudaq.register_operation(\"Ub\", Ub)\n",
    "\n",
    "            \n",
    "            #cudaq.register_operation(\"U\", U)\n",
    "            # cudaq.register_operation(\"U_adj\", U.T.conj())\n",
    "\n",
    "            # for k in range(0,d):\n",
    "            #     cudaq.register_operation(f\"Pi_{k}\", Pi[k])\n",
    "\n",
    "            # Ub(qb)\n",
    "\n",
    "            # h(qf)\n",
    "            \n",
    "            # for k in range(0,d/2):\n",
    "            #     Pi=f\"Pi_{d-(k*2)}\"\n",
    "            #     Pi(qf,ql)\n",
    "            #     U(ql,qb)\n",
    "\n",
    "            #     Pi=f\"Pi_{d-(k*2+1)}\"\n",
    "            #     Pi(qf,ql)\n",
    "            #     U_adj(ql,qb)\n",
    "\n",
    "            # h(qf)\n",
    "\n",
    "            mz(qubits)\n",
    "            \n",
    "\n",
    "        self.kernel = kernel\n",
    "\n",
    "    def run(self, U )-> np.ndarray:\n",
    "        \"\"\"Excetute the quantum circuit to output an expectation value\"\"\"\n",
    "\n",
    "        result = cudaq.sample(self.kernel,U)\n",
    "\n",
    "        return result"
   ]
  },
  {
   "cell_type": "code",
   "execution_count": 49,
   "metadata": {},
   "outputs": [
    {
     "name": "stdout",
     "output_type": "stream",
     "text": [
      "b=19, j0=13\n",
      "[PolyOneOverX] minimum [-2.82888078] is at [-0.25849557]: normalizing\n",
      "[sym_qsp] Iterative optimization to err 1.000e-12 or max_iter 1000.\n",
      "iter: 001 --- err: 1.950e-01\n",
      "iter: 002 --- err: 2.575e-02\n",
      "iter: 003 --- err: 9.790e-04\n",
      "iter: 004 --- err: 1.707e-06\n",
      "iter: 005 --- err: 5.266e-12\n",
      "iter: 006 --- err: 1.169e-15\n",
      "[sym_qsp] Stop criteria satisfied.\n",
      "<class 'numpy.ndarray'>\n",
      "{ 00:503 10:497 }\n",
      "\n"
     ]
    }
   ],
   "source": [
    "# Define a test matrix A and vector b\n",
    "A = np.array([[4, 1], [1, 3]], dtype=float)\n",
    "b = np.array([1, 2], dtype=float)\n",
    "\n",
    "solver = QuantumSolverQSVT(A, b)\n",
    "\n",
    "\n",
    "Ub = solver._state_preparation_b()\n",
    "\n",
    "U = solver._block_encode_A()\n",
    "\n",
    "#Pi=np.zeros(solver.d, solver.numAncilla + solver.numFlag, solver.numAncilla + solver.numFlag)\n",
    "\n",
    "#Pi= solver.Pi_phi(0)\n",
    "\n",
    "# for k in range(0,solver.d):\n",
    "#     Pi[k, :,:] = solver.Pi_phi(k)\n",
    "print(type(U))\n",
    "\n",
    "x = solver.solve(U)\n",
    "print(x[0])\n",
    "\n"
   ]
  },
  {
   "cell_type": "code",
   "execution_count": 50,
   "metadata": {},
   "outputs": [],
   "source": [
    "u = solver._block_encode_A()"
   ]
  },
  {
   "cell_type": "code",
   "execution_count": 51,
   "metadata": {},
   "outputs": [
    {
     "data": {
      "text/plain": [
       "array([[ 1.00000000e+00,  3.40761042e-17, -6.25890399e-18,\n",
       "        -5.62634324e-17],\n",
       "       [ 3.40761042e-17,  1.00000000e+00,  3.20364067e-17,\n",
       "        -1.10208052e-17],\n",
       "       [-6.25890399e-18,  3.20364067e-17,  1.00000000e+00,\n",
       "         3.82747757e-17],\n",
       "       [-5.62634324e-17, -1.10208052e-17,  3.82747757e-17,\n",
       "         1.00000000e+00]])"
      ]
     },
     "execution_count": 51,
     "metadata": {},
     "output_type": "execute_result"
    }
   ],
   "source": [
    "u.T.conj() @ u"
   ]
  },
  {
   "cell_type": "code",
   "execution_count": 52,
   "metadata": {},
   "outputs": [
    {
     "name": "stdout",
     "output_type": "stream",
     "text": [
      "b=19, j0=13\n",
      "[PolyOneOverX] minimum [-2.82888078] is at [-0.25849557]: normalizing\n",
      "[sym_qsp] Iterative optimization to err 1.000e-12 or max_iter 1000.\n",
      "iter: 001 --- err: 1.950e-01\n",
      "iter: 002 --- err: 2.575e-02\n",
      "iter: 003 --- err: 9.790e-04\n",
      "iter: 004 --- err: 1.707e-06\n",
      "iter: 005 --- err: 5.266e-12\n",
      "iter: 006 --- err: 1.169e-15\n",
      "[sym_qsp] Stop criteria satisfied.\n"
     ]
    },
    {
     "ename": "TypeError",
     "evalue": "QuantumSolverQSVT.solve() missing 1 required positional argument: 'U'",
     "output_type": "error",
     "traceback": [
      "\u001b[0;31m---------------------------------------------------------------------------\u001b[0m",
      "\u001b[0;31mTypeError\u001b[0m                                 Traceback (most recent call last)",
      "Cell \u001b[0;32mIn[52], line 5\u001b[0m\n\u001b[1;32m      2\u001b[0m quantum_solver \u001b[38;5;241m=\u001b[39m QuantumSolverQSVT(A, b)\n\u001b[1;32m      4\u001b[0m \u001b[38;5;66;03m# Solve the system\u001b[39;00m\n\u001b[0;32m----> 5\u001b[0m quantum_solution \u001b[38;5;241m=\u001b[39m \u001b[43mquantum_solver\u001b[49m\u001b[38;5;241;43m.\u001b[39;49m\u001b[43msolve\u001b[49m\u001b[43m(\u001b[49m\u001b[43m)\u001b[49m\n\u001b[1;32m      6\u001b[0m \u001b[38;5;28mprint\u001b[39m(\u001b[38;5;124m\"\u001b[39m\u001b[38;5;124mSolution vector x (QuantumSolverQSVT):\u001b[39m\u001b[38;5;124m\"\u001b[39m, quantum_solution)\n",
      "\u001b[0;31mTypeError\u001b[0m: QuantumSolverQSVT.solve() missing 1 required positional argument: 'U'"
     ]
    }
   ],
   "source": [
    "\n",
    "\n",
    "# Initialize the QSVT-based quantum solver with block encoding\n",
    "quantum_solver = QuantumSolverQSVT(A, b)\n",
    "\n",
    "# Solve the system\n",
    "quantum_solution = quantum_solver.solve()\n",
    "print(\"Solution vector x (QuantumSolverQSVT):\", quantum_solution)"
   ]
  },
  {
   "cell_type": "code",
   "execution_count": null,
   "metadata": {},
   "outputs": [],
   "source": [
    "# new code"
   ]
  }
 ],
 "metadata": {
  "kernelspec": {
   "display_name": "Python 3 (ipykernel)",
   "language": "python",
   "name": "python3"
  },
  "language_info": {
   "codemirror_mode": {
    "name": "ipython",
    "version": 3
   },
   "file_extension": ".py",
   "mimetype": "text/x-python",
   "name": "python",
   "nbconvert_exporter": "python",
   "pygments_lexer": "ipython3",
   "version": "3.10.12"
  }
 },
 "nbformat": 4,
 "nbformat_minor": 2
}
